{
 "cells": [
  {
   "cell_type": "code",
   "execution_count": 1,
   "metadata": {
    "deletable": false,
    "editable": false
   },
   "outputs": [],
   "source": [
    "# Initialize Otter\n",
    "import otter\n",
    "grader = otter.Notebook(\"project.ipynb\")"
   ]
  },
  {
   "cell_type": "markdown",
   "metadata": {},
   "source": [
    "# Project 1 – Gradebook 💯\n",
    "\n",
    "## DSC 80, Winter 2024\n",
    "\n",
    "### Checkpoint Due Date: Saturday, January 20th (Questions 1-7)\n",
    "### Due Date: Saturday, January 27th"
   ]
  },
  {
   "cell_type": "markdown",
   "metadata": {},
   "source": [
    "## Instructions\n",
    "\n",
    "Welcome to Project 1! Be sure to read the instructions below carefully to understand how projects differ from labs."
   ]
  },
  {
   "cell_type": "markdown",
   "metadata": {},
   "source": [
    "### Working on the Project\n",
    "\n",
    "This Jupyter Notebook contains the statements of the problems and provides code and Markdown cells to display your answers to the problems.\n",
    "\n",
    "* Like the lab, your coding work will be developed in the accompanying `project.py` file, that will be imported into the current notebook. This code will be autograded.\n",
    "* There is no manually-graded component to Project 1, so the only thing you will ever submit is `project.py`.\n",
    "* **For the Checkpoint, which is required, you only need to turn in a `project.py` containing solutions for Questions 1-7!**\n",
    "    - The \"Project 1 Checkpoint\" autograder on Gradescope does not thoroughly check your code – it only runs the public tests on Questions 1-7 to make sure that you have completed them. There are no hidden tests for the checkpoint, and you will see your score upon submission. \n",
    "    - When you submit the final version of the project, however, we will use hidden tests to check your answers more thoroughly.\n",
    "    - Note that this means you will ultimately have to submit the project twice – once to the \"Project 1 Checkpoint\" autograder (Questions 1-7 only), and once to the \"Project 1\" autograder (once you're fully done).\n",
    "- **Do not change the function names in `project.py` file!** The functions in `project.py` are how your assignment is graded, and they are graded by their name. If you changed something you weren't supposed to, you can find the original code in the [course GitHub repository](https://github.com/dsc-courses/dsc80-2024-wi).\n",
    "- **To ensure that all of your work to be submitted is in `project.py`, we've included a script named `project-validation.py` in the project folder. You shouldn't edit it, but instead, you should call it from the command line (e.g. the Terminal) to test your work.** More details on its usage are given at the bottom of this notebook.\n",
    "- You are encouraged to write your own additional helper functions to solve the project, as long as they also end up in `project.py`.\n",
    "\n",
    "### Working with a Partner\n",
    "\n",
    "You may work together on projects (and projects only!) with a partner. If you work with a partner, you are both required to actively contribute to all parts of the project. You must both be working on the assignment at the same time together, either physically or virtually on a Zoom call. You are encouraged to follow the pair programming model, in which you work on just a single computer and alternate who writes the code and who thinks about the problems at a high level.\n",
    "\n",
    "In particular, you **cannot** split up the project and each work on separate parts independently.\n",
    "\n",
    "Note that if you do work with a partner, you and your partner must submit the Checkpoint together and the whole project together. See [here](https://dsc80.com/syllabus/#projects) for more details."
   ]
  },
  {
   "cell_type": "code",
   "execution_count": 2,
   "metadata": {},
   "outputs": [],
   "source": [
    "%load_ext autoreload\n",
    "%autoreload 2"
   ]
  },
  {
   "cell_type": "code",
   "execution_count": 3,
   "metadata": {},
   "outputs": [],
   "source": [
    "import pandas as pd\n",
    "import numpy as np\n",
    "from pathlib import Path\n",
    "\n",
    "import plotly.express as px\n",
    "import plotly.io as pio\n",
    "pio.renderers.default = \"plotly_mimetype+notebook\""
   ]
  },
  {
   "cell_type": "code",
   "execution_count": 4,
   "metadata": {},
   "outputs": [],
   "source": [
    "from project import *"
   ]
  },
  {
   "cell_type": "markdown",
   "metadata": {},
   "source": [
    "## About the Assignment\n",
    "\n",
    "In this project, you'll work with the gradebook for CSD 18, a fictional data science course with 535 students co-taught by Professors Yutian and Dylan. You'll help Professors Yutian and Dylan compute the total course grade for every student in their course and analyze their students' performances throughout the quarter.\n",
    "\n",
    "---\n",
    "\n",
    "### Navigating the Project\n",
    "\n",
    "Click on the links below to navigate to different parts of the project. Note that Part 1 – that is, Questions 1, 2, 3, 4, 5, 6, and 7 – constitutes your Checkpoint submission.\n",
    "\n",
    "- [Part 1: Initial Calculations 🔢](#part1)\n",
    "    - [✅ Question 1 (Checkpoint Question)](#Question-1-(Checkpoint-Question))\n",
    "    - [✅ Question 2 (Checkpoint Question)](#Question-2-(Checkpoint-Question))\n",
    "    - [✅ Question 3 (Checkpoint Question)](#Question-3-(Checkpoint-Question))\n",
    "    - [✅ Question 4 (Checkpoint Question)](#Question-4-(Checkpoint-Question))\n",
    "    - [✅ Question 5 (Checkpoint Question)](#Question-5-(Checkpoint-Question))\n",
    "    - [✅ Question 6 (Checkpoint Question)](#Question-6-(Checkpoint-Question))\n",
    "    - [✅ Question 7 (Checkpoint Question)](#Question-7-(Checkpoint-Question))\n",
    "- [Part 2: Redemption 🙏](#part2)\n",
    "    - [Question 8](#Question-8)\n",
    "    - [Question 9](#Question-9)\n",
    "    - [Question 10](#Question-10)\n",
    "- [Part 3: Analysis 🧠](#part3)\n",
    "    - [Question 11](#Question-11)\n",
    "    - [Question 12](#Question-12)\n",
    "    - [Question 13](#Question-13)\n",
    "    \n",
    "---\n",
    "\n",
    "### The Syllabus\n",
    "\n",
    "Professor Yutian has taught this course several times, so the instructors decide to use her syllabus at the start of the quarter. (Note that this syllabus is **not** the same as the course syllabus for DSC 80 in Winter 2024 – luckily for you, exams are only worth 40% total in DSC 80, not 45% 😊.)\n",
    "\n",
    "* **Lab assignments (20% total)**\n",
    "    - Each lab is worth the same amount, regardless of each lab's raw point total.\n",
    "    - The lowest lab is dropped.\n",
    "    - Each lab may be revised for up to (and including) one week after the deadline for a 10% penalty, for up to (and including) two weeks after the deadline for a 30% penalty, and beyond that for a 60% penalty. Such revisions are reflected in the `'Lateness'` columns in the gradebook.\n",
    "    - Labs also have a two hour grace period that needs to be factored in before assigning late penalties.\n",
    "    - Note that lateness penalties are not assessed for any other type of assignment – that is, students can submit projects, checkpoints, and discussions late without penalty.\n",
    "* **Projects (30% total)** \n",
    "    - Each project consists of an autograded portion, and **possibly** a free response portion.\n",
    "    - The total points for a single project consist of the sum of the raw score of the two portions.\n",
    "    - Each project is worth the same amount, regardless of each project's raw point total.\n",
    "* **Checkpoints (2.5% total)**\n",
    "    - Each project checkpoint is worth the same amount, regardless of each project checkpoint's raw point total.\n",
    "* **Discussions (2.5% total)**\n",
    "    - Each discussion is worth the same amount, regardless of each discussion's raw point total.\n",
    "* **Midterm Exam (15%)**\n",
    "* **Final Exam (30%)**\n",
    "\n",
    "You will need to refer to this syllabus repeatedly throughout the project, and several questions will link you back to it.\n",
    "\n",
    "---\n",
    "\n",
    "### Generalization\n",
    "\n",
    "Your code only needs to work for courses that follow the syllabus above. That is, you may assume that the DataFrame `grades` looks **like** the given one in `data/grades.csv`.\n",
    "\n",
    "However, your code should work regardless of:\n",
    "- The numbers of labs, projects, discussions, and checkpoints in the course.\n",
    "- The number of students in the course.\n",
    "\n",
    "For instance, if CSD 18 is taught in a different quarter with more labs, fewer projects, and fewer students, your code should still work on a `grades.csv` from that quarter.\n",
    "\n",
    "You may assume the course components and the naming conventions are as given in `grades.csv`, and you may assume that the course has no more than 99 of any type of assignment.\n",
    "\n",
    "---\n",
    "\n",
    "### Putting Everything Together\n",
    "\n",
    "Here are a few remarks and tips for approaching Project 1, and projects more generally:\n",
    "\n",
    "1. If you are having trouble figuring out what a question is asking you to do, look at the big picture and try to understand what the current step is doing to contribute to this big picture. This may clarify what's being asked!\n",
    "1. These questions intentionally build off of each other and the final result matters! In fact, you can \"get a question correct,\" but only receive partial credit for it because a previous answer was wrong.\n",
    "    - Credit for a question will typically receive partial credit based on *how close* your answer is to correct (as well as some credit for a solution in the correct form). \n",
    "    - You should try to assess your answer to each question based on what you understand of the data. This might involve writing extensive code (that isn't turned in) just to check your work! Suggestions on checking your work are given in the assignment, but you should also think of your own ways of checking your work.\n",
    "    - As you do this project, think about the data from the perspective of the student (which should be easy to do, since you've used Gradescope before!)\n",
    "1. To test the correctness of your answers:\n",
    "     - Once you have implemented a particular function in `project.py`, you should test out your function in the notebook. In particular, you should inspect/analyze the output to assess its correctness.\n",
    "    - Run your functions on the main dataset (`grades`, and later `grades_combined` and `grades_analysis`) and ask yourself if the output *looks correct.*\n",
    "    - Run your functions on very small datasets (e.g. 1-5 row DataFrames that you construct by hand), calculate the expected output by hand, and see if the function output matches (this *is* unit-testing your code with data).\n",
    "    * Run your functions on (large and small) samples of the dataset `grades`. Does your code break, or does it still run as expected?"
   ]
  },
  {
   "cell_type": "markdown",
   "metadata": {},
   "source": [
    "Run the cell below to load in the aforementioned `grades` dataset."
   ]
  },
  {
   "cell_type": "code",
   "execution_count": 5,
   "metadata": {},
   "outputs": [
    {
     "data": {
      "text/html": [
       "<div>\n",
       "<style scoped>\n",
       "    .dataframe tbody tr th:only-of-type {\n",
       "        vertical-align: middle;\n",
       "    }\n",
       "\n",
       "    .dataframe tbody tr th {\n",
       "        vertical-align: top;\n",
       "    }\n",
       "\n",
       "    .dataframe thead th {\n",
       "        text-align: right;\n",
       "    }\n",
       "</style>\n",
       "<table border=\"1\" class=\"dataframe\">\n",
       "  <thead>\n",
       "    <tr style=\"text-align: right;\">\n",
       "      <th></th>\n",
       "      <th>PID</th>\n",
       "      <th>College</th>\n",
       "      <th>Level</th>\n",
       "      <th>Section</th>\n",
       "      <th>lab01</th>\n",
       "      <th>lab01 - Max Points</th>\n",
       "      <th>lab01 - Lateness (H:M:S)</th>\n",
       "      <th>lab02</th>\n",
       "      <th>lab02 - Max Points</th>\n",
       "      <th>lab02 - Lateness (H:M:S)</th>\n",
       "      <th>...</th>\n",
       "      <th>discussion07 - Lateness (H:M:S)</th>\n",
       "      <th>discussion08</th>\n",
       "      <th>discussion08 - Max Points</th>\n",
       "      <th>discussion08 - Lateness (H:M:S)</th>\n",
       "      <th>discussion09</th>\n",
       "      <th>discussion09 - Max Points</th>\n",
       "      <th>discussion09 - Lateness (H:M:S)</th>\n",
       "      <th>discussion10</th>\n",
       "      <th>discussion10 - Max Points</th>\n",
       "      <th>discussion10 - Lateness (H:M:S)</th>\n",
       "    </tr>\n",
       "  </thead>\n",
       "  <tbody>\n",
       "    <tr>\n",
       "      <th>0</th>\n",
       "      <td>A99706914</td>\n",
       "      <td>ERC</td>\n",
       "      <td>JR</td>\n",
       "      <td>A22</td>\n",
       "      <td>99.735279</td>\n",
       "      <td>100.0</td>\n",
       "      <td>00:00:00</td>\n",
       "      <td>84.990171</td>\n",
       "      <td>100.0</td>\n",
       "      <td>00:00:00</td>\n",
       "      <td>...</td>\n",
       "      <td>00:00:00</td>\n",
       "      <td>8.895294</td>\n",
       "      <td>10</td>\n",
       "      <td>00:00:00</td>\n",
       "      <td>10.000000</td>\n",
       "      <td>10</td>\n",
       "      <td>780:01:28</td>\n",
       "      <td>10.000000</td>\n",
       "      <td>10</td>\n",
       "      <td>00:00:00</td>\n",
       "    </tr>\n",
       "    <tr>\n",
       "      <th>1</th>\n",
       "      <td>A99237411</td>\n",
       "      <td>Eighth</td>\n",
       "      <td>JR</td>\n",
       "      <td>A29</td>\n",
       "      <td>98.829476</td>\n",
       "      <td>100.0</td>\n",
       "      <td>00:00:00</td>\n",
       "      <td>50.784231</td>\n",
       "      <td>100.0</td>\n",
       "      <td>00:00:00</td>\n",
       "      <td>...</td>\n",
       "      <td>669:12:21</td>\n",
       "      <td>9.022407</td>\n",
       "      <td>10</td>\n",
       "      <td>00:00:00</td>\n",
       "      <td>9.020283</td>\n",
       "      <td>10</td>\n",
       "      <td>00:00:00</td>\n",
       "      <td>9.437368</td>\n",
       "      <td>10</td>\n",
       "      <td>00:00:00</td>\n",
       "    </tr>\n",
       "    <tr>\n",
       "      <th>2</th>\n",
       "      <td>A99690544</td>\n",
       "      <td>Revelle</td>\n",
       "      <td>SR</td>\n",
       "      <td>A12</td>\n",
       "      <td>86.513369</td>\n",
       "      <td>100.0</td>\n",
       "      <td>00:00:00</td>\n",
       "      <td>47.802820</td>\n",
       "      <td>100.0</td>\n",
       "      <td>00:00:00</td>\n",
       "      <td>...</td>\n",
       "      <td>00:00:00</td>\n",
       "      <td>3.030538</td>\n",
       "      <td>10</td>\n",
       "      <td>00:04:51</td>\n",
       "      <td>7.613698</td>\n",
       "      <td>10</td>\n",
       "      <td>00:00:00</td>\n",
       "      <td>9.624617</td>\n",
       "      <td>10</td>\n",
       "      <td>00:00:00</td>\n",
       "    </tr>\n",
       "    <tr>\n",
       "      <th>3</th>\n",
       "      <td>A99427381</td>\n",
       "      <td>Seventh</td>\n",
       "      <td>JR</td>\n",
       "      <td>A14</td>\n",
       "      <td>100.000000</td>\n",
       "      <td>100.0</td>\n",
       "      <td>00:00:00</td>\n",
       "      <td>100.000000</td>\n",
       "      <td>100.0</td>\n",
       "      <td>00:00:00</td>\n",
       "      <td>...</td>\n",
       "      <td>00:00:00</td>\n",
       "      <td>10.000000</td>\n",
       "      <td>10</td>\n",
       "      <td>00:00:00</td>\n",
       "      <td>9.249126</td>\n",
       "      <td>10</td>\n",
       "      <td>00:00:00</td>\n",
       "      <td>10.000000</td>\n",
       "      <td>10</td>\n",
       "      <td>00:00:00</td>\n",
       "    </tr>\n",
       "    <tr>\n",
       "      <th>4</th>\n",
       "      <td>A99489712</td>\n",
       "      <td>Sixth</td>\n",
       "      <td>JR</td>\n",
       "      <td>A24</td>\n",
       "      <td>66.506974</td>\n",
       "      <td>100.0</td>\n",
       "      <td>00:00:00</td>\n",
       "      <td>33.422412</td>\n",
       "      <td>100.0</td>\n",
       "      <td>00:00:00</td>\n",
       "      <td>...</td>\n",
       "      <td>00:00:00</td>\n",
       "      <td>4.439606</td>\n",
       "      <td>10</td>\n",
       "      <td>00:00:00</td>\n",
       "      <td>4.485291</td>\n",
       "      <td>10</td>\n",
       "      <td>00:00:00</td>\n",
       "      <td>6.282712</td>\n",
       "      <td>10</td>\n",
       "      <td>00:00:00</td>\n",
       "    </tr>\n",
       "    <tr>\n",
       "      <th>...</th>\n",
       "      <td>...</td>\n",
       "      <td>...</td>\n",
       "      <td>...</td>\n",
       "      <td>...</td>\n",
       "      <td>...</td>\n",
       "      <td>...</td>\n",
       "      <td>...</td>\n",
       "      <td>...</td>\n",
       "      <td>...</td>\n",
       "      <td>...</td>\n",
       "      <td>...</td>\n",
       "      <td>...</td>\n",
       "      <td>...</td>\n",
       "      <td>...</td>\n",
       "      <td>...</td>\n",
       "      <td>...</td>\n",
       "      <td>...</td>\n",
       "      <td>...</td>\n",
       "      <td>...</td>\n",
       "      <td>...</td>\n",
       "      <td>...</td>\n",
       "    </tr>\n",
       "    <tr>\n",
       "      <th>530</th>\n",
       "      <td>A99073025</td>\n",
       "      <td>Warren</td>\n",
       "      <td>JR</td>\n",
       "      <td>A12</td>\n",
       "      <td>100.000000</td>\n",
       "      <td>100.0</td>\n",
       "      <td>47:26:10</td>\n",
       "      <td>82.022753</td>\n",
       "      <td>100.0</td>\n",
       "      <td>00:00:00</td>\n",
       "      <td>...</td>\n",
       "      <td>00:00:00</td>\n",
       "      <td>10.000000</td>\n",
       "      <td>10</td>\n",
       "      <td>12:08:58</td>\n",
       "      <td>9.169447</td>\n",
       "      <td>10</td>\n",
       "      <td>00:00:00</td>\n",
       "      <td>10.000000</td>\n",
       "      <td>10</td>\n",
       "      <td>00:00:00</td>\n",
       "    </tr>\n",
       "    <tr>\n",
       "      <th>531</th>\n",
       "      <td>A99257552</td>\n",
       "      <td>Warren</td>\n",
       "      <td>SO</td>\n",
       "      <td>A02</td>\n",
       "      <td>100.000000</td>\n",
       "      <td>100.0</td>\n",
       "      <td>00:00:00</td>\n",
       "      <td>87.498073</td>\n",
       "      <td>100.0</td>\n",
       "      <td>00:00:00</td>\n",
       "      <td>...</td>\n",
       "      <td>00:00:00</td>\n",
       "      <td>10.000000</td>\n",
       "      <td>10</td>\n",
       "      <td>00:00:00</td>\n",
       "      <td>10.000000</td>\n",
       "      <td>10</td>\n",
       "      <td>00:00:00</td>\n",
       "      <td>10.000000</td>\n",
       "      <td>10</td>\n",
       "      <td>00:00:00</td>\n",
       "    </tr>\n",
       "    <tr>\n",
       "      <th>532</th>\n",
       "      <td>A99592629</td>\n",
       "      <td>Revelle</td>\n",
       "      <td>JR</td>\n",
       "      <td>A15</td>\n",
       "      <td>88.656641</td>\n",
       "      <td>100.0</td>\n",
       "      <td>00:00:00</td>\n",
       "      <td>90.326041</td>\n",
       "      <td>100.0</td>\n",
       "      <td>00:00:00</td>\n",
       "      <td>...</td>\n",
       "      <td>00:00:00</td>\n",
       "      <td>9.878661</td>\n",
       "      <td>10</td>\n",
       "      <td>00:00:00</td>\n",
       "      <td>8.878946</td>\n",
       "      <td>10</td>\n",
       "      <td>00:00:00</td>\n",
       "      <td>10.000000</td>\n",
       "      <td>10</td>\n",
       "      <td>00:00:00</td>\n",
       "    </tr>\n",
       "    <tr>\n",
       "      <th>533</th>\n",
       "      <td>A99033808</td>\n",
       "      <td>Seventh</td>\n",
       "      <td>SR</td>\n",
       "      <td>A13</td>\n",
       "      <td>83.799719</td>\n",
       "      <td>100.0</td>\n",
       "      <td>00:00:00</td>\n",
       "      <td>85.636947</td>\n",
       "      <td>100.0</td>\n",
       "      <td>00:00:00</td>\n",
       "      <td>...</td>\n",
       "      <td>00:00:00</td>\n",
       "      <td>7.759434</td>\n",
       "      <td>10</td>\n",
       "      <td>00:00:00</td>\n",
       "      <td>8.655478</td>\n",
       "      <td>10</td>\n",
       "      <td>419:06:41</td>\n",
       "      <td>8.102277</td>\n",
       "      <td>10</td>\n",
       "      <td>00:00:00</td>\n",
       "    </tr>\n",
       "    <tr>\n",
       "      <th>534</th>\n",
       "      <td>A99855328</td>\n",
       "      <td>Seventh</td>\n",
       "      <td>SR</td>\n",
       "      <td>A01</td>\n",
       "      <td>88.389331</td>\n",
       "      <td>100.0</td>\n",
       "      <td>00:00:00</td>\n",
       "      <td>73.045171</td>\n",
       "      <td>100.0</td>\n",
       "      <td>00:00:00</td>\n",
       "      <td>...</td>\n",
       "      <td>21:47:10</td>\n",
       "      <td>10.000000</td>\n",
       "      <td>10</td>\n",
       "      <td>00:00:00</td>\n",
       "      <td>9.515494</td>\n",
       "      <td>10</td>\n",
       "      <td>00:00:00</td>\n",
       "      <td>10.000000</td>\n",
       "      <td>10</td>\n",
       "      <td>00:00:00</td>\n",
       "    </tr>\n",
       "  </tbody>\n",
       "</table>\n",
       "<p>535 rows × 101 columns</p>\n",
       "</div>"
      ],
      "text/plain": [
       "           PID  College Level Section       lab01  lab01 - Max Points  \\\n",
       "0    A99706914      ERC    JR     A22   99.735279               100.0   \n",
       "1    A99237411   Eighth    JR     A29   98.829476               100.0   \n",
       "2    A99690544  Revelle    SR     A12   86.513369               100.0   \n",
       "3    A99427381  Seventh    JR     A14  100.000000               100.0   \n",
       "4    A99489712    Sixth    JR     A24   66.506974               100.0   \n",
       "..         ...      ...   ...     ...         ...                 ...   \n",
       "530  A99073025   Warren    JR     A12  100.000000               100.0   \n",
       "531  A99257552   Warren    SO     A02  100.000000               100.0   \n",
       "532  A99592629  Revelle    JR     A15   88.656641               100.0   \n",
       "533  A99033808  Seventh    SR     A13   83.799719               100.0   \n",
       "534  A99855328  Seventh    SR     A01   88.389331               100.0   \n",
       "\n",
       "    lab01 - Lateness (H:M:S)       lab02  lab02 - Max Points  \\\n",
       "0                   00:00:00   84.990171               100.0   \n",
       "1                   00:00:00   50.784231               100.0   \n",
       "2                   00:00:00   47.802820               100.0   \n",
       "3                   00:00:00  100.000000               100.0   \n",
       "4                   00:00:00   33.422412               100.0   \n",
       "..                       ...         ...                 ...   \n",
       "530                 47:26:10   82.022753               100.0   \n",
       "531                 00:00:00   87.498073               100.0   \n",
       "532                 00:00:00   90.326041               100.0   \n",
       "533                 00:00:00   85.636947               100.0   \n",
       "534                 00:00:00   73.045171               100.0   \n",
       "\n",
       "    lab02 - Lateness (H:M:S)  ...  discussion07 - Lateness (H:M:S)  \\\n",
       "0                   00:00:00  ...                         00:00:00   \n",
       "1                   00:00:00  ...                        669:12:21   \n",
       "2                   00:00:00  ...                         00:00:00   \n",
       "3                   00:00:00  ...                         00:00:00   \n",
       "4                   00:00:00  ...                         00:00:00   \n",
       "..                       ...  ...                              ...   \n",
       "530                 00:00:00  ...                         00:00:00   \n",
       "531                 00:00:00  ...                         00:00:00   \n",
       "532                 00:00:00  ...                         00:00:00   \n",
       "533                 00:00:00  ...                         00:00:00   \n",
       "534                 00:00:00  ...                         21:47:10   \n",
       "\n",
       "     discussion08 discussion08 - Max Points  discussion08 - Lateness (H:M:S)  \\\n",
       "0        8.895294                        10                         00:00:00   \n",
       "1        9.022407                        10                         00:00:00   \n",
       "2        3.030538                        10                         00:04:51   \n",
       "3       10.000000                        10                         00:00:00   \n",
       "4        4.439606                        10                         00:00:00   \n",
       "..            ...                       ...                              ...   \n",
       "530     10.000000                        10                         12:08:58   \n",
       "531     10.000000                        10                         00:00:00   \n",
       "532      9.878661                        10                         00:00:00   \n",
       "533      7.759434                        10                         00:00:00   \n",
       "534     10.000000                        10                         00:00:00   \n",
       "\n",
       "     discussion09 discussion09 - Max Points  discussion09 - Lateness (H:M:S)  \\\n",
       "0       10.000000                        10                        780:01:28   \n",
       "1        9.020283                        10                         00:00:00   \n",
       "2        7.613698                        10                         00:00:00   \n",
       "3        9.249126                        10                         00:00:00   \n",
       "4        4.485291                        10                         00:00:00   \n",
       "..            ...                       ...                              ...   \n",
       "530      9.169447                        10                         00:00:00   \n",
       "531     10.000000                        10                         00:00:00   \n",
       "532      8.878946                        10                         00:00:00   \n",
       "533      8.655478                        10                        419:06:41   \n",
       "534      9.515494                        10                         00:00:00   \n",
       "\n",
       "     discussion10 discussion10 - Max Points  discussion10 - Lateness (H:M:S)  \n",
       "0       10.000000                        10                         00:00:00  \n",
       "1        9.437368                        10                         00:00:00  \n",
       "2        9.624617                        10                         00:00:00  \n",
       "3       10.000000                        10                         00:00:00  \n",
       "4        6.282712                        10                         00:00:00  \n",
       "..            ...                       ...                              ...  \n",
       "530     10.000000                        10                         00:00:00  \n",
       "531     10.000000                        10                         00:00:00  \n",
       "532     10.000000                        10                         00:00:00  \n",
       "533      8.102277                        10                         00:00:00  \n",
       "534     10.000000                        10                         00:00:00  \n",
       "\n",
       "[535 rows x 101 columns]"
      ]
     },
     "execution_count": 5,
     "metadata": {},
     "output_type": "execute_result"
    }
   ],
   "source": [
    "grades_fp = Path('data') / 'grades.csv'\n",
    "grades = pd.read_csv(grades_fp)\n",
    "grades"
   ]
  },
  {
   "cell_type": "markdown",
   "metadata": {},
   "source": [
    "***Tip***: The `grades` DataFrame has 101 columns, and you can't see them all right now. To get a feel for what all of the columns represent, you might consider opening `grades.csv` with a spreadsheet application, like Google Sheets or Excel."
   ]
  },
  {
   "cell_type": "markdown",
   "metadata": {},
   "source": [
    "<a name='part1'></a>\n",
    "\n",
    "## Part 1: Initial Calculations 🔢\n",
    "\n",
    "([return to the outline](#Navigating-the-Project))\n",
    "\n",
    "In Part 1, you'll compute students' letter grades in CSD 18 using [the syllabus](#The-Syllabus) provided above. As you'll see, this requires many steps. Let's get started!"
   ]
  },
  {
   "cell_type": "markdown",
   "metadata": {},
   "source": [
    "### ✅ Question 1 (Checkpoint Question)\n",
    "\n",
    "<a name='Question-1-(Checkpoint-Question)'></a>\n",
    "\n",
    "([return to the outline](#Navigating-the-Project))\n",
    "\n",
    "Complete the implementation of the function `get_assignment_names`, which takes in a DataFrame like `grades` and returns a dictionary with the following structure:\n",
    "- The keys are the general areas of [the syllabus](#The-Syllabus): `'lab'`, `'project'`, `'midterm'`, `'final'`, `'disc'`, and `'checkpoint'`.\n",
    "- The values are **lists** that contain all the assignment names of that type. For example, the lab assignments all have names of the form `'labXX'` where `XX` is a zero-padded two digit number. If the class has 5 labs, the returned dictionary's value for the `'lab'` key should be `['lab01', 'lab02', 'lab03', 'lab04', 'lab05']`.\n",
    "\n",
    "***Notes***: \n",
    "- Some of the column names in the DataFrame contain the assignment name in the zero-padded fashion requested; you should use this to your advantange when building the dictionary.\n",
    "- The point of this question is to familiarize you with the names of the columns in `grades`. Try to reuse your `get_assignment_names` function in future questions – if you find yourself never using it again, you may be redoing work unnecessarily."
   ]
  },
  {
   "cell_type": "code",
   "execution_count": 6,
   "metadata": {
    "tags": []
   },
   "outputs": [],
   "source": [
    "def get_assignment_names(grades):\n",
    "    column_names = grades.columns.values\n",
    "    final_dict = {}\n",
    "    parts = ['lab', 'project', 'Midterm', 'Final', 'discussion', 'checkpoint']\n",
    "    k = ['lab', 'project', 'midterm', 'final', 'disc', 'checkpoint']\n",
    "\n",
    "    for i in np.arange(len(parts)):\n",
    "        if parts[i] == 'project':\n",
    "            assignments = list(filter(lambda x: parts[i] in x and '-' not in x and 'checkpoint' not in x, column_names))\n",
    "        else:\n",
    "            assignments = list(filter(lambda x: parts[i] in x and '-' not in x, column_names))\n",
    "        \n",
    "        final_dict[k[i]] = assignments\n",
    "\n",
    "    return final_dict"
   ]
  },
  {
   "cell_type": "code",
   "execution_count": null,
   "metadata": {
    "tags": []
   },
   "outputs": [],
   "source": []
  },
  {
   "cell_type": "code",
   "execution_count": 7,
   "metadata": {
    "deletable": false,
    "editable": false
   },
   "outputs": [
    {
     "data": {
      "text/html": [
       "<p><strong><pre style='display: inline;'>q1</pre></strong> passed!</p>"
      ],
      "text/plain": [
       "q1 results: All test cases passed!"
      ]
     },
     "execution_count": 7,
     "metadata": {},
     "output_type": "execute_result"
    }
   ],
   "source": [
    "grader.check(\"q1\")"
   ]
  },
  {
   "cell_type": "markdown",
   "metadata": {},
   "source": [
    "Now you're ready to compute each student's overall grade on the first type of assignment – projects."
   ]
  },
  {
   "cell_type": "markdown",
   "metadata": {},
   "source": [
    "### ✅ Question 2 (Checkpoint Question)\n",
    "\n",
    "<a name='Question-2-(Checkpoint-Question)'></a>\n",
    "\n",
    "([return to the outline](#Navigating-the-Project))\n",
    "\n",
    "Complete the implementation of the function `projects_total`, which takes in a DataFrame like `grades` and returns a Series containing the total project grade for each student for the entire quarter, according to [the syllabus](#The-Syllabus). The output Series should contain values between 0 and 1.\n",
    "\n",
    "***Notes***:\n",
    "\n",
    "- If a student didn't turn in a particular project, what should their grade for it be? \n",
    "- Some projects have free response components that you need to account for when calculating the total points earned by a student and the max points possible for that project.\n",
    "    - For instance, let's say Tiffany earned 82 points on the autograded portion of Project 1 and 13 points on the free response portion. This means that her overall Project 1 grade should be:\n",
    "    $$\n",
    "        \\text{Project 1 Grade} = \\frac{82+13}{85+15} = 0.95\n",
    "    $$\n",
    "- Per [the syllabus](#The-Syllabus), students may submit projects (and checkpoints and discussions) late without penalty.\n",
    "- Do not include scores on checkpoint assignments in your calculations.\n",
    "- To check your work, try:\n",
    "    1. Calculating the total project scores for a few types of students by hand.\n",
    "    2. Calculating summary statistics for the whole class' performance on a few projects in particular and ensuring the results seem reasonable."
   ]
  },
  {
   "cell_type": "code",
   "execution_count": 8,
   "metadata": {
    "tags": []
   },
   "outputs": [],
   "source": [
    "def projects_total(grades):\n",
    "    grades = grades.fillna(0)\n",
    "    projects = get_assignment_names(grades)['project']\n",
    "    max_pt_names = [name + ' - Max Points' for name in projects]\n",
    "    max_pt = grades[max_pt_names].iloc[0]\n",
    "    max_pt = pd.Series(max_pt.values, index=projects)\n",
    "\n",
    "    projects = sorted(projects)\n",
    "\n",
    "    project_grades = pd.DataFrame()\n",
    "\n",
    "    for i in np.arange(len(projects) - 1):\n",
    "        if projects[i] in projects[i+1]:\n",
    "            project_grade = (grades[projects[i]] + grades[projects[i+1]]) / (max_pt[projects[i]] + max_pt[projects[i+1]])\n",
    "            project_grades[projects[i]] = project_grade\n",
    "        elif 'free_response' not in projects[i]:\n",
    "            project_grade = grades[projects[i]] / max_pt[projects[i]]\n",
    "            project_grades[projects[i]] = project_grade\n",
    "            \n",
    "    return project_grades.mean(axis=1)"
   ]
  },
  {
   "cell_type": "code",
   "execution_count": null,
   "metadata": {
    "tags": []
   },
   "outputs": [],
   "source": []
  },
  {
   "cell_type": "code",
   "execution_count": 9,
   "metadata": {
    "deletable": false,
    "editable": false
   },
   "outputs": [
    {
     "data": {
      "text/html": [
       "<p><strong><pre style='display: inline;'>q2</pre></strong> passed!</p>"
      ],
      "text/plain": [
       "q2 results: All test cases passed!"
      ]
     },
     "execution_count": 9,
     "metadata": {},
     "output_type": "execute_result"
    }
   ],
   "source": [
    "grader.check(\"q2\")"
   ]
  },
  {
   "cell_type": "markdown",
   "metadata": {},
   "source": [
    "Now that projects are out of the way, you need to clean and process the lab grades. This will involve a bit more work than was necessary for projects. Specifically, you'll:\n",
    "- identify late submissions (Question 3), \n",
    "- compute normalized scores for each lab assignment, factoring in late penalties (Question 4), and \n",
    "- drop the lowest lab grade and compute a total lab score for each student (Question 5)."
   ]
  },
  {
   "cell_type": "markdown",
   "metadata": {},
   "source": [
    "### ✅ Question 3 (Checkpoint Question)\n",
    "\n",
    "<a name='Question-3-(Checkpoint-Question)'></a>\n",
    "\n",
    "([return to the outline](#Navigating-the-Project))\n",
    "\n",
    "Recall, per [the syllabus](#The-Syllabus), labs are the only assignment category for which late penalties are enforced:\n",
    "\n",
    ">  Each lab may be revised for up to (and including) one week after the deadline for a 10% penalty, for up to (and including) two weeks after the deadline for a 30% penalty, and beyond that for a 60% penalty. Such revisions are reflected in the `'Lateness'` columns in the gradebook.\n",
    "\n",
    "For labs, students have a **two hour grace period** after the deadline during which their submissions are counted as on time. The grace period only applies to the original deadline – for instance, if a student submits one week and one hour late, their submission falls into the \"up to (and including) two weeks after the deadline\" category and they are assessed a 30% penalty.\n",
    "\n",
    "Your job is to adjust lab grades to penalize **truly** late submissions, factoring in the grace period. To adjust a student's grade, multiply their lab score by `1` (on time, factoring in the grace period), `0.9`, `0.7`, or `0.4`. We'll call these four numbers – `1`, `0.9`, `0.7`, and `0.4` – \"lateness multipliers.\" \n",
    "\n",
    "Complete the implementation of the function `lateness_penalty`, which takes in a Series containing information on how late each student turned in a particular lab, such as `grades['lab01 - Lateness (H:M:S)']`, and returns a Series containing each student's lateness multiplier for that lab. The only possible values in the returned Series should be `1.0`, `0.9`, `0.7`, and `0.4`.\n",
    "\n",
    "**Don't forget to factor in the grace period!** Remember, we will only be enforcing late penalties for labs, not for any other assignment category."
   ]
  },
  {
   "cell_type": "code",
   "execution_count": 10,
   "metadata": {
    "tags": []
   },
   "outputs": [],
   "source": [
    "def lateness_penalty(col):\n",
    "    def multiplier(time):\n",
    "        times = time.split(':')\n",
    "        hours = int(times[0])\n",
    "        minutes = int(times[1])\n",
    "        seconds = int(times[2])\n",
    "        total_time = hours + minutes/60 + seconds/360\n",
    "        \n",
    "        if total_time <= 2:\n",
    "            return 1\n",
    "        elif total_time <= 7*24:\n",
    "            return 0.9\n",
    "        elif total_time <= 7*24*2:\n",
    "            return 0.7\n",
    "        else:\n",
    "            return 0.4\n",
    "    \n",
    "    return col.apply(multiplier)"
   ]
  },
  {
   "cell_type": "code",
   "execution_count": null,
   "metadata": {
    "tags": []
   },
   "outputs": [],
   "source": []
  },
  {
   "cell_type": "code",
   "execution_count": 11,
   "metadata": {
    "deletable": false,
    "editable": false
   },
   "outputs": [
    {
     "data": {
      "text/html": [
       "<p><strong><pre style='display: inline;'>q3</pre></strong> passed!</p>"
      ],
      "text/plain": [
       "q3 results: All test cases passed!"
      ]
     },
     "execution_count": 11,
     "metadata": {},
     "output_type": "execute_result"
    }
   ],
   "source": [
    "grader.check(\"q3\")"
   ]
  },
  {
   "cell_type": "markdown",
   "metadata": {},
   "source": [
    "### ✅ Question 4 (Checkpoint Question)\n",
    "\n",
    "<a name='Question-4-(Checkpoint-Question)'></a>\n",
    "\n",
    "([return to the outline](#Navigating-the-Project))\n",
    "\n",
    "Complete the implementation of the function `process_labs`, which takes in a DataFrame like `grades` and returns a DataFrame of processed lab scores. The returned DataFrame should:\n",
    "* have the same index as `grades`,\n",
    "* have one column for each lab assignment (e.g. `'lab01'`, `'lab02'`,..., `'lab09'`),\n",
    "* have values representing the final score for each lab assignment, adjusted for lateness and **normalized** to a score between 0 and 1.\n",
    "\n",
    "Remember to correctly handle the case where a student _doesn't_ turn in a lab."
   ]
  },
  {
   "cell_type": "code",
   "execution_count": 12,
   "metadata": {
    "tags": []
   },
   "outputs": [],
   "source": [
    "def process_labs(grades):\n",
    "    grades = grades.fillna(0)\n",
    "    labs = get_assignment_names(grades)['lab']\n",
    "    max_pt_names = [name + ' - Max Points' for name in labs]\n",
    "    max_pt = grades[max_pt_names].iloc[0]\n",
    "    max_pt = pd.Series(max_pt.values, index=labs)\n",
    "\n",
    "    lateness_names = [name + ' - Lateness (H:M:S)' for name in labs]\n",
    "\n",
    "    lab_grades = pd.DataFrame()\n",
    "    lateness_df = pd.DataFrame()\n",
    "\n",
    "    for i in np.arange(len(labs)):\n",
    "        lab_i = np.array(grades[labs[i]])\n",
    "        lab_grades[labs[i]] = lab_i / max_pt[labs[i]]\n",
    "        lateness_df[labs[i]] = lateness_penalty(grades[lateness_names[i]])\n",
    "        \n",
    "    return lateness_df * lab_grades"
   ]
  },
  {
   "cell_type": "code",
   "execution_count": null,
   "metadata": {
    "tags": []
   },
   "outputs": [],
   "source": []
  },
  {
   "cell_type": "code",
   "execution_count": 13,
   "metadata": {
    "deletable": false,
    "editable": false
   },
   "outputs": [
    {
     "data": {
      "text/html": [
       "<p><strong><pre style='display: inline;'>q4</pre></strong> passed!</p>"
      ],
      "text/plain": [
       "q4 results: All test cases passed!"
      ]
     },
     "execution_count": 13,
     "metadata": {},
     "output_type": "execute_result"
    }
   ],
   "source": [
    "grader.check(\"q4\")"
   ]
  },
  {
   "cell_type": "markdown",
   "metadata": {},
   "source": [
    "### ✅ Question 5 (Checkpoint Question)\n",
    "\n",
    "<a name='Question-5-(Checkpoint-Question)'></a>\n",
    "\n",
    "([return to the outline](#Navigating-the-Project))\n",
    "\n",
    "Complete the implementation of the function `lab_total`, which takes in a DataFrame returned by `process_labs` – that is, a DataFrame that contains each student's score on each lab after lateness penalties – and returns a Series containing the total lab grade for each student according to [the syllabus](#The-Syllabus) (i.e. with the lowest lab dropped). All values in the returned Series should be proportions between 0 and 1. \n",
    "\n",
    "For example, if CSD 18 only has 3 labs, and Aritra received lab scores of 20%, 90%, and 100% after lateness penalties, then your output Series should contain the value `0.95` for Aritra. This is because we drop the lowest score, and then compute the average of just 90% and 100%, which is 95%, or 0.95 as a proportion."
   ]
  },
  {
   "cell_type": "code",
   "execution_count": 14,
   "metadata": {
    "tags": []
   },
   "outputs": [],
   "source": [
    "def lab_total(processed):\n",
    "\n",
    "    labs = processed.columns.values\n",
    "    processed['min_scores'] = processed.min(axis=1)\n",
    "\n",
    "    lab_sum = np.zeros(processed.shape[0])\n",
    "    for i in np.arange(len(labs)):\n",
    "        name = labs[i]\n",
    "        lab_sum = lab_sum + processed[name]\n",
    "\n",
    "    total_grade = (lab_sum - processed['min_scores']) / (processed.shape[1] - 2)\n",
    "\n",
    "    return total_grade"
   ]
  },
  {
   "cell_type": "code",
   "execution_count": null,
   "metadata": {
    "tags": []
   },
   "outputs": [],
   "source": []
  },
  {
   "cell_type": "code",
   "execution_count": 15,
   "metadata": {
    "deletable": false,
    "editable": false
   },
   "outputs": [
    {
     "data": {
      "text/html": [
       "<p><strong><pre style='display: inline;'>q5</pre></strong> passed!</p>"
      ],
      "text/plain": [
       "q5 results: All test cases passed!"
      ]
     },
     "execution_count": 15,
     "metadata": {},
     "output_type": "execute_result"
    }
   ],
   "source": [
    "grader.check(\"q5\")"
   ]
  },
  {
   "cell_type": "markdown",
   "metadata": {},
   "source": [
    "Now that projects and labs are processed, we're almost ready to compute the letter grade of each student in CSD 18."
   ]
  },
  {
   "cell_type": "markdown",
   "metadata": {},
   "source": [
    "### ✅ Question 6 (Checkpoint Question)\n",
    "\n",
    "<a name='Question-6-(Checkpoint-Question)'></a>\n",
    "\n",
    "([return to the outline](#Navigating-the-Project))\n",
    "\n",
    "First, you need to compute each student's course grade, which results from adding their total grades in each course component according to the weights given in [the syllabus](#The-Syllabus).\n",
    "\n",
    "Complete the implementation of the function `total_points`, which takes in a DataFrame like `grades` and returns a Series containing each student's course grade. **Course grades should be proportions between 0 and 1.**\n",
    "\n",
    "***Notes***: \n",
    "\n",
    "- Don't repeat yourself when computing the checkpoint and discussion portions of the course.\n",
    "- Remember, only the lab portion of the course accounts for late assignments; you may assume all assignments in other portions are turned in without penalty.\n",
    "- Do the work by hand for a few students to check your code!"
   ]
  },
  {
   "cell_type": "code",
   "execution_count": 16,
   "metadata": {
    "tags": []
   },
   "outputs": [],
   "source": [
    "\n",
    "def total_points(grades):\n",
    "    grades = grades.fillna(0)\n",
    "\n",
    "    def part_grades(part):\n",
    "        assignments = get_assignment_names(grades)[part]\n",
    "        max_pt_names = [name + ' - Max Points' for name in assignments]\n",
    "        max_pt = grades[max_pt_names].iloc[0]\n",
    "        max_pt = pd.Series(max_pt.values, index=assignments)\n",
    "        \n",
    "        ass_grades = pd.DataFrame()\n",
    "        \n",
    "        for i in np.arange(len(assignments)):\n",
    "            name = assignments[i]\n",
    "            assignment_i = np.array(grades[name])\n",
    "            ass_grades[name] = assignment_i / max_pt[name]\n",
    "        \n",
    "        return ass_grades.mean(axis=1)\n",
    "\n",
    "    all_grades = pd.DataFrame()\n",
    "    parts_left = ['disc', 'checkpoint', 'final', 'midterm']\n",
    "\n",
    "    for part in parts_left:\n",
    "        all_grades[part] = part_grades(part)\n",
    "        \n",
    "    all_grades['project'] = projects_total(grades)\n",
    "    all_grades['lab'] = lab_total(process_labs(grades))\n",
    "\n",
    "    final_grade = (all_grades['disc'] * 0.025 +\n",
    "                   all_grades['checkpoint'] * 0.025 +\n",
    "                   all_grades['midterm'] * 0.15 +\n",
    "                   all_grades['final'] * 0.3 +\n",
    "                   all_grades['project'] * 0.3 +\n",
    "                   all_grades['lab'] * 0.2)\n",
    "    \n",
    "    return final_grade"
   ]
  },
  {
   "cell_type": "code",
   "execution_count": null,
   "metadata": {
    "tags": []
   },
   "outputs": [],
   "source": []
  },
  {
   "cell_type": "code",
   "execution_count": 17,
   "metadata": {
    "deletable": false,
    "editable": false
   },
   "outputs": [
    {
     "data": {
      "text/html": [
       "<p><strong><pre style='display: inline;'>q6</pre></strong> passed!</p>"
      ],
      "text/plain": [
       "q6 results: All test cases passed!"
      ]
     },
     "execution_count": 17,
     "metadata": {},
     "output_type": "execute_result"
    }
   ],
   "source": [
    "grader.check(\"q6\")"
   ]
  },
  {
   "cell_type": "markdown",
   "metadata": {},
   "source": [
    "### ✅ Question 7 (Checkpoint Question)\n",
    "\n",
    "<a name='Question-7-(Checkpoint-Question)'></a>\n",
    "\n",
    "([return to the outline](#Navigating-the-Project))\n",
    "\n",
    "How well did the students in CSD 18 do?\n",
    "\n",
    "#### `final_grades`\n",
    "\n",
    "Complete the implementation of the function `final_grades`, which takes in a Series of final course grades (as computed by `total_points` in Question 6) and returns a Series of letter grades as determined by the following cutoffs:\n",
    "\n",
    "| Letter Grade | Cutoff |\n",
    "|:--- | --- |\n",
    "| A | grade >= 0.9 |\n",
    "| B | 0.8 <= grade < 0.9 |\n",
    "| C | 0.7 <= grade < 0.8 |\n",
    "| D | 0.6 <= grade < 0.7 |\n",
    "| F | grade < 0.6 |\n",
    "\n",
    "***Note***: These cutoffs do not have pluses or minuses. **Do not round** anyone's course grade when determining their letter grade.\n",
    "\n",
    "<br>\n",
    "\n",
    "#### `letter_proportions`\n",
    "\n",
    "Complete the implementation of the function `letter_proportions`, which takes in a Series of final course grades (as computed by `total_points` in Question 6) and returns a Series containing the proportion of the class that received each letter grade. For instance, this Series might tell us that the proportion of the class receiving B's was 0.45, A's was 0.33, C's was 0.16, D's was 0.05, and F's was 0.01 (though these are made up numbers). The index of this Series should be letters, and the **values should be sorted in decreasing order**.\n",
    "\n",
    "***Notes***: \n",
    "\n",
    "- The values in your returned Series should add up to exactly `1.0`. If you are getting something close such as `0.99999`, that means there is an issue with your code in a function you implemented earlier.\n",
    "- **Do not round**."
   ]
  },
  {
   "cell_type": "code",
   "execution_count": 18,
   "metadata": {
    "tags": []
   },
   "outputs": [],
   "source": [
    "def final_grades(total):\n",
    "    def grade_calc(fin_grade):\n",
    "        if fin_grade >= 0.9:\n",
    "            return 'A'\n",
    "        elif fin_grade >= 0.8:\n",
    "            return 'B'\n",
    "        elif fin_grade >= 0.7:\n",
    "            return 'C'\n",
    "        elif fin_grade >= 0.6:\n",
    "            return 'D'\n",
    "        else:\n",
    "            return 'F'\n",
    "\n",
    "    return total.apply(grade_calc)"
   ]
  },
  {
   "cell_type": "code",
   "execution_count": 19,
   "metadata": {
    "tags": []
   },
   "outputs": [],
   "source": [
    "def letter_proportions(total):\n",
    "    letter_grades = final_grades(total)\n",
    "    return letter_grades.value_counts() / len(letter_grades)"
   ]
  },
  {
   "cell_type": "code",
   "execution_count": 251,
   "metadata": {},
   "outputs": [
    {
     "data": {
      "text/plain": [
       "1.0"
      ]
     },
     "execution_count": 251,
     "metadata": {},
     "output_type": "execute_result"
    }
   ],
   "source": [
    "out = total_points(grades)\n",
    "out2 = final_grades(out)\n",
    "out3 = letter_proportions(out)\n",
    "out3.sum()"
   ]
  },
  {
   "cell_type": "code",
   "execution_count": 20,
   "metadata": {
    "deletable": false,
    "editable": false
   },
   "outputs": [
    {
     "data": {
      "text/html": [
       "<p><strong><pre style='display: inline;'>q7</pre></strong> passed!</p>"
      ],
      "text/plain": [
       "q7 results: All test cases passed!"
      ]
     },
     "execution_count": 20,
     "metadata": {},
     "output_type": "execute_result"
    }
   ],
   "source": [
    "grader.check(\"q7\")"
   ]
  },
  {
   "cell_type": "markdown",
   "metadata": {},
   "source": [
    "<a name='part2'></a>\n",
    "\n",
    "## Part 2: Redemption 🙏\n",
    "\n",
    "([return to the outline](#Navigating-the-Project))\n",
    "\n",
    "The syllabus we've used so far was put together by Professor Yutian, who has taught CSD 18 for several iterations. This was Professor Dylan's first time teaching CSD 18, and towards the end of the quarter he proposed a new idea to reward students for showing an improvement in their understanding of the earlier ideas in the course on the final exam. Specifically, here's what he proposed:\n",
    "\n",
    "- The instructors will identify the questions on the final exam that contain content that was also covered on the midterm exam. Call these \"redemption questions.\"\n",
    "- For each student, compute their \"raw redemption score\", which is the proportion of points available on redemption questions that they earned. If they did not take the final exam, their raw redemption score is 0.\n",
    "- Convert the class' raw redemption scores to z-scores, i.e. to standard units.\n",
    "- Convert the class' original midterm exam grades, as proportions, to z-scores.\n",
    "- If a student's raw redemption z-score is higher than their original midterm exam z-score, replace their original midterm exam score with one that has a z-score equal to their raw redemption z-score. This is done by converting their raw redemption z-score back to a midterm grade proportion using the standard deviation and mean of the midterm exam.\n",
    "- If not, leave their original midterm exam score as-is. **Note that this policy can only increase a student's midterm exam score (and, hence, their total course grade), not decrease!**\n",
    "\n",
    "As a refresher from [DSC 10](https://dsc-courses.github.io/dsc10-2022-fa/resources/lectures/lec21/lec21.html#Standard-units), to convert a sequence of numbers to z-scores, or standard units, we use the following formula:\n",
    "\n",
    "$$z(x_i) = \\frac{x_i - \\text{mean of } x}{\\text{SD of }x}$$\n",
    "\n",
    "To illustrate this redemption policy, let's look at a concrete example.\n",
    "\n",
    "- Suppose the final exam was worth 80 points. 55 of these points came from Questions 2, 4, 6, 8, and 9, which were the redemption questions. The class' mean score on just the redemption questions was 0.8, with a standard deviation of 0.15.\n",
    "- Suppose the midterm exam was worth 70 points. The class' mean score on the midterm exam was 0.6, with a standard deviation of 0.25.\n",
    "- Jasmine, a student in the course, earned a $\\frac{74}{80}$ on the final exam, including a $\\frac{51}{55}$ on the redemption questions, and a $\\frac{53}{70}$ on the midterm exam. Then:\n",
    "    - Her raw redemption score is $\\frac{51}{55}$, and her redemption z-score is $\\frac{\\frac{51}{55} - 0.8}{0.15} \\approx 0.8485$.\n",
    "    - Her midterm z-score is $\\frac{\\frac{53}{70} - 0.6}{0.25} \\approx 0.6286$.\n",
    "    - Since her redemption z-score, $0.8485$, is greater than her midterm z-score, $0.6286$, her midterm exam score of $\\frac{53}{70} \\approx 0.7571$ will be replaced with:\n",
    "    \n",
    "    $$\\text{Jasmine's redemption z-score} \\cdot \\text{class' midterm SD} + \\text{class' midterm mean} \\approx 0.8485 \\cdot 0.25 + 0.6 = \\boxed{0.8121}$$\n",
    "\n",
    "Now, your job will be to implement this redemption policy and recompute each student's total course points. Before proceeding, you should think about _why_ Professor Dylan has chosen to implement the redemption policy in terms of z-scores, rather than in terms of raw scores.\n",
    "\n",
    "A few more things to consider:\n",
    "- We rounded in the example above, but you should not round at any point in this part.\n",
    "- After redemption, midterm exam grades should be capped at 1 (as a proportion), i.e. 100%."
   ]
  },
  {
   "cell_type": "markdown",
   "metadata": {},
   "source": [
    "It turns out that CSVs like `grades.csv` don't actually contain all of the information you'll need to implement this policy. For instance, `grades` only contains each student's total final exam grade, but not the number of points they earned on each question.\n",
    "\n",
    "That information will come from another source. For the students whose grades are in `grades`, the CSV `data/final_exam_breakdown.csv` contains the number of points each student earned on each question of CSD 18's final exam. Run the cell below to load this CSV in as a DataFrame named `final_breakdown`."
   ]
  },
  {
   "cell_type": "code",
   "execution_count": 21,
   "metadata": {},
   "outputs": [
    {
     "data": {
      "text/html": [
       "<div>\n",
       "<style scoped>\n",
       "    .dataframe tbody tr th:only-of-type {\n",
       "        vertical-align: middle;\n",
       "    }\n",
       "\n",
       "    .dataframe tbody tr th {\n",
       "        vertical-align: top;\n",
       "    }\n",
       "\n",
       "    .dataframe thead th {\n",
       "        text-align: right;\n",
       "    }\n",
       "</style>\n",
       "<table border=\"1\" class=\"dataframe\">\n",
       "  <thead>\n",
       "    <tr style=\"text-align: right;\">\n",
       "      <th></th>\n",
       "      <th>PID</th>\n",
       "      <th>Question 1 (5.0 pts)</th>\n",
       "      <th>Question 2 (6.0 pts)</th>\n",
       "      <th>Question 3 (8.0 pts)</th>\n",
       "      <th>Question 4 (6.0 pts)</th>\n",
       "      <th>Question 5 (10.0 pts)</th>\n",
       "      <th>Question 6 (6.0 pts)</th>\n",
       "      <th>Question 7 (10.0 pts)</th>\n",
       "      <th>Question 8 (6.0 pts)</th>\n",
       "      <th>Question 9 (9.0 pts)</th>\n",
       "      <th>Question 10 (10.0 pts)</th>\n",
       "      <th>Question 11 (4.0 pts)</th>\n",
       "      <th>Question 12 (7.0 pts)</th>\n",
       "    </tr>\n",
       "  </thead>\n",
       "  <tbody>\n",
       "    <tr>\n",
       "      <th>0</th>\n",
       "      <td>A99432453</td>\n",
       "      <td>3.0</td>\n",
       "      <td>6.0</td>\n",
       "      <td>8.0</td>\n",
       "      <td>5.0</td>\n",
       "      <td>5.0</td>\n",
       "      <td>6.0</td>\n",
       "      <td>4.0</td>\n",
       "      <td>3.0</td>\n",
       "      <td>4.0</td>\n",
       "      <td>4.0</td>\n",
       "      <td>4.0</td>\n",
       "      <td>4.0</td>\n",
       "    </tr>\n",
       "    <tr>\n",
       "      <th>1</th>\n",
       "      <td>A99152420</td>\n",
       "      <td>5.0</td>\n",
       "      <td>6.0</td>\n",
       "      <td>8.0</td>\n",
       "      <td>5.0</td>\n",
       "      <td>10.0</td>\n",
       "      <td>6.0</td>\n",
       "      <td>9.0</td>\n",
       "      <td>6.0</td>\n",
       "      <td>4.0</td>\n",
       "      <td>10.0</td>\n",
       "      <td>4.0</td>\n",
       "      <td>5.0</td>\n",
       "    </tr>\n",
       "    <tr>\n",
       "      <th>2</th>\n",
       "      <td>A99892710</td>\n",
       "      <td>3.0</td>\n",
       "      <td>5.0</td>\n",
       "      <td>8.0</td>\n",
       "      <td>4.0</td>\n",
       "      <td>4.0</td>\n",
       "      <td>5.0</td>\n",
       "      <td>3.0</td>\n",
       "      <td>6.0</td>\n",
       "      <td>9.0</td>\n",
       "      <td>9.0</td>\n",
       "      <td>4.0</td>\n",
       "      <td>7.0</td>\n",
       "    </tr>\n",
       "    <tr>\n",
       "      <th>3</th>\n",
       "      <td>A99381181</td>\n",
       "      <td>NaN</td>\n",
       "      <td>NaN</td>\n",
       "      <td>NaN</td>\n",
       "      <td>NaN</td>\n",
       "      <td>NaN</td>\n",
       "      <td>NaN</td>\n",
       "      <td>NaN</td>\n",
       "      <td>NaN</td>\n",
       "      <td>NaN</td>\n",
       "      <td>NaN</td>\n",
       "      <td>NaN</td>\n",
       "      <td>NaN</td>\n",
       "    </tr>\n",
       "    <tr>\n",
       "      <th>4</th>\n",
       "      <td>A99990217</td>\n",
       "      <td>4.0</td>\n",
       "      <td>6.0</td>\n",
       "      <td>8.0</td>\n",
       "      <td>6.0</td>\n",
       "      <td>7.0</td>\n",
       "      <td>6.0</td>\n",
       "      <td>7.0</td>\n",
       "      <td>5.0</td>\n",
       "      <td>9.0</td>\n",
       "      <td>4.0</td>\n",
       "      <td>4.0</td>\n",
       "      <td>7.0</td>\n",
       "    </tr>\n",
       "  </tbody>\n",
       "</table>\n",
       "</div>"
      ],
      "text/plain": [
       "         PID  Question 1 (5.0 pts)  Question 2 (6.0 pts)  \\\n",
       "0  A99432453                   3.0                   6.0   \n",
       "1  A99152420                   5.0                   6.0   \n",
       "2  A99892710                   3.0                   5.0   \n",
       "3  A99381181                   NaN                   NaN   \n",
       "4  A99990217                   4.0                   6.0   \n",
       "\n",
       "   Question 3 (8.0 pts)  Question 4 (6.0 pts)  Question 5 (10.0 pts)  \\\n",
       "0                   8.0                   5.0                    5.0   \n",
       "1                   8.0                   5.0                   10.0   \n",
       "2                   8.0                   4.0                    4.0   \n",
       "3                   NaN                   NaN                    NaN   \n",
       "4                   8.0                   6.0                    7.0   \n",
       "\n",
       "   Question 6 (6.0 pts)  Question 7 (10.0 pts)  Question 8 (6.0 pts)  \\\n",
       "0                   6.0                    4.0                   3.0   \n",
       "1                   6.0                    9.0                   6.0   \n",
       "2                   5.0                    3.0                   6.0   \n",
       "3                   NaN                    NaN                   NaN   \n",
       "4                   6.0                    7.0                   5.0   \n",
       "\n",
       "   Question 9 (9.0 pts)  Question 10 (10.0 pts)  Question 11 (4.0 pts)  \\\n",
       "0                   4.0                     4.0                    4.0   \n",
       "1                   4.0                    10.0                    4.0   \n",
       "2                   9.0                     9.0                    4.0   \n",
       "3                   NaN                     NaN                    NaN   \n",
       "4                   9.0                     4.0                    4.0   \n",
       "\n",
       "   Question 12 (7.0 pts)  \n",
       "0                    4.0  \n",
       "1                    5.0  \n",
       "2                    7.0  \n",
       "3                    NaN  \n",
       "4                    7.0  "
      ]
     },
     "execution_count": 21,
     "metadata": {},
     "output_type": "execute_result"
    }
   ],
   "source": [
    "final_breakdown_fp = Path('data') / 'final_exam_breakdown.csv'\n",
    "final_breakdown = pd.read_csv(final_breakdown_fp)\n",
    "final_breakdown.head()"
   ]
  },
  {
   "cell_type": "markdown",
   "metadata": {},
   "source": [
    "Note that `final_breakdown` has the same number of rows as `grades`, but a different number of columns:"
   ]
  },
  {
   "cell_type": "code",
   "execution_count": 22,
   "metadata": {},
   "outputs": [
    {
     "data": {
      "text/plain": [
       "(535, 13)"
      ]
     },
     "execution_count": 22,
     "metadata": {},
     "output_type": "execute_result"
    }
   ],
   "source": [
    "final_breakdown.shape"
   ]
  },
  {
   "cell_type": "markdown",
   "metadata": {},
   "source": [
    "Also note that student `'A99381181'` has a score of `NaN` for each question because they did not take the final exam:"
   ]
  },
  {
   "cell_type": "code",
   "execution_count": 23,
   "metadata": {},
   "outputs": [
    {
     "data": {
      "text/plain": [
       "86   NaN\n",
       "Name: Final, dtype: float64"
      ]
     },
     "execution_count": 23,
     "metadata": {},
     "output_type": "execute_result"
    }
   ],
   "source": [
    "grades.loc[grades['PID'] == 'A99381181', 'Final']"
   ]
  },
  {
   "cell_type": "markdown",
   "metadata": {},
   "source": [
    "### Question 8\n",
    "\n",
    "([return to the outline](#Navigating-the-Project))\n",
    "\n",
    "Let's get started.\n",
    "\n",
    "#### `raw_redemption`\n",
    "\n",
    "Complete the implementation of the function `raw_redemption`, which takes in a DataFrame like `final_breakdown` and a list of integers, corresponding to the question numbers for \"redemption questions.\" The function should return a DataFrame with two columns:\n",
    "- `'PID'`, the PID for each student in `final_breakdown`.\n",
    "- `'Raw Redemption Score'`, which is the proportion of points each student earned, when only considering redemption questions.\n",
    "\n",
    "For example, suppose `example_breakdown` is as follows:\n",
    "\n",
    "<table border=\"1\" class=\"dataframe\">\n",
    "  <thead>\n",
    "    <tr style=\"text-align: right;\">\n",
    "      <th></th>\n",
    "      <th>PID</th>\n",
    "      <th>Question 1 (6.0 pts)</th>\n",
    "      <th>Question 2 (3.0 pts)</th>\n",
    "      <th>Question 3 (1.0 pts)</th>\n",
    "      <th>Question 4 (4.5 pts)</th>\n",
    "    </tr>\n",
    "  </thead>\n",
    "  <tbody>\n",
    "    <tr>\n",
    "      <th>0</th>\n",
    "      <td>A99706914</td>\n",
    "      <td>6</td>\n",
    "      <td>3</td>\n",
    "      <td>1</td>\n",
    "      <td>4.5</td>\n",
    "    </tr>\n",
    "    <tr>\n",
    "      <th>1</th>\n",
    "      <td>A99237411</td>\n",
    "      <td>2</td>\n",
    "      <td>0</td>\n",
    "      <td>1</td>\n",
    "      <td>4.5</td>\n",
    "    </tr>\n",
    "    <tr>\n",
    "      <th>2</th>\n",
    "      <td>A99489712</td>\n",
    "      <td>4</td>\n",
    "      <td>1</td>\n",
    "      <td>0</td>\n",
    "      <td>4.0</td>\n",
    "    </tr>\n",
    "  </tbody>\n",
    "</table>\n",
    "\n",
    "`raw_redemption(example_breakdown, [1, 3])` should return the following DataFrame:\n",
    "\n",
    "<table border=\"1\" class=\"dataframe\">\n",
    "  <thead>\n",
    "    <tr style=\"text-align: right;\">\n",
    "      <th></th>\n",
    "      <th>PID</th>\n",
    "      <th>Raw Redemption Score</th>\n",
    "    </tr>\n",
    "  </thead>\n",
    "  <tbody>\n",
    "    <tr>\n",
    "      <th>0</th>\n",
    "      <td>A99706914</td>\n",
    "      <td>1.000000</td>\n",
    "    </tr>\n",
    "    <tr>\n",
    "      <th>1</th>\n",
    "      <td>A99237411</td>\n",
    "      <td>0.428571</td>\n",
    "    </tr>\n",
    "    <tr>\n",
    "      <th>2</th>\n",
    "      <td>A99489712</td>\n",
    "      <td>0.571429</td>\n",
    "    </tr>\n",
    "  </tbody>\n",
    "</table>\n",
    "\n",
    "\n",
    "\n",
    "***Notes***:\n",
    "- **Assume that for each question in `final_breakdown`, at least one student received a perfect score.**\n",
    "- Assume that the input DataFrame will be in the same format as `final_breakdown`, in that the column at position 0 will be labeled `'PID'`, the column at position 1 will contain scores for Question 1, the column at position 2 will contain scores for Question 2, and so on.\n",
    "- If a student didn't take the final, their raw redemption score should be 0.\n",
    "- Again, do not round.\n",
    "\n",
    "<br>\n",
    "\n",
    "#### `combine_grades`\n",
    "\n",
    "Then, complete the implementation of the function `combine_grades`, which takes in a DataFrame like `grades` and a DataFrame like the one returned by `raw_redemption`. The function should return a new DataFrame with all the columns from `grades`, plus a new column labelled `'Raw Redemption Score'` which contains the raw redemption score for each student.\n",
    "\n",
    "***Hint***: We cannot directly add the `'Raw Redemption Score'` from the redemption DataFrame to the `grades` DataFrame, as the `'PID'` columns in the two DataFrames won't necessarily match."
   ]
  },
  {
   "cell_type": "code",
   "execution_count": 24,
   "metadata": {
    "tags": []
   },
   "outputs": [],
   "source": [
    "def raw_redemption(redemption_scores, question_list):\n",
    "    redemption_scores = redemption_scores.fillna(0)\n",
    "    max_points_per_question = redemption_scores.max().drop(\"PID\")\n",
    "    total_score = redemption_scores[[\"PID\"]]\n",
    "    total_score = total_score.assign(Raw_Redemption_Score = 0)\n",
    "    total_max = 0\n",
    "    for i in np.arange(len(question_list)):\n",
    "        question_score = redemption_scores.iloc[:,question_list[i]]\n",
    "        total_score[\"Raw_Redemption_Score\"] = total_score[\"Raw_Redemption_Score\"] + question_score\n",
    "        question_max = question_score.max()\n",
    "        total_max += question_max\n",
    "    total_score[\"Raw_Redemption_Score\"] = total_score[\"Raw_Redemption_Score\"] / total_max\n",
    "    total_score = total_score.rename(columns={\"Raw_Redemption_Score\": \"Raw Redemption Score\"})\n",
    "    return total_score"
   ]
  },
  {
   "cell_type": "code",
   "execution_count": 25,
   "metadata": {},
   "outputs": [
    {
     "data": {
      "text/html": [
       "<div>\n",
       "<style scoped>\n",
       "    .dataframe tbody tr th:only-of-type {\n",
       "        vertical-align: middle;\n",
       "    }\n",
       "\n",
       "    .dataframe tbody tr th {\n",
       "        vertical-align: top;\n",
       "    }\n",
       "\n",
       "    .dataframe thead th {\n",
       "        text-align: right;\n",
       "    }\n",
       "</style>\n",
       "<table border=\"1\" class=\"dataframe\">\n",
       "  <thead>\n",
       "    <tr style=\"text-align: right;\">\n",
       "      <th></th>\n",
       "      <th>PID</th>\n",
       "      <th>Raw Redemption Score</th>\n",
       "    </tr>\n",
       "  </thead>\n",
       "  <tbody>\n",
       "    <tr>\n",
       "      <th>0</th>\n",
       "      <td>A99432453</td>\n",
       "      <td>0.846154</td>\n",
       "    </tr>\n",
       "    <tr>\n",
       "      <th>1</th>\n",
       "      <td>A99152420</td>\n",
       "      <td>1.000000</td>\n",
       "    </tr>\n",
       "    <tr>\n",
       "      <th>2</th>\n",
       "      <td>A99892710</td>\n",
       "      <td>0.846154</td>\n",
       "    </tr>\n",
       "    <tr>\n",
       "      <th>3</th>\n",
       "      <td>A99381181</td>\n",
       "      <td>0.000000</td>\n",
       "    </tr>\n",
       "    <tr>\n",
       "      <th>4</th>\n",
       "      <td>A99990217</td>\n",
       "      <td>0.923077</td>\n",
       "    </tr>\n",
       "    <tr>\n",
       "      <th>...</th>\n",
       "      <td>...</td>\n",
       "      <td>...</td>\n",
       "    </tr>\n",
       "    <tr>\n",
       "      <th>530</th>\n",
       "      <td>A99190272</td>\n",
       "      <td>1.000000</td>\n",
       "    </tr>\n",
       "    <tr>\n",
       "      <th>531</th>\n",
       "      <td>A99330622</td>\n",
       "      <td>1.000000</td>\n",
       "    </tr>\n",
       "    <tr>\n",
       "      <th>532</th>\n",
       "      <td>A99152694</td>\n",
       "      <td>0.615385</td>\n",
       "    </tr>\n",
       "    <tr>\n",
       "      <th>533</th>\n",
       "      <td>A99174029</td>\n",
       "      <td>0.769231</td>\n",
       "    </tr>\n",
       "    <tr>\n",
       "      <th>534</th>\n",
       "      <td>A99043621</td>\n",
       "      <td>1.000000</td>\n",
       "    </tr>\n",
       "  </tbody>\n",
       "</table>\n",
       "<p>535 rows × 2 columns</p>\n",
       "</div>"
      ],
      "text/plain": [
       "           PID  Raw Redemption Score\n",
       "0    A99432453              0.846154\n",
       "1    A99152420              1.000000\n",
       "2    A99892710              0.846154\n",
       "3    A99381181              0.000000\n",
       "4    A99990217              0.923077\n",
       "..         ...                   ...\n",
       "530  A99190272              1.000000\n",
       "531  A99330622              1.000000\n",
       "532  A99152694              0.615385\n",
       "533  A99174029              0.769231\n",
       "534  A99043621              1.000000\n",
       "\n",
       "[535 rows x 2 columns]"
      ]
     },
     "execution_count": 25,
     "metadata": {},
     "output_type": "execute_result"
    }
   ],
   "source": [
    "result = raw_redemption(final_breakdown, [1,3])\n",
    "result#[result[\"Raw Redemption Score\"] == 0]\n",
    "#final_breakdown[final_breakdown[\"PID\"] == \"A99381181\"]"
   ]
  },
  {
   "cell_type": "code",
   "execution_count": 26,
   "metadata": {
    "tags": []
   },
   "outputs": [],
   "source": [
    "def combine_grades(full_grades, redemption_scores):\n",
    "    return full_grades.merge(redemption_scores, on=\"PID\")"
   ]
  },
  {
   "cell_type": "code",
   "execution_count": 27,
   "metadata": {},
   "outputs": [
    {
     "data": {
      "text/html": [
       "<div>\n",
       "<style scoped>\n",
       "    .dataframe tbody tr th:only-of-type {\n",
       "        vertical-align: middle;\n",
       "    }\n",
       "\n",
       "    .dataframe tbody tr th {\n",
       "        vertical-align: top;\n",
       "    }\n",
       "\n",
       "    .dataframe thead th {\n",
       "        text-align: right;\n",
       "    }\n",
       "</style>\n",
       "<table border=\"1\" class=\"dataframe\">\n",
       "  <thead>\n",
       "    <tr style=\"text-align: right;\">\n",
       "      <th></th>\n",
       "      <th>PID</th>\n",
       "      <th>College</th>\n",
       "      <th>Level</th>\n",
       "      <th>Section</th>\n",
       "      <th>lab01</th>\n",
       "      <th>lab01 - Max Points</th>\n",
       "      <th>lab01 - Lateness (H:M:S)</th>\n",
       "      <th>lab02</th>\n",
       "      <th>lab02 - Max Points</th>\n",
       "      <th>lab02 - Lateness (H:M:S)</th>\n",
       "      <th>...</th>\n",
       "      <th>discussion08</th>\n",
       "      <th>discussion08 - Max Points</th>\n",
       "      <th>discussion08 - Lateness (H:M:S)</th>\n",
       "      <th>discussion09</th>\n",
       "      <th>discussion09 - Max Points</th>\n",
       "      <th>discussion09 - Lateness (H:M:S)</th>\n",
       "      <th>discussion10</th>\n",
       "      <th>discussion10 - Max Points</th>\n",
       "      <th>discussion10 - Lateness (H:M:S)</th>\n",
       "      <th>Raw Redemption Score</th>\n",
       "    </tr>\n",
       "  </thead>\n",
       "  <tbody>\n",
       "    <tr>\n",
       "      <th>0</th>\n",
       "      <td>A99706914</td>\n",
       "      <td>ERC</td>\n",
       "      <td>JR</td>\n",
       "      <td>A22</td>\n",
       "      <td>99.735279</td>\n",
       "      <td>100.0</td>\n",
       "      <td>00:00:00</td>\n",
       "      <td>84.990171</td>\n",
       "      <td>100.0</td>\n",
       "      <td>00:00:00</td>\n",
       "      <td>...</td>\n",
       "      <td>8.895294</td>\n",
       "      <td>10</td>\n",
       "      <td>00:00:00</td>\n",
       "      <td>10.000000</td>\n",
       "      <td>10</td>\n",
       "      <td>780:01:28</td>\n",
       "      <td>10.000000</td>\n",
       "      <td>10</td>\n",
       "      <td>00:00:00</td>\n",
       "      <td>0.846154</td>\n",
       "    </tr>\n",
       "    <tr>\n",
       "      <th>1</th>\n",
       "      <td>A99237411</td>\n",
       "      <td>Eighth</td>\n",
       "      <td>JR</td>\n",
       "      <td>A29</td>\n",
       "      <td>98.829476</td>\n",
       "      <td>100.0</td>\n",
       "      <td>00:00:00</td>\n",
       "      <td>50.784231</td>\n",
       "      <td>100.0</td>\n",
       "      <td>00:00:00</td>\n",
       "      <td>...</td>\n",
       "      <td>9.022407</td>\n",
       "      <td>10</td>\n",
       "      <td>00:00:00</td>\n",
       "      <td>9.020283</td>\n",
       "      <td>10</td>\n",
       "      <td>00:00:00</td>\n",
       "      <td>9.437368</td>\n",
       "      <td>10</td>\n",
       "      <td>00:00:00</td>\n",
       "      <td>0.923077</td>\n",
       "    </tr>\n",
       "    <tr>\n",
       "      <th>2</th>\n",
       "      <td>A99690544</td>\n",
       "      <td>Revelle</td>\n",
       "      <td>SR</td>\n",
       "      <td>A12</td>\n",
       "      <td>86.513369</td>\n",
       "      <td>100.0</td>\n",
       "      <td>00:00:00</td>\n",
       "      <td>47.802820</td>\n",
       "      <td>100.0</td>\n",
       "      <td>00:00:00</td>\n",
       "      <td>...</td>\n",
       "      <td>3.030538</td>\n",
       "      <td>10</td>\n",
       "      <td>00:04:51</td>\n",
       "      <td>7.613698</td>\n",
       "      <td>10</td>\n",
       "      <td>00:00:00</td>\n",
       "      <td>9.624617</td>\n",
       "      <td>10</td>\n",
       "      <td>00:00:00</td>\n",
       "      <td>1.000000</td>\n",
       "    </tr>\n",
       "    <tr>\n",
       "      <th>3</th>\n",
       "      <td>A99427381</td>\n",
       "      <td>Seventh</td>\n",
       "      <td>JR</td>\n",
       "      <td>A14</td>\n",
       "      <td>100.000000</td>\n",
       "      <td>100.0</td>\n",
       "      <td>00:00:00</td>\n",
       "      <td>100.000000</td>\n",
       "      <td>100.0</td>\n",
       "      <td>00:00:00</td>\n",
       "      <td>...</td>\n",
       "      <td>10.000000</td>\n",
       "      <td>10</td>\n",
       "      <td>00:00:00</td>\n",
       "      <td>9.249126</td>\n",
       "      <td>10</td>\n",
       "      <td>00:00:00</td>\n",
       "      <td>10.000000</td>\n",
       "      <td>10</td>\n",
       "      <td>00:00:00</td>\n",
       "      <td>1.000000</td>\n",
       "    </tr>\n",
       "    <tr>\n",
       "      <th>4</th>\n",
       "      <td>A99489712</td>\n",
       "      <td>Sixth</td>\n",
       "      <td>JR</td>\n",
       "      <td>A24</td>\n",
       "      <td>66.506974</td>\n",
       "      <td>100.0</td>\n",
       "      <td>00:00:00</td>\n",
       "      <td>33.422412</td>\n",
       "      <td>100.0</td>\n",
       "      <td>00:00:00</td>\n",
       "      <td>...</td>\n",
       "      <td>4.439606</td>\n",
       "      <td>10</td>\n",
       "      <td>00:00:00</td>\n",
       "      <td>4.485291</td>\n",
       "      <td>10</td>\n",
       "      <td>00:00:00</td>\n",
       "      <td>6.282712</td>\n",
       "      <td>10</td>\n",
       "      <td>00:00:00</td>\n",
       "      <td>0.923077</td>\n",
       "    </tr>\n",
       "    <tr>\n",
       "      <th>...</th>\n",
       "      <td>...</td>\n",
       "      <td>...</td>\n",
       "      <td>...</td>\n",
       "      <td>...</td>\n",
       "      <td>...</td>\n",
       "      <td>...</td>\n",
       "      <td>...</td>\n",
       "      <td>...</td>\n",
       "      <td>...</td>\n",
       "      <td>...</td>\n",
       "      <td>...</td>\n",
       "      <td>...</td>\n",
       "      <td>...</td>\n",
       "      <td>...</td>\n",
       "      <td>...</td>\n",
       "      <td>...</td>\n",
       "      <td>...</td>\n",
       "      <td>...</td>\n",
       "      <td>...</td>\n",
       "      <td>...</td>\n",
       "      <td>...</td>\n",
       "    </tr>\n",
       "    <tr>\n",
       "      <th>530</th>\n",
       "      <td>A99073025</td>\n",
       "      <td>Warren</td>\n",
       "      <td>JR</td>\n",
       "      <td>A12</td>\n",
       "      <td>100.000000</td>\n",
       "      <td>100.0</td>\n",
       "      <td>47:26:10</td>\n",
       "      <td>82.022753</td>\n",
       "      <td>100.0</td>\n",
       "      <td>00:00:00</td>\n",
       "      <td>...</td>\n",
       "      <td>10.000000</td>\n",
       "      <td>10</td>\n",
       "      <td>12:08:58</td>\n",
       "      <td>9.169447</td>\n",
       "      <td>10</td>\n",
       "      <td>00:00:00</td>\n",
       "      <td>10.000000</td>\n",
       "      <td>10</td>\n",
       "      <td>00:00:00</td>\n",
       "      <td>0.923077</td>\n",
       "    </tr>\n",
       "    <tr>\n",
       "      <th>531</th>\n",
       "      <td>A99257552</td>\n",
       "      <td>Warren</td>\n",
       "      <td>SO</td>\n",
       "      <td>A02</td>\n",
       "      <td>100.000000</td>\n",
       "      <td>100.0</td>\n",
       "      <td>00:00:00</td>\n",
       "      <td>87.498073</td>\n",
       "      <td>100.0</td>\n",
       "      <td>00:00:00</td>\n",
       "      <td>...</td>\n",
       "      <td>10.000000</td>\n",
       "      <td>10</td>\n",
       "      <td>00:00:00</td>\n",
       "      <td>10.000000</td>\n",
       "      <td>10</td>\n",
       "      <td>00:00:00</td>\n",
       "      <td>10.000000</td>\n",
       "      <td>10</td>\n",
       "      <td>00:00:00</td>\n",
       "      <td>0.923077</td>\n",
       "    </tr>\n",
       "    <tr>\n",
       "      <th>532</th>\n",
       "      <td>A99592629</td>\n",
       "      <td>Revelle</td>\n",
       "      <td>JR</td>\n",
       "      <td>A15</td>\n",
       "      <td>88.656641</td>\n",
       "      <td>100.0</td>\n",
       "      <td>00:00:00</td>\n",
       "      <td>90.326041</td>\n",
       "      <td>100.0</td>\n",
       "      <td>00:00:00</td>\n",
       "      <td>...</td>\n",
       "      <td>9.878661</td>\n",
       "      <td>10</td>\n",
       "      <td>00:00:00</td>\n",
       "      <td>8.878946</td>\n",
       "      <td>10</td>\n",
       "      <td>00:00:00</td>\n",
       "      <td>10.000000</td>\n",
       "      <td>10</td>\n",
       "      <td>00:00:00</td>\n",
       "      <td>0.769231</td>\n",
       "    </tr>\n",
       "    <tr>\n",
       "      <th>533</th>\n",
       "      <td>A99033808</td>\n",
       "      <td>Seventh</td>\n",
       "      <td>SR</td>\n",
       "      <td>A13</td>\n",
       "      <td>83.799719</td>\n",
       "      <td>100.0</td>\n",
       "      <td>00:00:00</td>\n",
       "      <td>85.636947</td>\n",
       "      <td>100.0</td>\n",
       "      <td>00:00:00</td>\n",
       "      <td>...</td>\n",
       "      <td>7.759434</td>\n",
       "      <td>10</td>\n",
       "      <td>00:00:00</td>\n",
       "      <td>8.655478</td>\n",
       "      <td>10</td>\n",
       "      <td>419:06:41</td>\n",
       "      <td>8.102277</td>\n",
       "      <td>10</td>\n",
       "      <td>00:00:00</td>\n",
       "      <td>0.692308</td>\n",
       "    </tr>\n",
       "    <tr>\n",
       "      <th>534</th>\n",
       "      <td>A99855328</td>\n",
       "      <td>Seventh</td>\n",
       "      <td>SR</td>\n",
       "      <td>A01</td>\n",
       "      <td>88.389331</td>\n",
       "      <td>100.0</td>\n",
       "      <td>00:00:00</td>\n",
       "      <td>73.045171</td>\n",
       "      <td>100.0</td>\n",
       "      <td>00:00:00</td>\n",
       "      <td>...</td>\n",
       "      <td>10.000000</td>\n",
       "      <td>10</td>\n",
       "      <td>00:00:00</td>\n",
       "      <td>9.515494</td>\n",
       "      <td>10</td>\n",
       "      <td>00:00:00</td>\n",
       "      <td>10.000000</td>\n",
       "      <td>10</td>\n",
       "      <td>00:00:00</td>\n",
       "      <td>1.000000</td>\n",
       "    </tr>\n",
       "  </tbody>\n",
       "</table>\n",
       "<p>535 rows × 102 columns</p>\n",
       "</div>"
      ],
      "text/plain": [
       "           PID  College Level Section       lab01  lab01 - Max Points  \\\n",
       "0    A99706914      ERC    JR     A22   99.735279               100.0   \n",
       "1    A99237411   Eighth    JR     A29   98.829476               100.0   \n",
       "2    A99690544  Revelle    SR     A12   86.513369               100.0   \n",
       "3    A99427381  Seventh    JR     A14  100.000000               100.0   \n",
       "4    A99489712    Sixth    JR     A24   66.506974               100.0   \n",
       "..         ...      ...   ...     ...         ...                 ...   \n",
       "530  A99073025   Warren    JR     A12  100.000000               100.0   \n",
       "531  A99257552   Warren    SO     A02  100.000000               100.0   \n",
       "532  A99592629  Revelle    JR     A15   88.656641               100.0   \n",
       "533  A99033808  Seventh    SR     A13   83.799719               100.0   \n",
       "534  A99855328  Seventh    SR     A01   88.389331               100.0   \n",
       "\n",
       "    lab01 - Lateness (H:M:S)       lab02  lab02 - Max Points  \\\n",
       "0                   00:00:00   84.990171               100.0   \n",
       "1                   00:00:00   50.784231               100.0   \n",
       "2                   00:00:00   47.802820               100.0   \n",
       "3                   00:00:00  100.000000               100.0   \n",
       "4                   00:00:00   33.422412               100.0   \n",
       "..                       ...         ...                 ...   \n",
       "530                 47:26:10   82.022753               100.0   \n",
       "531                 00:00:00   87.498073               100.0   \n",
       "532                 00:00:00   90.326041               100.0   \n",
       "533                 00:00:00   85.636947               100.0   \n",
       "534                 00:00:00   73.045171               100.0   \n",
       "\n",
       "    lab02 - Lateness (H:M:S)  ...  discussion08  discussion08 - Max Points  \\\n",
       "0                   00:00:00  ...      8.895294                         10   \n",
       "1                   00:00:00  ...      9.022407                         10   \n",
       "2                   00:00:00  ...      3.030538                         10   \n",
       "3                   00:00:00  ...     10.000000                         10   \n",
       "4                   00:00:00  ...      4.439606                         10   \n",
       "..                       ...  ...           ...                        ...   \n",
       "530                 00:00:00  ...     10.000000                         10   \n",
       "531                 00:00:00  ...     10.000000                         10   \n",
       "532                 00:00:00  ...      9.878661                         10   \n",
       "533                 00:00:00  ...      7.759434                         10   \n",
       "534                 00:00:00  ...     10.000000                         10   \n",
       "\n",
       "    discussion08 - Lateness (H:M:S)  discussion09  discussion09 - Max Points  \\\n",
       "0                          00:00:00     10.000000                         10   \n",
       "1                          00:00:00      9.020283                         10   \n",
       "2                          00:04:51      7.613698                         10   \n",
       "3                          00:00:00      9.249126                         10   \n",
       "4                          00:00:00      4.485291                         10   \n",
       "..                              ...           ...                        ...   \n",
       "530                        12:08:58      9.169447                         10   \n",
       "531                        00:00:00     10.000000                         10   \n",
       "532                        00:00:00      8.878946                         10   \n",
       "533                        00:00:00      8.655478                         10   \n",
       "534                        00:00:00      9.515494                         10   \n",
       "\n",
       "    discussion09 - Lateness (H:M:S)  discussion10  discussion10 - Max Points  \\\n",
       "0                         780:01:28     10.000000                         10   \n",
       "1                          00:00:00      9.437368                         10   \n",
       "2                          00:00:00      9.624617                         10   \n",
       "3                          00:00:00     10.000000                         10   \n",
       "4                          00:00:00      6.282712                         10   \n",
       "..                              ...           ...                        ...   \n",
       "530                        00:00:00     10.000000                         10   \n",
       "531                        00:00:00     10.000000                         10   \n",
       "532                        00:00:00     10.000000                         10   \n",
       "533                       419:06:41      8.102277                         10   \n",
       "534                        00:00:00     10.000000                         10   \n",
       "\n",
       "    discussion10 - Lateness (H:M:S)  Raw Redemption Score  \n",
       "0                          00:00:00              0.846154  \n",
       "1                          00:00:00              0.923077  \n",
       "2                          00:00:00              1.000000  \n",
       "3                          00:00:00              1.000000  \n",
       "4                          00:00:00              0.923077  \n",
       "..                              ...                   ...  \n",
       "530                        00:00:00              0.923077  \n",
       "531                        00:00:00              0.923077  \n",
       "532                        00:00:00              0.769231  \n",
       "533                        00:00:00              0.692308  \n",
       "534                        00:00:00              1.000000  \n",
       "\n",
       "[535 rows x 102 columns]"
      ]
     },
     "execution_count": 27,
     "metadata": {},
     "output_type": "execute_result"
    }
   ],
   "source": [
    "result2 = combine_grades(grades, raw_redemption(final_breakdown, [1,3]))\n",
    "result2"
   ]
  },
  {
   "cell_type": "code",
   "execution_count": 28,
   "metadata": {
    "deletable": false,
    "editable": false
   },
   "outputs": [
    {
     "data": {
      "text/html": [
       "<p><strong><pre style='display: inline;'>q8</pre></strong> passed!</p>"
      ],
      "text/plain": [
       "q8 results: All test cases passed!"
      ]
     },
     "execution_count": 28,
     "metadata": {},
     "output_type": "execute_result"
    }
   ],
   "source": [
    "grader.check(\"q8\")"
   ]
  },
  {
   "cell_type": "markdown",
   "metadata": {},
   "source": [
    "For our particular offering of CSD 18, the redemption questions on the final exam were Questions 1, 2, 3, 7, 9, and 12. Run the cell below to define a new DataFrame named `grades_combined` that results from calling the above two functions on grades from this class."
   ]
  },
  {
   "cell_type": "code",
   "execution_count": 29,
   "metadata": {},
   "outputs": [
    {
     "data": {
      "text/html": [
       "<div>\n",
       "<style scoped>\n",
       "    .dataframe tbody tr th:only-of-type {\n",
       "        vertical-align: middle;\n",
       "    }\n",
       "\n",
       "    .dataframe tbody tr th {\n",
       "        vertical-align: top;\n",
       "    }\n",
       "\n",
       "    .dataframe thead th {\n",
       "        text-align: right;\n",
       "    }\n",
       "</style>\n",
       "<table border=\"1\" class=\"dataframe\">\n",
       "  <thead>\n",
       "    <tr style=\"text-align: right;\">\n",
       "      <th></th>\n",
       "      <th>PID</th>\n",
       "      <th>College</th>\n",
       "      <th>Level</th>\n",
       "      <th>Section</th>\n",
       "      <th>lab01</th>\n",
       "      <th>lab01 - Max Points</th>\n",
       "      <th>lab01 - Lateness (H:M:S)</th>\n",
       "      <th>lab02</th>\n",
       "      <th>lab02 - Max Points</th>\n",
       "      <th>lab02 - Lateness (H:M:S)</th>\n",
       "      <th>...</th>\n",
       "      <th>discussion08</th>\n",
       "      <th>discussion08 - Max Points</th>\n",
       "      <th>discussion08 - Lateness (H:M:S)</th>\n",
       "      <th>discussion09</th>\n",
       "      <th>discussion09 - Max Points</th>\n",
       "      <th>discussion09 - Lateness (H:M:S)</th>\n",
       "      <th>discussion10</th>\n",
       "      <th>discussion10 - Max Points</th>\n",
       "      <th>discussion10 - Lateness (H:M:S)</th>\n",
       "      <th>Raw Redemption Score</th>\n",
       "    </tr>\n",
       "  </thead>\n",
       "  <tbody>\n",
       "    <tr>\n",
       "      <th>0</th>\n",
       "      <td>A99706914</td>\n",
       "      <td>ERC</td>\n",
       "      <td>JR</td>\n",
       "      <td>A22</td>\n",
       "      <td>99.735279</td>\n",
       "      <td>100.0</td>\n",
       "      <td>00:00:00</td>\n",
       "      <td>84.990171</td>\n",
       "      <td>100.0</td>\n",
       "      <td>00:00:00</td>\n",
       "      <td>...</td>\n",
       "      <td>8.895294</td>\n",
       "      <td>10</td>\n",
       "      <td>00:00:00</td>\n",
       "      <td>10.000000</td>\n",
       "      <td>10</td>\n",
       "      <td>780:01:28</td>\n",
       "      <td>10.000000</td>\n",
       "      <td>10</td>\n",
       "      <td>00:00:00</td>\n",
       "      <td>0.844444</td>\n",
       "    </tr>\n",
       "    <tr>\n",
       "      <th>1</th>\n",
       "      <td>A99237411</td>\n",
       "      <td>Eighth</td>\n",
       "      <td>JR</td>\n",
       "      <td>A29</td>\n",
       "      <td>98.829476</td>\n",
       "      <td>100.0</td>\n",
       "      <td>00:00:00</td>\n",
       "      <td>50.784231</td>\n",
       "      <td>100.0</td>\n",
       "      <td>00:00:00</td>\n",
       "      <td>...</td>\n",
       "      <td>9.022407</td>\n",
       "      <td>10</td>\n",
       "      <td>00:00:00</td>\n",
       "      <td>9.020283</td>\n",
       "      <td>10</td>\n",
       "      <td>00:00:00</td>\n",
       "      <td>9.437368</td>\n",
       "      <td>10</td>\n",
       "      <td>00:00:00</td>\n",
       "      <td>0.866667</td>\n",
       "    </tr>\n",
       "    <tr>\n",
       "      <th>2</th>\n",
       "      <td>A99690544</td>\n",
       "      <td>Revelle</td>\n",
       "      <td>SR</td>\n",
       "      <td>A12</td>\n",
       "      <td>86.513369</td>\n",
       "      <td>100.0</td>\n",
       "      <td>00:00:00</td>\n",
       "      <td>47.802820</td>\n",
       "      <td>100.0</td>\n",
       "      <td>00:00:00</td>\n",
       "      <td>...</td>\n",
       "      <td>3.030538</td>\n",
       "      <td>10</td>\n",
       "      <td>00:04:51</td>\n",
       "      <td>7.613698</td>\n",
       "      <td>10</td>\n",
       "      <td>00:00:00</td>\n",
       "      <td>9.624617</td>\n",
       "      <td>10</td>\n",
       "      <td>00:00:00</td>\n",
       "      <td>0.777778</td>\n",
       "    </tr>\n",
       "    <tr>\n",
       "      <th>3</th>\n",
       "      <td>A99427381</td>\n",
       "      <td>Seventh</td>\n",
       "      <td>JR</td>\n",
       "      <td>A14</td>\n",
       "      <td>100.000000</td>\n",
       "      <td>100.0</td>\n",
       "      <td>00:00:00</td>\n",
       "      <td>100.000000</td>\n",
       "      <td>100.0</td>\n",
       "      <td>00:00:00</td>\n",
       "      <td>...</td>\n",
       "      <td>10.000000</td>\n",
       "      <td>10</td>\n",
       "      <td>00:00:00</td>\n",
       "      <td>9.249126</td>\n",
       "      <td>10</td>\n",
       "      <td>00:00:00</td>\n",
       "      <td>10.000000</td>\n",
       "      <td>10</td>\n",
       "      <td>00:00:00</td>\n",
       "      <td>0.888889</td>\n",
       "    </tr>\n",
       "    <tr>\n",
       "      <th>4</th>\n",
       "      <td>A99489712</td>\n",
       "      <td>Sixth</td>\n",
       "      <td>JR</td>\n",
       "      <td>A24</td>\n",
       "      <td>66.506974</td>\n",
       "      <td>100.0</td>\n",
       "      <td>00:00:00</td>\n",
       "      <td>33.422412</td>\n",
       "      <td>100.0</td>\n",
       "      <td>00:00:00</td>\n",
       "      <td>...</td>\n",
       "      <td>4.439606</td>\n",
       "      <td>10</td>\n",
       "      <td>00:00:00</td>\n",
       "      <td>4.485291</td>\n",
       "      <td>10</td>\n",
       "      <td>00:00:00</td>\n",
       "      <td>6.282712</td>\n",
       "      <td>10</td>\n",
       "      <td>00:00:00</td>\n",
       "      <td>0.822222</td>\n",
       "    </tr>\n",
       "  </tbody>\n",
       "</table>\n",
       "<p>5 rows × 102 columns</p>\n",
       "</div>"
      ],
      "text/plain": [
       "         PID  College Level Section       lab01  lab01 - Max Points  \\\n",
       "0  A99706914      ERC    JR     A22   99.735279               100.0   \n",
       "1  A99237411   Eighth    JR     A29   98.829476               100.0   \n",
       "2  A99690544  Revelle    SR     A12   86.513369               100.0   \n",
       "3  A99427381  Seventh    JR     A14  100.000000               100.0   \n",
       "4  A99489712    Sixth    JR     A24   66.506974               100.0   \n",
       "\n",
       "  lab01 - Lateness (H:M:S)       lab02  lab02 - Max Points  \\\n",
       "0                 00:00:00   84.990171               100.0   \n",
       "1                 00:00:00   50.784231               100.0   \n",
       "2                 00:00:00   47.802820               100.0   \n",
       "3                 00:00:00  100.000000               100.0   \n",
       "4                 00:00:00   33.422412               100.0   \n",
       "\n",
       "  lab02 - Lateness (H:M:S)  ...  discussion08  discussion08 - Max Points  \\\n",
       "0                 00:00:00  ...      8.895294                         10   \n",
       "1                 00:00:00  ...      9.022407                         10   \n",
       "2                 00:00:00  ...      3.030538                         10   \n",
       "3                 00:00:00  ...     10.000000                         10   \n",
       "4                 00:00:00  ...      4.439606                         10   \n",
       "\n",
       "  discussion08 - Lateness (H:M:S)  discussion09  discussion09 - Max Points  \\\n",
       "0                        00:00:00     10.000000                         10   \n",
       "1                        00:00:00      9.020283                         10   \n",
       "2                        00:04:51      7.613698                         10   \n",
       "3                        00:00:00      9.249126                         10   \n",
       "4                        00:00:00      4.485291                         10   \n",
       "\n",
       "  discussion09 - Lateness (H:M:S)  discussion10  discussion10 - Max Points  \\\n",
       "0                       780:01:28     10.000000                         10   \n",
       "1                        00:00:00      9.437368                         10   \n",
       "2                        00:00:00      9.624617                         10   \n",
       "3                        00:00:00     10.000000                         10   \n",
       "4                        00:00:00      6.282712                         10   \n",
       "\n",
       "  discussion10 - Lateness (H:M:S)  Raw Redemption Score  \n",
       "0                        00:00:00              0.844444  \n",
       "1                        00:00:00              0.866667  \n",
       "2                        00:00:00              0.777778  \n",
       "3                        00:00:00              0.888889  \n",
       "4                        00:00:00              0.822222  \n",
       "\n",
       "[5 rows x 102 columns]"
      ]
     },
     "execution_count": 29,
     "metadata": {},
     "output_type": "execute_result"
    }
   ],
   "source": [
    "grades_combined = combine_grades(grades, raw_redemption(final_breakdown, [1, 2, 3, 7, 9, 12]))\n",
    "grades_combined.head()"
   ]
  },
  {
   "cell_type": "markdown",
   "metadata": {},
   "source": [
    "### Question 9\n",
    "\n",
    "([return to the outline](#Navigating-the-Project))\n",
    "\n",
    "Now that we have all of our information about each student in one DataFrame, we can compute their z-score on both the original midterm exam and the redemption questions on the final exam.\n",
    "\n",
    "#### `z_score`\n",
    "\n",
    "Complete the implementation of the function `z_score`, which takes in a Series of numbers and returns a Series in which all elements are converted to z-scores. As a reminder, to convert a sequence of numbers to z-scores, or standard units, we use the following formula:\n",
    "\n",
    "$$z(x_i) = \\frac{x_i - \\text{mean of } x}{\\text{SD of }x}$$\n",
    "\n",
    "***Notes***:\n",
    "\n",
    "- Make sure to set the `ddof=0` in whichever method or function you use to compute standard deviation. `numpy` and `pandas` both use different default denominators when computing standard deviation. (`ddof=0` computes the \"population\" standard deviation and `ddof=1` computes the \"sample\" standard deviation.)\n",
    "- Do **not** fill null values – that is, if a value in the input Series is `NaN`, its value in the output Series should also be `NaN`. (Depending on how you implement `z_score`, this may happen automatically.)\n",
    "    - Address null midterm scores in `add_post_redemption`, not `z_score`.\n",
    "\n",
    "<br>\n",
    "\n",
    "#### `add_post_redemption`\n",
    "\n",
    "Complete the implementation of the function `add_post_redemption`, which takes in a DataFrame like `grades_combined` and returns a DataFrame with all the columns from `grades_combined` in addition to two new columns:\n",
    "- `'Midterm Score Pre-Redemption'`, which contains each student's midterm exam score as a proportion between 0 and 1 **before** redemption.\n",
    "- `'Midterm Score Post-Redemption'`, which containing each student's midterm exam score **after** the redemption policy has been applied, again as a proportion between 0 and 1.\n",
    "\n",
    "You can use your `z_score` function to compute the z-scores of each student's original midterm exam grades and raw redemption scores. **Note that there are students who didn't take the midterm; such students need to have their `NaN` scores fixed prior to calculating their pre-redemption z-scores**, otherwise, you may end up incorrectly giving them `NaN` post-redemption midterm scores. None of the redemption z-scores should be `NaN`, since you handled null values in your implementation of `raw_redemption`.\n",
    "\n",
    "If it's not clear, **computing the `'Midterm Score Post-Redemption'` column is the most complicated part of this question**. Make sure you understand how the redemption policy for CSD 18 works before approaching this question. If you need to refresh your understanding, re-read the instructions at the start of [Part 2](#part2)."
   ]
  },
  {
   "cell_type": "code",
   "execution_count": 30,
   "metadata": {
    "tags": []
   },
   "outputs": [],
   "source": [
    "def z_score(score_series):\n",
    "    mean_score = score_series.mean()\n",
    "    std_score = score_series.std(ddof=0)\n",
    "    return ((score_series - mean_score) / std_score)"
   ]
  },
  {
   "cell_type": "code",
   "execution_count": 31,
   "metadata": {
    "tags": []
   },
   "outputs": [
    {
     "data": {
      "text/plain": [
       "0      1.203503\n",
       "1      0.578950\n",
       "2     -0.190087\n",
       "3      0.827412\n",
       "4     -2.946270\n",
       "         ...   \n",
       "530    0.365205\n",
       "531   -2.084513\n",
       "532    0.353396\n",
       "533    1.203503\n",
       "534   -0.136247\n",
       "Name: Midterm, Length: 535, dtype: float64"
      ]
     },
     "execution_count": 31,
     "metadata": {},
     "output_type": "execute_result"
    }
   ],
   "source": [
    "z_score_of_midterms = z_score(grades_combined[\"Midterm\"])\n",
    "z_score_of_midterms"
   ]
  },
  {
   "cell_type": "code",
   "execution_count": 32,
   "metadata": {},
   "outputs": [],
   "source": [
    "def add_post_redemption(scores_with_redemption):\n",
    "    scores_with_redemption['Midterm Score Pre-Redemption'] = (scores_with_redemption[\"Midterm\"] /\n",
    "                                                              scores_with_redemption['Midterm - Max Points'])\n",
    "    \n",
    "    redemption_zscore = z_score(scores_with_redemption['Raw Redemption Score'])\n",
    "    midterm_zscore = z_score(scores_with_redemption[\"Midterm Score Pre-Redemption\"])\n",
    "    \n",
    "    midterm_scores = scores_with_redemption['Midterm Score Pre-Redemption']\n",
    "    \n",
    "    tf_series = redemption_zscore < midterm_zscore\n",
    "    \n",
    "    final_score = midterm_scores.where(tf_series, (redemption_zscore * scores_with_redemption['Midterm Score Pre-Redemption'].std(ddof=0)\n",
    "                           + scores_with_redemption['Midterm Score Pre-Redemption'].mean()))\n",
    "    \n",
    "    scores_with_redemption['Midterm Score Post-Redemption'] = final_score\n",
    "    return scores_with_redemption"
   ]
  },
  {
   "cell_type": "code",
   "execution_count": 33,
   "metadata": {},
   "outputs": [
    {
     "data": {
      "text/html": [
       "<div>\n",
       "<style scoped>\n",
       "    .dataframe tbody tr th:only-of-type {\n",
       "        vertical-align: middle;\n",
       "    }\n",
       "\n",
       "    .dataframe tbody tr th {\n",
       "        vertical-align: top;\n",
       "    }\n",
       "\n",
       "    .dataframe thead th {\n",
       "        text-align: right;\n",
       "    }\n",
       "</style>\n",
       "<table border=\"1\" class=\"dataframe\">\n",
       "  <thead>\n",
       "    <tr style=\"text-align: right;\">\n",
       "      <th></th>\n",
       "      <th>PID</th>\n",
       "      <th>College</th>\n",
       "      <th>Level</th>\n",
       "      <th>Section</th>\n",
       "      <th>lab01</th>\n",
       "      <th>lab01 - Max Points</th>\n",
       "      <th>lab01 - Lateness (H:M:S)</th>\n",
       "      <th>lab02</th>\n",
       "      <th>lab02 - Max Points</th>\n",
       "      <th>lab02 - Lateness (H:M:S)</th>\n",
       "      <th>...</th>\n",
       "      <th>discussion08 - Lateness (H:M:S)</th>\n",
       "      <th>discussion09</th>\n",
       "      <th>discussion09 - Max Points</th>\n",
       "      <th>discussion09 - Lateness (H:M:S)</th>\n",
       "      <th>discussion10</th>\n",
       "      <th>discussion10 - Max Points</th>\n",
       "      <th>discussion10 - Lateness (H:M:S)</th>\n",
       "      <th>Raw Redemption Score</th>\n",
       "      <th>Midterm Score Pre-Redemption</th>\n",
       "      <th>Midterm Score Post-Redemption</th>\n",
       "    </tr>\n",
       "  </thead>\n",
       "  <tbody>\n",
       "    <tr>\n",
       "      <th>0</th>\n",
       "      <td>A99706914</td>\n",
       "      <td>ERC</td>\n",
       "      <td>JR</td>\n",
       "      <td>A22</td>\n",
       "      <td>99.735279</td>\n",
       "      <td>100.0</td>\n",
       "      <td>00:00:00</td>\n",
       "      <td>84.990171</td>\n",
       "      <td>100.0</td>\n",
       "      <td>00:00:00</td>\n",
       "      <td>...</td>\n",
       "      <td>00:00:00</td>\n",
       "      <td>10.000000</td>\n",
       "      <td>10</td>\n",
       "      <td>780:01:28</td>\n",
       "      <td>10.000000</td>\n",
       "      <td>10</td>\n",
       "      <td>00:00:00</td>\n",
       "      <td>0.844444</td>\n",
       "      <td>1.000000</td>\n",
       "      <td>1.000000</td>\n",
       "    </tr>\n",
       "    <tr>\n",
       "      <th>1</th>\n",
       "      <td>A99237411</td>\n",
       "      <td>Eighth</td>\n",
       "      <td>JR</td>\n",
       "      <td>A29</td>\n",
       "      <td>98.829476</td>\n",
       "      <td>100.0</td>\n",
       "      <td>00:00:00</td>\n",
       "      <td>50.784231</td>\n",
       "      <td>100.0</td>\n",
       "      <td>00:00:00</td>\n",
       "      <td>...</td>\n",
       "      <td>00:00:00</td>\n",
       "      <td>9.020283</td>\n",
       "      <td>10</td>\n",
       "      <td>00:00:00</td>\n",
       "      <td>9.437368</td>\n",
       "      <td>10</td>\n",
       "      <td>00:00:00</td>\n",
       "      <td>0.866667</td>\n",
       "      <td>0.912166</td>\n",
       "      <td>0.912166</td>\n",
       "    </tr>\n",
       "    <tr>\n",
       "      <th>2</th>\n",
       "      <td>A99690544</td>\n",
       "      <td>Revelle</td>\n",
       "      <td>SR</td>\n",
       "      <td>A12</td>\n",
       "      <td>86.513369</td>\n",
       "      <td>100.0</td>\n",
       "      <td>00:00:00</td>\n",
       "      <td>47.802820</td>\n",
       "      <td>100.0</td>\n",
       "      <td>00:00:00</td>\n",
       "      <td>...</td>\n",
       "      <td>00:04:51</td>\n",
       "      <td>7.613698</td>\n",
       "      <td>10</td>\n",
       "      <td>00:00:00</td>\n",
       "      <td>9.624617</td>\n",
       "      <td>10</td>\n",
       "      <td>00:00:00</td>\n",
       "      <td>0.777778</td>\n",
       "      <td>0.804012</td>\n",
       "      <td>0.804012</td>\n",
       "    </tr>\n",
       "    <tr>\n",
       "      <th>3</th>\n",
       "      <td>A99427381</td>\n",
       "      <td>Seventh</td>\n",
       "      <td>JR</td>\n",
       "      <td>A14</td>\n",
       "      <td>100.000000</td>\n",
       "      <td>100.0</td>\n",
       "      <td>00:00:00</td>\n",
       "      <td>100.000000</td>\n",
       "      <td>100.0</td>\n",
       "      <td>00:00:00</td>\n",
       "      <td>...</td>\n",
       "      <td>00:00:00</td>\n",
       "      <td>9.249126</td>\n",
       "      <td>10</td>\n",
       "      <td>00:00:00</td>\n",
       "      <td>10.000000</td>\n",
       "      <td>10</td>\n",
       "      <td>00:00:00</td>\n",
       "      <td>0.888889</td>\n",
       "      <td>0.947108</td>\n",
       "      <td>0.947108</td>\n",
       "    </tr>\n",
       "    <tr>\n",
       "      <th>4</th>\n",
       "      <td>A99489712</td>\n",
       "      <td>Sixth</td>\n",
       "      <td>JR</td>\n",
       "      <td>A24</td>\n",
       "      <td>66.506974</td>\n",
       "      <td>100.0</td>\n",
       "      <td>00:00:00</td>\n",
       "      <td>33.422412</td>\n",
       "      <td>100.0</td>\n",
       "      <td>00:00:00</td>\n",
       "      <td>...</td>\n",
       "      <td>00:00:00</td>\n",
       "      <td>4.485291</td>\n",
       "      <td>10</td>\n",
       "      <td>00:00:00</td>\n",
       "      <td>6.282712</td>\n",
       "      <td>10</td>\n",
       "      <td>00:00:00</td>\n",
       "      <td>0.822222</td>\n",
       "      <td>0.416396</td>\n",
       "      <td>0.837158</td>\n",
       "    </tr>\n",
       "    <tr>\n",
       "      <th>...</th>\n",
       "      <td>...</td>\n",
       "      <td>...</td>\n",
       "      <td>...</td>\n",
       "      <td>...</td>\n",
       "      <td>...</td>\n",
       "      <td>...</td>\n",
       "      <td>...</td>\n",
       "      <td>...</td>\n",
       "      <td>...</td>\n",
       "      <td>...</td>\n",
       "      <td>...</td>\n",
       "      <td>...</td>\n",
       "      <td>...</td>\n",
       "      <td>...</td>\n",
       "      <td>...</td>\n",
       "      <td>...</td>\n",
       "      <td>...</td>\n",
       "      <td>...</td>\n",
       "      <td>...</td>\n",
       "      <td>...</td>\n",
       "      <td>...</td>\n",
       "    </tr>\n",
       "    <tr>\n",
       "      <th>530</th>\n",
       "      <td>A99073025</td>\n",
       "      <td>Warren</td>\n",
       "      <td>JR</td>\n",
       "      <td>A12</td>\n",
       "      <td>100.000000</td>\n",
       "      <td>100.0</td>\n",
       "      <td>47:26:10</td>\n",
       "      <td>82.022753</td>\n",
       "      <td>100.0</td>\n",
       "      <td>00:00:00</td>\n",
       "      <td>...</td>\n",
       "      <td>12:08:58</td>\n",
       "      <td>9.169447</td>\n",
       "      <td>10</td>\n",
       "      <td>00:00:00</td>\n",
       "      <td>10.000000</td>\n",
       "      <td>10</td>\n",
       "      <td>00:00:00</td>\n",
       "      <td>0.755556</td>\n",
       "      <td>0.882106</td>\n",
       "      <td>0.882106</td>\n",
       "    </tr>\n",
       "    <tr>\n",
       "      <th>531</th>\n",
       "      <td>A99257552</td>\n",
       "      <td>Warren</td>\n",
       "      <td>SO</td>\n",
       "      <td>A02</td>\n",
       "      <td>100.000000</td>\n",
       "      <td>100.0</td>\n",
       "      <td>00:00:00</td>\n",
       "      <td>87.498073</td>\n",
       "      <td>100.0</td>\n",
       "      <td>00:00:00</td>\n",
       "      <td>...</td>\n",
       "      <td>00:00:00</td>\n",
       "      <td>10.000000</td>\n",
       "      <td>10</td>\n",
       "      <td>00:00:00</td>\n",
       "      <td>10.000000</td>\n",
       "      <td>10</td>\n",
       "      <td>00:00:00</td>\n",
       "      <td>0.800000</td>\n",
       "      <td>0.537590</td>\n",
       "      <td>0.816615</td>\n",
       "    </tr>\n",
       "    <tr>\n",
       "      <th>532</th>\n",
       "      <td>A99592629</td>\n",
       "      <td>Revelle</td>\n",
       "      <td>JR</td>\n",
       "      <td>A15</td>\n",
       "      <td>88.656641</td>\n",
       "      <td>100.0</td>\n",
       "      <td>00:00:00</td>\n",
       "      <td>90.326041</td>\n",
       "      <td>100.0</td>\n",
       "      <td>00:00:00</td>\n",
       "      <td>...</td>\n",
       "      <td>00:00:00</td>\n",
       "      <td>8.878946</td>\n",
       "      <td>10</td>\n",
       "      <td>00:00:00</td>\n",
       "      <td>10.000000</td>\n",
       "      <td>10</td>\n",
       "      <td>00:00:00</td>\n",
       "      <td>0.711111</td>\n",
       "      <td>0.880445</td>\n",
       "      <td>0.880445</td>\n",
       "    </tr>\n",
       "    <tr>\n",
       "      <th>533</th>\n",
       "      <td>A99033808</td>\n",
       "      <td>Seventh</td>\n",
       "      <td>SR</td>\n",
       "      <td>A13</td>\n",
       "      <td>83.799719</td>\n",
       "      <td>100.0</td>\n",
       "      <td>00:00:00</td>\n",
       "      <td>85.636947</td>\n",
       "      <td>100.0</td>\n",
       "      <td>00:00:00</td>\n",
       "      <td>...</td>\n",
       "      <td>00:00:00</td>\n",
       "      <td>8.655478</td>\n",
       "      <td>10</td>\n",
       "      <td>419:06:41</td>\n",
       "      <td>8.102277</td>\n",
       "      <td>10</td>\n",
       "      <td>00:00:00</td>\n",
       "      <td>0.866667</td>\n",
       "      <td>1.000000</td>\n",
       "      <td>1.000000</td>\n",
       "    </tr>\n",
       "    <tr>\n",
       "      <th>534</th>\n",
       "      <td>A99855328</td>\n",
       "      <td>Seventh</td>\n",
       "      <td>SR</td>\n",
       "      <td>A01</td>\n",
       "      <td>88.389331</td>\n",
       "      <td>100.0</td>\n",
       "      <td>00:00:00</td>\n",
       "      <td>73.045171</td>\n",
       "      <td>100.0</td>\n",
       "      <td>00:00:00</td>\n",
       "      <td>...</td>\n",
       "      <td>00:00:00</td>\n",
       "      <td>9.515494</td>\n",
       "      <td>10</td>\n",
       "      <td>00:00:00</td>\n",
       "      <td>10.000000</td>\n",
       "      <td>10</td>\n",
       "      <td>00:00:00</td>\n",
       "      <td>0.955556</td>\n",
       "      <td>0.811584</td>\n",
       "      <td>0.960417</td>\n",
       "    </tr>\n",
       "  </tbody>\n",
       "</table>\n",
       "<p>535 rows × 104 columns</p>\n",
       "</div>"
      ],
      "text/plain": [
       "           PID  College Level Section       lab01  lab01 - Max Points  \\\n",
       "0    A99706914      ERC    JR     A22   99.735279               100.0   \n",
       "1    A99237411   Eighth    JR     A29   98.829476               100.0   \n",
       "2    A99690544  Revelle    SR     A12   86.513369               100.0   \n",
       "3    A99427381  Seventh    JR     A14  100.000000               100.0   \n",
       "4    A99489712    Sixth    JR     A24   66.506974               100.0   \n",
       "..         ...      ...   ...     ...         ...                 ...   \n",
       "530  A99073025   Warren    JR     A12  100.000000               100.0   \n",
       "531  A99257552   Warren    SO     A02  100.000000               100.0   \n",
       "532  A99592629  Revelle    JR     A15   88.656641               100.0   \n",
       "533  A99033808  Seventh    SR     A13   83.799719               100.0   \n",
       "534  A99855328  Seventh    SR     A01   88.389331               100.0   \n",
       "\n",
       "    lab01 - Lateness (H:M:S)       lab02  lab02 - Max Points  \\\n",
       "0                   00:00:00   84.990171               100.0   \n",
       "1                   00:00:00   50.784231               100.0   \n",
       "2                   00:00:00   47.802820               100.0   \n",
       "3                   00:00:00  100.000000               100.0   \n",
       "4                   00:00:00   33.422412               100.0   \n",
       "..                       ...         ...                 ...   \n",
       "530                 47:26:10   82.022753               100.0   \n",
       "531                 00:00:00   87.498073               100.0   \n",
       "532                 00:00:00   90.326041               100.0   \n",
       "533                 00:00:00   85.636947               100.0   \n",
       "534                 00:00:00   73.045171               100.0   \n",
       "\n",
       "    lab02 - Lateness (H:M:S)  ...  discussion08 - Lateness (H:M:S)  \\\n",
       "0                   00:00:00  ...                         00:00:00   \n",
       "1                   00:00:00  ...                         00:00:00   \n",
       "2                   00:00:00  ...                         00:04:51   \n",
       "3                   00:00:00  ...                         00:00:00   \n",
       "4                   00:00:00  ...                         00:00:00   \n",
       "..                       ...  ...                              ...   \n",
       "530                 00:00:00  ...                         12:08:58   \n",
       "531                 00:00:00  ...                         00:00:00   \n",
       "532                 00:00:00  ...                         00:00:00   \n",
       "533                 00:00:00  ...                         00:00:00   \n",
       "534                 00:00:00  ...                         00:00:00   \n",
       "\n",
       "     discussion09 discussion09 - Max Points  discussion09 - Lateness (H:M:S)  \\\n",
       "0       10.000000                        10                        780:01:28   \n",
       "1        9.020283                        10                         00:00:00   \n",
       "2        7.613698                        10                         00:00:00   \n",
       "3        9.249126                        10                         00:00:00   \n",
       "4        4.485291                        10                         00:00:00   \n",
       "..            ...                       ...                              ...   \n",
       "530      9.169447                        10                         00:00:00   \n",
       "531     10.000000                        10                         00:00:00   \n",
       "532      8.878946                        10                         00:00:00   \n",
       "533      8.655478                        10                        419:06:41   \n",
       "534      9.515494                        10                         00:00:00   \n",
       "\n",
       "     discussion10 discussion10 - Max Points  discussion10 - Lateness (H:M:S)  \\\n",
       "0       10.000000                        10                         00:00:00   \n",
       "1        9.437368                        10                         00:00:00   \n",
       "2        9.624617                        10                         00:00:00   \n",
       "3       10.000000                        10                         00:00:00   \n",
       "4        6.282712                        10                         00:00:00   \n",
       "..            ...                       ...                              ...   \n",
       "530     10.000000                        10                         00:00:00   \n",
       "531     10.000000                        10                         00:00:00   \n",
       "532     10.000000                        10                         00:00:00   \n",
       "533      8.102277                        10                         00:00:00   \n",
       "534     10.000000                        10                         00:00:00   \n",
       "\n",
       "     Raw Redemption Score Midterm Score Pre-Redemption  \\\n",
       "0                0.844444                     1.000000   \n",
       "1                0.866667                     0.912166   \n",
       "2                0.777778                     0.804012   \n",
       "3                0.888889                     0.947108   \n",
       "4                0.822222                     0.416396   \n",
       "..                    ...                          ...   \n",
       "530              0.755556                     0.882106   \n",
       "531              0.800000                     0.537590   \n",
       "532              0.711111                     0.880445   \n",
       "533              0.866667                     1.000000   \n",
       "534              0.955556                     0.811584   \n",
       "\n",
       "     Midterm Score Post-Redemption  \n",
       "0                         1.000000  \n",
       "1                         0.912166  \n",
       "2                         0.804012  \n",
       "3                         0.947108  \n",
       "4                         0.837158  \n",
       "..                             ...  \n",
       "530                       0.882106  \n",
       "531                       0.816615  \n",
       "532                       0.880445  \n",
       "533                       1.000000  \n",
       "534                       0.960417  \n",
       "\n",
       "[535 rows x 104 columns]"
      ]
     },
     "execution_count": 33,
     "metadata": {},
     "output_type": "execute_result"
    }
   ],
   "source": [
    "with_zscore = add_post_redemption(grades_combined)\n",
    "with_zscore"
   ]
  },
  {
   "cell_type": "code",
   "execution_count": 34,
   "metadata": {
    "deletable": false,
    "editable": false
   },
   "outputs": [
    {
     "data": {
      "text/html": [
       "<p><strong><pre style='display: inline;'>q9</pre></strong> passed!</p>"
      ],
      "text/plain": [
       "q9 results: All test cases passed!"
      ]
     },
     "execution_count": 34,
     "metadata": {},
     "output_type": "execute_result"
    }
   ],
   "source": [
    "grader.check(\"q9\")"
   ]
  },
  {
   "cell_type": "markdown",
   "metadata": {},
   "source": [
    "### Question 10\n",
    "\n",
    "([return to the outline](#Navigating-the-Project))\n",
    "\n",
    "Now, we're equipped to re-compute each student's course grade after the redemption policy.\n",
    "\n",
    "#### `total_points_post_redemption`\n",
    "\n",
    "Complete the implementation of the function `total_points_post_redemption`, which takes in a DataFrame like `grades_combined` and returns a Series containing each student's course grade after redemption. As a refresher, **course grades should be proportions between 0 and 1.**\n",
    "\n",
    "You should not have to repeat any of your calculations for assignments other than the midterm exam – use your output from `total_points` and adjust it. Remember that, per [the syllabus](#The-Syllabus), the midterm exam is worth 15%.\n",
    "\n",
    "<br>\n",
    "\n",
    "#### `proportion_improved`\n",
    "\n",
    "Finally, complete the implementation of the function `proportion_improved`, which takes in a DataFrame like `grades_combined` and returns the **proportion of students in the class whose letter grade increased** due to the redemption policy.\n",
    "\n",
    "***Hints***:\n",
    "- If you've implemented everything correctly, `proportion_improved(grades_combined)` should evaluate to a proportion between 0.07 and 0.12.\n",
    "- Remember, it is impossible for a student's letter grade to decrease due to the redemption policy."
   ]
  },
  {
   "cell_type": "code",
   "execution_count": 35,
   "metadata": {
    "tags": []
   },
   "outputs": [],
   "source": [
    "def total_points_post_redemption(scores):\n",
    "    scores = scores.fillna(0)\n",
    "\n",
    "    def part_grades(part):\n",
    "        assignments = get_assignment_names(scores)[part]\n",
    "        max_pt_names = [name + ' - Max Points' for name in assignments]\n",
    "        max_pt = scores[max_pt_names].iloc[0]\n",
    "        max_pt = pd.Series(max_pt.values, index=assignments)\n",
    "        \n",
    "        ass_grades = pd.DataFrame()\n",
    "        \n",
    "        for i in np.arange(len(assignments)):\n",
    "            name = assignments[i]\n",
    "            assignment_i = np.array(scores[name])\n",
    "            ass_grades[name] = assignment_i / max_pt[name]\n",
    "        \n",
    "        return ass_grades.mean(axis=1)\n",
    "\n",
    "    all_grades = pd.DataFrame()\n",
    "    parts_left = ['disc', 'checkpoint', 'final']\n",
    "\n",
    "    for part in parts_left:\n",
    "        all_grades[part] = part_grades(part)\n",
    "        \n",
    "    all_grades['project'] = projects_total(scores)\n",
    "    all_grades['lab'] = lab_total(process_labs(scores))\n",
    "    all_grades['midterm'] = scores[\"Midterm Score Post-Redemption\"]\n",
    "\n",
    "    final_grade = (all_grades['disc'] * 0.025 +\n",
    "                   all_grades['checkpoint'] * 0.025 +\n",
    "                   all_grades['midterm'] * 0.15 +\n",
    "                   all_grades['final'] * 0.3 +\n",
    "                   all_grades['project'] * 0.3 +\n",
    "                   all_grades['lab'] * 0.2)\n",
    "    return final_grade"
   ]
  },
  {
   "cell_type": "code",
   "execution_count": 36,
   "metadata": {
    "tags": []
   },
   "outputs": [
    {
     "data": {
      "text/plain": [
       "0      0.902389\n",
       "1      0.816924\n",
       "2      0.759308\n",
       "3      0.908499\n",
       "4      0.737659\n",
       "         ...   \n",
       "530    0.864016\n",
       "531    0.807244\n",
       "532    0.859673\n",
       "533    0.866263\n",
       "534    0.918690\n",
       "Length: 535, dtype: float64"
      ]
     },
     "execution_count": 36,
     "metadata": {},
     "output_type": "execute_result"
    }
   ],
   "source": [
    "out = total_points_post_redemption(grades_combined)\n",
    "out"
   ]
  },
  {
   "cell_type": "code",
   "execution_count": 37,
   "metadata": {},
   "outputs": [],
   "source": [
    "def proportion_improved(scores):\n",
    "    pre_redemption = final_grades(total_points(scores))\n",
    "    post_redemption = final_grades(total_points_post_redemption(scores))\n",
    "    mean_letter_inc = (pre_redemption > post_redemption).mean()\n",
    "    return mean_letter_inc"
   ]
  },
  {
   "cell_type": "code",
   "execution_count": 38,
   "metadata": {},
   "outputs": [
    {
     "data": {
      "text/plain": [
       "0.10841121495327102"
      ]
     },
     "execution_count": 38,
     "metadata": {},
     "output_type": "execute_result"
    }
   ],
   "source": [
    "out = proportion_improved(grades_combined)\n",
    "out"
   ]
  },
  {
   "cell_type": "code",
   "execution_count": 39,
   "metadata": {
    "deletable": false,
    "editable": false
   },
   "outputs": [
    {
     "data": {
      "text/html": [
       "<p><strong><pre style='display: inline;'>q10</pre></strong> passed!</p>"
      ],
      "text/plain": [
       "q10 results: All test cases passed!"
      ]
     },
     "execution_count": 39,
     "metadata": {},
     "output_type": "execute_result"
    }
   ],
   "source": [
    "grader.check(\"q10\")"
   ]
  },
  {
   "cell_type": "markdown",
   "metadata": {},
   "source": [
    "Great! Thanks to your implementation of the redemption policy, a sizeable fraction of CSD 18 students saw their letter grades improve."
   ]
  },
  {
   "cell_type": "markdown",
   "metadata": {},
   "source": [
    "<a name='part3'></a>\n",
    "\n",
    "## Part 3: Analysis 🧠\n",
    "\n",
    "([return to the outline](#Navigating-the-Project))\n",
    "\n",
    "\n",
    "Now that we have students' letter grades before and after redemption, it's time to analyze how the class performed overall. First, because we're going to use them frequently in this part, we'll add a few extra columns to `grades_combined` and call the resulting DataFrame `grades_analysis`."
   ]
  },
  {
   "cell_type": "code",
   "execution_count": 41,
   "metadata": {},
   "outputs": [
    {
     "data": {
      "text/html": [
       "<div>\n",
       "<style scoped>\n",
       "    .dataframe tbody tr th:only-of-type {\n",
       "        vertical-align: middle;\n",
       "    }\n",
       "\n",
       "    .dataframe tbody tr th {\n",
       "        vertical-align: top;\n",
       "    }\n",
       "\n",
       "    .dataframe thead th {\n",
       "        text-align: right;\n",
       "    }\n",
       "</style>\n",
       "<table border=\"1\" class=\"dataframe\">\n",
       "  <thead>\n",
       "    <tr style=\"text-align: right;\">\n",
       "      <th></th>\n",
       "      <th>PID</th>\n",
       "      <th>College</th>\n",
       "      <th>Level</th>\n",
       "      <th>Section</th>\n",
       "      <th>lab01</th>\n",
       "      <th>lab01 - Max Points</th>\n",
       "      <th>lab01 - Lateness (H:M:S)</th>\n",
       "      <th>lab02</th>\n",
       "      <th>lab02 - Max Points</th>\n",
       "      <th>lab02 - Lateness (H:M:S)</th>\n",
       "      <th>...</th>\n",
       "      <th>discussion10</th>\n",
       "      <th>discussion10 - Max Points</th>\n",
       "      <th>discussion10 - Lateness (H:M:S)</th>\n",
       "      <th>Raw Redemption Score</th>\n",
       "      <th>Midterm Score Pre-Redemption</th>\n",
       "      <th>Midterm Score Post-Redemption</th>\n",
       "      <th>Total Points Pre-Redemption</th>\n",
       "      <th>Letter Grade Pre-Redemption</th>\n",
       "      <th>Total Points Post-Redemption</th>\n",
       "      <th>Letter Grade Post-Redemption</th>\n",
       "    </tr>\n",
       "  </thead>\n",
       "  <tbody>\n",
       "    <tr>\n",
       "      <th>0</th>\n",
       "      <td>A99706914</td>\n",
       "      <td>ERC</td>\n",
       "      <td>JR</td>\n",
       "      <td>A22</td>\n",
       "      <td>99.735279</td>\n",
       "      <td>100.0</td>\n",
       "      <td>00:00:00</td>\n",
       "      <td>84.990171</td>\n",
       "      <td>100.0</td>\n",
       "      <td>00:00:00</td>\n",
       "      <td>...</td>\n",
       "      <td>10.000000</td>\n",
       "      <td>10</td>\n",
       "      <td>00:00:00</td>\n",
       "      <td>0.844444</td>\n",
       "      <td>1.000000</td>\n",
       "      <td>1.000000</td>\n",
       "      <td>0.902389</td>\n",
       "      <td>A</td>\n",
       "      <td>0.902389</td>\n",
       "      <td>A</td>\n",
       "    </tr>\n",
       "    <tr>\n",
       "      <th>1</th>\n",
       "      <td>A99237411</td>\n",
       "      <td>Eighth</td>\n",
       "      <td>JR</td>\n",
       "      <td>A29</td>\n",
       "      <td>98.829476</td>\n",
       "      <td>100.0</td>\n",
       "      <td>00:00:00</td>\n",
       "      <td>50.784231</td>\n",
       "      <td>100.0</td>\n",
       "      <td>00:00:00</td>\n",
       "      <td>...</td>\n",
       "      <td>9.437368</td>\n",
       "      <td>10</td>\n",
       "      <td>00:00:00</td>\n",
       "      <td>0.866667</td>\n",
       "      <td>0.912166</td>\n",
       "      <td>0.912166</td>\n",
       "      <td>0.816924</td>\n",
       "      <td>B</td>\n",
       "      <td>0.816924</td>\n",
       "      <td>B</td>\n",
       "    </tr>\n",
       "    <tr>\n",
       "      <th>2</th>\n",
       "      <td>A99690544</td>\n",
       "      <td>Revelle</td>\n",
       "      <td>SR</td>\n",
       "      <td>A12</td>\n",
       "      <td>86.513369</td>\n",
       "      <td>100.0</td>\n",
       "      <td>00:00:00</td>\n",
       "      <td>47.802820</td>\n",
       "      <td>100.0</td>\n",
       "      <td>00:00:00</td>\n",
       "      <td>...</td>\n",
       "      <td>9.624617</td>\n",
       "      <td>10</td>\n",
       "      <td>00:00:00</td>\n",
       "      <td>0.777778</td>\n",
       "      <td>0.804012</td>\n",
       "      <td>0.804012</td>\n",
       "      <td>0.759308</td>\n",
       "      <td>C</td>\n",
       "      <td>0.759308</td>\n",
       "      <td>C</td>\n",
       "    </tr>\n",
       "    <tr>\n",
       "      <th>3</th>\n",
       "      <td>A99427381</td>\n",
       "      <td>Seventh</td>\n",
       "      <td>JR</td>\n",
       "      <td>A14</td>\n",
       "      <td>100.000000</td>\n",
       "      <td>100.0</td>\n",
       "      <td>00:00:00</td>\n",
       "      <td>100.000000</td>\n",
       "      <td>100.0</td>\n",
       "      <td>00:00:00</td>\n",
       "      <td>...</td>\n",
       "      <td>10.000000</td>\n",
       "      <td>10</td>\n",
       "      <td>00:00:00</td>\n",
       "      <td>0.888889</td>\n",
       "      <td>0.947108</td>\n",
       "      <td>0.947108</td>\n",
       "      <td>0.908499</td>\n",
       "      <td>A</td>\n",
       "      <td>0.908499</td>\n",
       "      <td>A</td>\n",
       "    </tr>\n",
       "    <tr>\n",
       "      <th>4</th>\n",
       "      <td>A99489712</td>\n",
       "      <td>Sixth</td>\n",
       "      <td>JR</td>\n",
       "      <td>A24</td>\n",
       "      <td>66.506974</td>\n",
       "      <td>100.0</td>\n",
       "      <td>00:00:00</td>\n",
       "      <td>33.422412</td>\n",
       "      <td>100.0</td>\n",
       "      <td>00:00:00</td>\n",
       "      <td>...</td>\n",
       "      <td>6.282712</td>\n",
       "      <td>10</td>\n",
       "      <td>00:00:00</td>\n",
       "      <td>0.822222</td>\n",
       "      <td>0.416396</td>\n",
       "      <td>0.837158</td>\n",
       "      <td>0.674545</td>\n",
       "      <td>D</td>\n",
       "      <td>0.737659</td>\n",
       "      <td>C</td>\n",
       "    </tr>\n",
       "  </tbody>\n",
       "</table>\n",
       "<p>5 rows × 108 columns</p>\n",
       "</div>"
      ],
      "text/plain": [
       "         PID  College Level Section       lab01  lab01 - Max Points  \\\n",
       "0  A99706914      ERC    JR     A22   99.735279               100.0   \n",
       "1  A99237411   Eighth    JR     A29   98.829476               100.0   \n",
       "2  A99690544  Revelle    SR     A12   86.513369               100.0   \n",
       "3  A99427381  Seventh    JR     A14  100.000000               100.0   \n",
       "4  A99489712    Sixth    JR     A24   66.506974               100.0   \n",
       "\n",
       "  lab01 - Lateness (H:M:S)       lab02  lab02 - Max Points  \\\n",
       "0                 00:00:00   84.990171               100.0   \n",
       "1                 00:00:00   50.784231               100.0   \n",
       "2                 00:00:00   47.802820               100.0   \n",
       "3                 00:00:00  100.000000               100.0   \n",
       "4                 00:00:00   33.422412               100.0   \n",
       "\n",
       "  lab02 - Lateness (H:M:S)  ...  discussion10  discussion10 - Max Points  \\\n",
       "0                 00:00:00  ...     10.000000                         10   \n",
       "1                 00:00:00  ...      9.437368                         10   \n",
       "2                 00:00:00  ...      9.624617                         10   \n",
       "3                 00:00:00  ...     10.000000                         10   \n",
       "4                 00:00:00  ...      6.282712                         10   \n",
       "\n",
       "  discussion10 - Lateness (H:M:S)  Raw Redemption Score  \\\n",
       "0                        00:00:00              0.844444   \n",
       "1                        00:00:00              0.866667   \n",
       "2                        00:00:00              0.777778   \n",
       "3                        00:00:00              0.888889   \n",
       "4                        00:00:00              0.822222   \n",
       "\n",
       "   Midterm Score Pre-Redemption Midterm Score Post-Redemption  \\\n",
       "0                      1.000000                      1.000000   \n",
       "1                      0.912166                      0.912166   \n",
       "2                      0.804012                      0.804012   \n",
       "3                      0.947108                      0.947108   \n",
       "4                      0.416396                      0.837158   \n",
       "\n",
       "   Total Points Pre-Redemption  Letter Grade Pre-Redemption  \\\n",
       "0                     0.902389                            A   \n",
       "1                     0.816924                            B   \n",
       "2                     0.759308                            C   \n",
       "3                     0.908499                            A   \n",
       "4                     0.674545                            D   \n",
       "\n",
       "  Total Points Post-Redemption  Letter Grade Post-Redemption  \n",
       "0                     0.902389                             A  \n",
       "1                     0.816924                             B  \n",
       "2                     0.759308                             C  \n",
       "3                     0.908499                             A  \n",
       "4                     0.737659                             C  \n",
       "\n",
       "[5 rows x 108 columns]"
      ]
     },
     "execution_count": 41,
     "metadata": {},
     "output_type": "execute_result"
    }
   ],
   "source": [
    "grades_analysis = grades_combined.assign(**{\n",
    "    'Total Points Pre-Redemption': total_points(grades_combined),\n",
    "    'Letter Grade Pre-Redemption': final_grades(total_points(grades_combined)),\n",
    "    'Total Points Post-Redemption': total_points_post_redemption(grades_combined),\n",
    "    'Letter Grade Post-Redemption': final_grades(total_points_post_redemption(grades_combined))\n",
    "})\n",
    "grades_analysis.head()"
   ]
  },
  {
   "cell_type": "markdown",
   "metadata": {},
   "source": [
    "You may have noticed that `grades_analysis` has a `'Section'` column that we haven't yet touched. There are 30 unique values in the `'Section'` column – `'A01'`, `'A02'`, ..., `'A30'`, corresponding to the 30 different discussion sections the students CSD 18 were enrolled in. Discussion sections and discussion assignments have nothing to do with one another, for the purposes of calculating grades, and moving forward, we'll refer to these just as \"sections.\""
   ]
  },
  {
   "cell_type": "code",
   "execution_count": 42,
   "metadata": {},
   "outputs": [
    {
     "data": {
      "text/plain": [
       "30"
      ]
     },
     "execution_count": 42,
     "metadata": {},
     "output_type": "execute_result"
    }
   ],
   "source": [
    "grades_analysis['Section'].nunique()"
   ]
  },
  {
   "cell_type": "code",
   "execution_count": 43,
   "metadata": {},
   "outputs": [
    {
     "data": {
      "text/plain": [
       "array(['A22', 'A29', 'A12', 'A14', 'A24', 'A23', 'A01', 'A06', 'A11',\n",
       "       'A28', 'A27', 'A04', 'A02', 'A18', 'A17', 'A15', 'A30', 'A16',\n",
       "       'A13', 'A08', 'A26', 'A05', 'A21', 'A03', 'A19', 'A07', 'A25',\n",
       "       'A10', 'A09', 'A20'], dtype=object)"
      ]
     },
     "execution_count": 43,
     "metadata": {},
     "output_type": "execute_result"
    }
   ],
   "source": [
    "grades_analysis['Section'].unique()"
   ]
  },
  {
   "cell_type": "markdown",
   "metadata": {},
   "source": [
    "Much of our analysis in this part will pertain to how students in different sections performed in CSD 18."
   ]
  },
  {
   "cell_type": "markdown",
   "metadata": {},
   "source": [
    "### Question 11\n",
    "\n",
    "([return to the outline](#Navigating-the-Project))\n",
    "\n",
    "#### `section_most_improved`\n",
    "\n",
    "Complete the implementation of the function `section_most_improved`, which takes in a DataFrame like `grades_analysis` and returns the section in which **the greatest proportion of students had their letter grades increase due to the redemption policy**. For example, if 48\\% of students in section `'A25'` had their letter grades increase due to the redemption policy, and no other section had more than 48\\% of students increase, then `section_most_improved` should return `'A25'`. \n",
    "\n",
    "If there is a tie, return any one of the sections.\n",
    "\n",
    "<br>\n",
    "\n",
    "#### `top_sections`\n",
    "\n",
    "Complete the implementation of the function `top_sections`, which takes in a DataFrame like `grades_analysis`, a float `t` between 0 and 1, and an integer `n`, and returns **an array containing the sections in which at least `n` students earned a raw score of at least `t` on the final exam**. The section names in the returned array should be sorted in alphanumeric order.\n",
    "\n",
    "For example, `top_sections(grades_analysis, 0.75, 10)` should return an array of the sections in which at least 10 students scored at least 75% on the final exam."
   ]
  },
  {
   "cell_type": "code",
   "execution_count": 68,
   "metadata": {
    "tags": []
   },
   "outputs": [],
   "source": [
    "def section_most_improved(final_grades):\n",
    "    final_grades_copy = final_grades.copy()\n",
    "    final_grades_copy['improved'] = final_grades_copy['Letter Grade Pre-Redemption'] > final_grades_copy['Letter Grade Post-Redemption']\n",
    "    best_improved = final_grades_copy.groupby('Section').mean()['improved'].idxmax()\n",
    "    return best_improved"
   ]
  },
  {
   "cell_type": "code",
   "execution_count": 69,
   "metadata": {
    "tags": []
   },
   "outputs": [
    {
     "data": {
      "text/plain": [
       "'A05'"
      ]
     },
     "execution_count": 69,
     "metadata": {},
     "output_type": "execute_result"
    }
   ],
   "source": [
    "out = section_most_improved(grades_analysis)\n",
    "out"
   ]
  },
  {
   "cell_type": "code",
   "execution_count": 90,
   "metadata": {},
   "outputs": [],
   "source": [
    "def top_sections(final_grades, t, n):\n",
    "    final_grades_copy = final_grades.copy()\n",
    "    final_grades_copy['final_percent'] = final_grades_copy['Final'] / final_grades_copy['Final - Max Points']\n",
    "    final_grades_copy['raw_score_good'] = final_grades_copy['final_percent'] >= t\n",
    "    total_good = final_grades_copy.groupby(\"Section\").sum()['raw_score_good']\n",
    "    total_good = total_good[total_good > n]\n",
    "    return np.array(total_good.index)\n",
    "    "
   ]
  },
  {
   "cell_type": "code",
   "execution_count": 91,
   "metadata": {},
   "outputs": [
    {
     "data": {
      "text/plain": [
       "array(['A01', 'A02', 'A03', 'A04', 'A05', 'A06', 'A08', 'A10', 'A11',\n",
       "       'A12', 'A13', 'A14', 'A16', 'A17', 'A18', 'A20', 'A22', 'A23',\n",
       "       'A24', 'A25', 'A26', 'A27', 'A28', 'A29', 'A30'], dtype=object)"
      ]
     },
     "execution_count": 91,
     "metadata": {},
     "output_type": "execute_result"
    }
   ],
   "source": [
    "out = top_sections(grades_analysis, 0.75, 10)\n",
    "out"
   ]
  },
  {
   "cell_type": "code",
   "execution_count": 92,
   "metadata": {
    "deletable": false,
    "editable": false
   },
   "outputs": [
    {
     "data": {
      "text/html": [
       "<p><strong><pre style='display: inline;'>q11</pre></strong> passed!</p>"
      ],
      "text/plain": [
       "q11 results: All test cases passed!"
      ]
     },
     "execution_count": 92,
     "metadata": {},
     "output_type": "execute_result"
    }
   ],
   "source": [
    "grader.check(\"q11\")"
   ]
  },
  {
   "cell_type": "markdown",
   "metadata": {},
   "source": [
    "### Question 12\n",
    "\n",
    "([return to the outline](#Navigating-the-Project))\n",
    "\n",
    "Complete the implementation of the function `rank_by_section`, which takes in a DataFrame like `grades_analysis` and returns a DataFrame describing **students' _ranks_ based on total points (post-redemption) for each section**.\n",
    "\n",
    "Specifically, the DataFrame should have `n` rows that describe the rank – indexed `1`, `2`, ..., `n` (where `n` is the number of students in the largest section), in that order – and 30 columns – `'A01'`, `'A02'`, ..., `'A30'`, in that order. **The entry in row `r` and column `s` should correspond to the PID of the student who had the `r`th most total points in section `s`, after redemption.** For sections that have fewer than `n` students, fill the extra entries in those columns with **empty strings**. Assume there are no ties.\n",
    "\n",
    "For instance, suppose there were only four sections, and the largest section had five students. The DataFrame returned by `rank_by_section` might look like:\n",
    "\n",
    "<table border=\"1\" class=\"dataframe\">\n",
    "  <thead>\n",
    "    <tr style=\"text-align: right;\">\n",
    "      <th>Section</th>\n",
    "      <th>A01</th>\n",
    "      <th>A02</th>\n",
    "      <th>A03</th>\n",
    "      <th>A04</th>\n",
    "    </tr>\n",
    "    <tr>\n",
    "      <th>Section Rank</th>\n",
    "      <th></th>\n",
    "      <th></th>\n",
    "      <th></th>\n",
    "      <th></th>\n",
    "    </tr>\n",
    "  </thead>\n",
    "  <tbody>\n",
    "    <tr>\n",
    "      <th>1</th>\n",
    "      <td>A99404117</td>\n",
    "      <td>A99318825</td>\n",
    "      <td>A99093358</td>\n",
    "      <td>A99339719</td>\n",
    "    </tr>\n",
    "    <tr>\n",
    "      <th>2</th>\n",
    "      <td>A99477753</td>\n",
    "      <td>A99396913</td>\n",
    "      <td>A99933171</td>\n",
    "      <td>A99082089</td>\n",
    "    </tr>\n",
    "    <tr>\n",
    "      <th>3</th>\n",
    "      <td></td>\n",
    "      <td>A99159214</td>\n",
    "      <td>A99164028</td>\n",
    "      <td>A99950565</td>\n",
    "    </tr>\n",
    "    <tr>\n",
    "      <th>4</th>\n",
    "      <td></td>\n",
    "      <td>A99322859</td>\n",
    "      <td></td>\n",
    "      <td>A99715029</td>\n",
    "    </tr>\n",
    "    <tr>\n",
    "      <th>5</th>\n",
    "      <td></td>\n",
    "      <td>A99739120</td>\n",
    "      <td></td>\n",
    "      <td></td>\n",
    "    </tr>\n",
    "  </tbody>\n",
    "</table>\n",
    "\n",
    "Note that the PIDs in your DataFrame will be different than those above; also note that your DataFrame may have a different string where the example has `'Section Rank'`, and that's fine.\n",
    "\n",
    "***Hint***: Our solution used `groupby` with a helper function, and then `pivot` on the result. This is a tricky problem – work through it one step at a time."
   ]
  },
  {
   "cell_type": "code",
   "execution_count": 193,
   "metadata": {
    "tags": []
   },
   "outputs": [],
   "source": [
    "def rank_by_section(final_grades):\n",
    "    agg_student_section = final_grades.groupby(['Section', 'PID']).agg({'Total Points Post-Redemption':sum})\n",
    "    grouped_student_section = agg_student_section['Total Points Post-Redemption'].groupby('Section', group_keys=False)\n",
    "    final_student_section = grouped_student_section.apply(lambda x: x.sort_values(ascending = False))\n",
    "    final_student_section = final_student_section.to_frame()\n",
    "    \n",
    "    total_students = final_grades['Section'].value_counts().sort_index()\n",
    "    section_rank = np.array([])\n",
    "    for i in np.arange(len(total_students)):\n",
    "        ranks = np.arange(1, total_students.iloc[i] + 1)\n",
    "        section_rank = np.append(section_rank, ranks)\n",
    "    \n",
    "    final_student_section['Section Rank'] = section_rank.astype(int)\n",
    "    final_student_section = final_student_section.reset_index()\n",
    "\n",
    "    return final_student_section.pivot(index='Section Rank', columns = 'Section', values=['PID']).fillna(\"\")"
   ]
  },
  {
   "cell_type": "code",
   "execution_count": 194,
   "metadata": {
    "tags": []
   },
   "outputs": [
    {
     "data": {
      "text/html": [
       "<div>\n",
       "<style scoped>\n",
       "    .dataframe tbody tr th:only-of-type {\n",
       "        vertical-align: middle;\n",
       "    }\n",
       "\n",
       "    .dataframe tbody tr th {\n",
       "        vertical-align: top;\n",
       "    }\n",
       "\n",
       "    .dataframe thead tr th {\n",
       "        text-align: left;\n",
       "    }\n",
       "\n",
       "    .dataframe thead tr:last-of-type th {\n",
       "        text-align: right;\n",
       "    }\n",
       "</style>\n",
       "<table border=\"1\" class=\"dataframe\">\n",
       "  <thead>\n",
       "    <tr>\n",
       "      <th></th>\n",
       "      <th colspan=\"21\" halign=\"left\">PID</th>\n",
       "    </tr>\n",
       "    <tr>\n",
       "      <th>Section</th>\n",
       "      <th>A01</th>\n",
       "      <th>A02</th>\n",
       "      <th>A03</th>\n",
       "      <th>A04</th>\n",
       "      <th>A05</th>\n",
       "      <th>A06</th>\n",
       "      <th>A07</th>\n",
       "      <th>A08</th>\n",
       "      <th>A09</th>\n",
       "      <th>A10</th>\n",
       "      <th>...</th>\n",
       "      <th>A21</th>\n",
       "      <th>A22</th>\n",
       "      <th>A23</th>\n",
       "      <th>A24</th>\n",
       "      <th>A25</th>\n",
       "      <th>A26</th>\n",
       "      <th>A27</th>\n",
       "      <th>A28</th>\n",
       "      <th>A29</th>\n",
       "      <th>A30</th>\n",
       "    </tr>\n",
       "    <tr>\n",
       "      <th>Section Rank</th>\n",
       "      <th></th>\n",
       "      <th></th>\n",
       "      <th></th>\n",
       "      <th></th>\n",
       "      <th></th>\n",
       "      <th></th>\n",
       "      <th></th>\n",
       "      <th></th>\n",
       "      <th></th>\n",
       "      <th></th>\n",
       "      <th></th>\n",
       "      <th></th>\n",
       "      <th></th>\n",
       "      <th></th>\n",
       "      <th></th>\n",
       "      <th></th>\n",
       "      <th></th>\n",
       "      <th></th>\n",
       "      <th></th>\n",
       "      <th></th>\n",
       "      <th></th>\n",
       "    </tr>\n",
       "  </thead>\n",
       "  <tbody>\n",
       "    <tr>\n",
       "      <th>1</th>\n",
       "      <td>A99554279</td>\n",
       "      <td>A99434139</td>\n",
       "      <td>A99433693</td>\n",
       "      <td>A99187571</td>\n",
       "      <td>A99005866</td>\n",
       "      <td>A99861848</td>\n",
       "      <td>A99465192</td>\n",
       "      <td>A99822771</td>\n",
       "      <td>A99642988</td>\n",
       "      <td>A99906367</td>\n",
       "      <td>...</td>\n",
       "      <td>A99918730</td>\n",
       "      <td>A99154676</td>\n",
       "      <td>A99488919</td>\n",
       "      <td>A99725232</td>\n",
       "      <td>A99976381</td>\n",
       "      <td>A99241737</td>\n",
       "      <td>A99101160</td>\n",
       "      <td>A99268867</td>\n",
       "      <td>A99797507</td>\n",
       "      <td>A99200920</td>\n",
       "    </tr>\n",
       "    <tr>\n",
       "      <th>2</th>\n",
       "      <td>A99729300</td>\n",
       "      <td>A99768653</td>\n",
       "      <td>A99681733</td>\n",
       "      <td>A99464434</td>\n",
       "      <td>A99058806</td>\n",
       "      <td>A99351423</td>\n",
       "      <td>A99401601</td>\n",
       "      <td>A99005516</td>\n",
       "      <td>A99361565</td>\n",
       "      <td>A99612659</td>\n",
       "      <td>...</td>\n",
       "      <td>A99420529</td>\n",
       "      <td>A99583699</td>\n",
       "      <td>A99688028</td>\n",
       "      <td>A99264628</td>\n",
       "      <td>A99425689</td>\n",
       "      <td>A99718695</td>\n",
       "      <td>A99524149</td>\n",
       "      <td>A99449376</td>\n",
       "      <td>A99743631</td>\n",
       "      <td>A99234372</td>\n",
       "    </tr>\n",
       "    <tr>\n",
       "      <th>3</th>\n",
       "      <td>A99855328</td>\n",
       "      <td>A99323314</td>\n",
       "      <td>A99307531</td>\n",
       "      <td>A99755345</td>\n",
       "      <td>A99684231</td>\n",
       "      <td>A99185365</td>\n",
       "      <td>A99142019</td>\n",
       "      <td>A99667178</td>\n",
       "      <td>A99177000</td>\n",
       "      <td>A99601330</td>\n",
       "      <td>...</td>\n",
       "      <td>A99477620</td>\n",
       "      <td>A99733449</td>\n",
       "      <td>A99784236</td>\n",
       "      <td>A99692599</td>\n",
       "      <td>A99471668</td>\n",
       "      <td>A99673095</td>\n",
       "      <td>A99704673</td>\n",
       "      <td>A99491048</td>\n",
       "      <td>A99787562</td>\n",
       "      <td>A99314573</td>\n",
       "    </tr>\n",
       "    <tr>\n",
       "      <th>4</th>\n",
       "      <td>A99765989</td>\n",
       "      <td>A99267806</td>\n",
       "      <td>A99776300</td>\n",
       "      <td>A99853966</td>\n",
       "      <td>A99445386</td>\n",
       "      <td>A99860066</td>\n",
       "      <td>A99964440</td>\n",
       "      <td>A99150572</td>\n",
       "      <td>A99732298</td>\n",
       "      <td>A99860540</td>\n",
       "      <td>...</td>\n",
       "      <td>A99841774</td>\n",
       "      <td>A99962240</td>\n",
       "      <td>A99302544</td>\n",
       "      <td>A99434027</td>\n",
       "      <td>A99663899</td>\n",
       "      <td>A99630726</td>\n",
       "      <td>A99336610</td>\n",
       "      <td>A99544353</td>\n",
       "      <td>A99156002</td>\n",
       "      <td>A99016583</td>\n",
       "    </tr>\n",
       "    <tr>\n",
       "      <th>5</th>\n",
       "      <td>A99705260</td>\n",
       "      <td>A99293363</td>\n",
       "      <td>A99761150</td>\n",
       "      <td>A99523249</td>\n",
       "      <td>A99803382</td>\n",
       "      <td>A99278317</td>\n",
       "      <td>A99659024</td>\n",
       "      <td>A99650853</td>\n",
       "      <td>A99337484</td>\n",
       "      <td>A99408920</td>\n",
       "      <td>...</td>\n",
       "      <td>A99999789</td>\n",
       "      <td>A99146887</td>\n",
       "      <td>A99043621</td>\n",
       "      <td>A99326575</td>\n",
       "      <td>A99678684</td>\n",
       "      <td>A99772423</td>\n",
       "      <td>A99241375</td>\n",
       "      <td>A99930150</td>\n",
       "      <td>A99230041</td>\n",
       "      <td>A99644077</td>\n",
       "    </tr>\n",
       "    <tr>\n",
       "      <th>6</th>\n",
       "      <td>A99592218</td>\n",
       "      <td>A99479714</td>\n",
       "      <td>A99215099</td>\n",
       "      <td>A99733996</td>\n",
       "      <td>A99073327</td>\n",
       "      <td>A99699336</td>\n",
       "      <td>A99919922</td>\n",
       "      <td>A99789220</td>\n",
       "      <td>A99985911</td>\n",
       "      <td>A99399192</td>\n",
       "      <td>...</td>\n",
       "      <td>A99804308</td>\n",
       "      <td>A99329157</td>\n",
       "      <td>A99695471</td>\n",
       "      <td>A99591842</td>\n",
       "      <td>A99461345</td>\n",
       "      <td>A99075184</td>\n",
       "      <td>A99587120</td>\n",
       "      <td>A99589329</td>\n",
       "      <td>A99645522</td>\n",
       "      <td>A99437421</td>\n",
       "    </tr>\n",
       "    <tr>\n",
       "      <th>7</th>\n",
       "      <td>A99871576</td>\n",
       "      <td>A99787420</td>\n",
       "      <td>A99717448</td>\n",
       "      <td>A99324445</td>\n",
       "      <td>A99747684</td>\n",
       "      <td>A99509446</td>\n",
       "      <td>A99368334</td>\n",
       "      <td>A99659593</td>\n",
       "      <td>A99374440</td>\n",
       "      <td>A99780069</td>\n",
       "      <td>...</td>\n",
       "      <td>A99966530</td>\n",
       "      <td>A99706914</td>\n",
       "      <td>A99955501</td>\n",
       "      <td>A99121073</td>\n",
       "      <td>A99120173</td>\n",
       "      <td>A99853534</td>\n",
       "      <td>A99254768</td>\n",
       "      <td>A99243568</td>\n",
       "      <td>A99928159</td>\n",
       "      <td>A99713530</td>\n",
       "    </tr>\n",
       "    <tr>\n",
       "      <th>8</th>\n",
       "      <td>A99354806</td>\n",
       "      <td>A99903355</td>\n",
       "      <td>A99139365</td>\n",
       "      <td>A99213547</td>\n",
       "      <td>A99213370</td>\n",
       "      <td>A99797850</td>\n",
       "      <td>A99442125</td>\n",
       "      <td>A99674390</td>\n",
       "      <td>A99400672</td>\n",
       "      <td>A99813051</td>\n",
       "      <td>...</td>\n",
       "      <td>A99955905</td>\n",
       "      <td>A99214049</td>\n",
       "      <td>A99314089</td>\n",
       "      <td>A99440253</td>\n",
       "      <td>A99991623</td>\n",
       "      <td>A99712347</td>\n",
       "      <td>A99699554</td>\n",
       "      <td>A99812803</td>\n",
       "      <td>A99166536</td>\n",
       "      <td>A99675787</td>\n",
       "    </tr>\n",
       "    <tr>\n",
       "      <th>9</th>\n",
       "      <td>A99926792</td>\n",
       "      <td>A99754970</td>\n",
       "      <td>A99024616</td>\n",
       "      <td>A99720730</td>\n",
       "      <td>A99745325</td>\n",
       "      <td>A99431965</td>\n",
       "      <td>A99828360</td>\n",
       "      <td>A99675706</td>\n",
       "      <td>A99604013</td>\n",
       "      <td>A99220904</td>\n",
       "      <td>...</td>\n",
       "      <td>A99516490</td>\n",
       "      <td>A99177632</td>\n",
       "      <td>A99288102</td>\n",
       "      <td>A99949176</td>\n",
       "      <td>A99199917</td>\n",
       "      <td>A99599711</td>\n",
       "      <td>A99087453</td>\n",
       "      <td>A99811275</td>\n",
       "      <td>A99313805</td>\n",
       "      <td>A99895917</td>\n",
       "    </tr>\n",
       "    <tr>\n",
       "      <th>10</th>\n",
       "      <td>A99293130</td>\n",
       "      <td>A99108785</td>\n",
       "      <td>A99975877</td>\n",
       "      <td>A99354539</td>\n",
       "      <td>A99856997</td>\n",
       "      <td>A99681640</td>\n",
       "      <td>A99427118</td>\n",
       "      <td>A99846618</td>\n",
       "      <td>A99622715</td>\n",
       "      <td>A99392053</td>\n",
       "      <td>...</td>\n",
       "      <td>A99501183</td>\n",
       "      <td>A99149643</td>\n",
       "      <td>A99447514</td>\n",
       "      <td>A99531845</td>\n",
       "      <td>A99873132</td>\n",
       "      <td>A99970560</td>\n",
       "      <td>A99985778</td>\n",
       "      <td>A99470227</td>\n",
       "      <td>A99614172</td>\n",
       "      <td>A99291854</td>\n",
       "    </tr>\n",
       "    <tr>\n",
       "      <th>11</th>\n",
       "      <td>A99198021</td>\n",
       "      <td>A99565442</td>\n",
       "      <td>A99764895</td>\n",
       "      <td>A99453518</td>\n",
       "      <td>A99512204</td>\n",
       "      <td>A99803516</td>\n",
       "      <td>A99422088</td>\n",
       "      <td>A99721450</td>\n",
       "      <td>A99060338</td>\n",
       "      <td>A99282192</td>\n",
       "      <td>...</td>\n",
       "      <td>A99631742</td>\n",
       "      <td>A99671971</td>\n",
       "      <td>A99703408</td>\n",
       "      <td>A99033883</td>\n",
       "      <td>A99902897</td>\n",
       "      <td>A99474493</td>\n",
       "      <td>A99505703</td>\n",
       "      <td>A99657248</td>\n",
       "      <td>A99320977</td>\n",
       "      <td>A99832436</td>\n",
       "    </tr>\n",
       "    <tr>\n",
       "      <th>12</th>\n",
       "      <td>A99217669</td>\n",
       "      <td>A99152955</td>\n",
       "      <td>A99725519</td>\n",
       "      <td>A99407199</td>\n",
       "      <td>A99305019</td>\n",
       "      <td>A99413193</td>\n",
       "      <td>A99538160</td>\n",
       "      <td>A99556503</td>\n",
       "      <td>A99044599</td>\n",
       "      <td>A99279088</td>\n",
       "      <td>...</td>\n",
       "      <td>A99631007</td>\n",
       "      <td>A99821878</td>\n",
       "      <td>A99076268</td>\n",
       "      <td>A99653302</td>\n",
       "      <td>A99133973</td>\n",
       "      <td>A99622000</td>\n",
       "      <td>A99709028</td>\n",
       "      <td>A99950620</td>\n",
       "      <td>A99903882</td>\n",
       "      <td>A99077511</td>\n",
       "    </tr>\n",
       "    <tr>\n",
       "      <th>13</th>\n",
       "      <td>A99016187</td>\n",
       "      <td>A99955246</td>\n",
       "      <td>A99744857</td>\n",
       "      <td>A99541515</td>\n",
       "      <td></td>\n",
       "      <td>A99514650</td>\n",
       "      <td>A99483063</td>\n",
       "      <td>A99260191</td>\n",
       "      <td></td>\n",
       "      <td>A99773945</td>\n",
       "      <td>...</td>\n",
       "      <td>A99078383</td>\n",
       "      <td>A99895960</td>\n",
       "      <td>A99276731</td>\n",
       "      <td>A99489712</td>\n",
       "      <td>A99319569</td>\n",
       "      <td>A99305717</td>\n",
       "      <td>A99509569</td>\n",
       "      <td>A99610080</td>\n",
       "      <td>A99059458</td>\n",
       "      <td>A99051778</td>\n",
       "    </tr>\n",
       "    <tr>\n",
       "      <th>14</th>\n",
       "      <td>A99916894</td>\n",
       "      <td>A99381333</td>\n",
       "      <td>A99694766</td>\n",
       "      <td>A99833850</td>\n",
       "      <td></td>\n",
       "      <td>A99492512</td>\n",
       "      <td>A99084758</td>\n",
       "      <td>A99170745</td>\n",
       "      <td></td>\n",
       "      <td>A99835919</td>\n",
       "      <td>...</td>\n",
       "      <td></td>\n",
       "      <td>A99379415</td>\n",
       "      <td>A99583638</td>\n",
       "      <td>A99547146</td>\n",
       "      <td>A99570934</td>\n",
       "      <td>A99656504</td>\n",
       "      <td>A99800662</td>\n",
       "      <td>A99071510</td>\n",
       "      <td>A99237411</td>\n",
       "      <td>A99856175</td>\n",
       "    </tr>\n",
       "    <tr>\n",
       "      <th>15</th>\n",
       "      <td>A99600940</td>\n",
       "      <td>A99925394</td>\n",
       "      <td>A99615956</td>\n",
       "      <td>A99856805</td>\n",
       "      <td></td>\n",
       "      <td>A99229067</td>\n",
       "      <td></td>\n",
       "      <td>A99054168</td>\n",
       "      <td></td>\n",
       "      <td>A99409352</td>\n",
       "      <td>...</td>\n",
       "      <td></td>\n",
       "      <td>A99600090</td>\n",
       "      <td>A99678484</td>\n",
       "      <td></td>\n",
       "      <td>A99275005</td>\n",
       "      <td>A99226067</td>\n",
       "      <td>A99277895</td>\n",
       "      <td>A99467073</td>\n",
       "      <td>A99330622</td>\n",
       "      <td>A99589063</td>\n",
       "    </tr>\n",
       "    <tr>\n",
       "      <th>16</th>\n",
       "      <td>A99592712</td>\n",
       "      <td>A99257552</td>\n",
       "      <td>A99006199</td>\n",
       "      <td>A99156116</td>\n",
       "      <td></td>\n",
       "      <td>A99922626</td>\n",
       "      <td></td>\n",
       "      <td>A99336438</td>\n",
       "      <td></td>\n",
       "      <td>A99384291</td>\n",
       "      <td>...</td>\n",
       "      <td></td>\n",
       "      <td>A99285068</td>\n",
       "      <td>A99266984</td>\n",
       "      <td></td>\n",
       "      <td>A99230637</td>\n",
       "      <td>A99625175</td>\n",
       "      <td></td>\n",
       "      <td>A99436409</td>\n",
       "      <td>A99994501</td>\n",
       "      <td>A99892710</td>\n",
       "    </tr>\n",
       "    <tr>\n",
       "      <th>17</th>\n",
       "      <td>A99741577</td>\n",
       "      <td>A99290566</td>\n",
       "      <td></td>\n",
       "      <td>A99963271</td>\n",
       "      <td></td>\n",
       "      <td>A99661343</td>\n",
       "      <td></td>\n",
       "      <td></td>\n",
       "      <td></td>\n",
       "      <td>A99441989</td>\n",
       "      <td>...</td>\n",
       "      <td></td>\n",
       "      <td>A99339034</td>\n",
       "      <td>A99747041</td>\n",
       "      <td></td>\n",
       "      <td>A99432920</td>\n",
       "      <td>A99532389</td>\n",
       "      <td></td>\n",
       "      <td></td>\n",
       "      <td>A99503277</td>\n",
       "      <td>A99542346</td>\n",
       "    </tr>\n",
       "    <tr>\n",
       "      <th>18</th>\n",
       "      <td>A99174029</td>\n",
       "      <td></td>\n",
       "      <td></td>\n",
       "      <td>A99269295</td>\n",
       "      <td></td>\n",
       "      <td>A99734921</td>\n",
       "      <td></td>\n",
       "      <td></td>\n",
       "      <td></td>\n",
       "      <td>A99714021</td>\n",
       "      <td>...</td>\n",
       "      <td></td>\n",
       "      <td>A99055110</td>\n",
       "      <td>A99340665</td>\n",
       "      <td></td>\n",
       "      <td>A99995615</td>\n",
       "      <td></td>\n",
       "      <td></td>\n",
       "      <td></td>\n",
       "      <td>A99943708</td>\n",
       "      <td>A99954694</td>\n",
       "    </tr>\n",
       "    <tr>\n",
       "      <th>19</th>\n",
       "      <td>A99668602</td>\n",
       "      <td></td>\n",
       "      <td></td>\n",
       "      <td>A99244880</td>\n",
       "      <td></td>\n",
       "      <td>A99616529</td>\n",
       "      <td></td>\n",
       "      <td></td>\n",
       "      <td></td>\n",
       "      <td>A99485341</td>\n",
       "      <td>...</td>\n",
       "      <td></td>\n",
       "      <td>A99941362</td>\n",
       "      <td>A99222775</td>\n",
       "      <td></td>\n",
       "      <td>A99676635</td>\n",
       "      <td></td>\n",
       "      <td></td>\n",
       "      <td></td>\n",
       "      <td>A99505023</td>\n",
       "      <td>A99581496</td>\n",
       "    </tr>\n",
       "    <tr>\n",
       "      <th>20</th>\n",
       "      <td></td>\n",
       "      <td></td>\n",
       "      <td></td>\n",
       "      <td></td>\n",
       "      <td></td>\n",
       "      <td>A99392943</td>\n",
       "      <td></td>\n",
       "      <td></td>\n",
       "      <td></td>\n",
       "      <td>A99573583</td>\n",
       "      <td>...</td>\n",
       "      <td></td>\n",
       "      <td>A99777720</td>\n",
       "      <td>A99356598</td>\n",
       "      <td></td>\n",
       "      <td>A99989846</td>\n",
       "      <td></td>\n",
       "      <td></td>\n",
       "      <td></td>\n",
       "      <td>A99871763</td>\n",
       "      <td></td>\n",
       "    </tr>\n",
       "    <tr>\n",
       "      <th>21</th>\n",
       "      <td></td>\n",
       "      <td></td>\n",
       "      <td></td>\n",
       "      <td></td>\n",
       "      <td></td>\n",
       "      <td></td>\n",
       "      <td></td>\n",
       "      <td></td>\n",
       "      <td></td>\n",
       "      <td>A99997380</td>\n",
       "      <td>...</td>\n",
       "      <td></td>\n",
       "      <td></td>\n",
       "      <td>A99596327</td>\n",
       "      <td></td>\n",
       "      <td>A99669980</td>\n",
       "      <td></td>\n",
       "      <td></td>\n",
       "      <td></td>\n",
       "      <td></td>\n",
       "      <td></td>\n",
       "    </tr>\n",
       "    <tr>\n",
       "      <th>22</th>\n",
       "      <td></td>\n",
       "      <td></td>\n",
       "      <td></td>\n",
       "      <td></td>\n",
       "      <td></td>\n",
       "      <td></td>\n",
       "      <td></td>\n",
       "      <td></td>\n",
       "      <td></td>\n",
       "      <td>A99571242</td>\n",
       "      <td>...</td>\n",
       "      <td></td>\n",
       "      <td></td>\n",
       "      <td>A99611845</td>\n",
       "      <td></td>\n",
       "      <td>A99272538</td>\n",
       "      <td></td>\n",
       "      <td></td>\n",
       "      <td></td>\n",
       "      <td></td>\n",
       "      <td></td>\n",
       "    </tr>\n",
       "    <tr>\n",
       "      <th>23</th>\n",
       "      <td></td>\n",
       "      <td></td>\n",
       "      <td></td>\n",
       "      <td></td>\n",
       "      <td></td>\n",
       "      <td></td>\n",
       "      <td></td>\n",
       "      <td></td>\n",
       "      <td></td>\n",
       "      <td>A99090510</td>\n",
       "      <td>...</td>\n",
       "      <td></td>\n",
       "      <td></td>\n",
       "      <td>A99218475</td>\n",
       "      <td></td>\n",
       "      <td>A99437369</td>\n",
       "      <td></td>\n",
       "      <td></td>\n",
       "      <td></td>\n",
       "      <td></td>\n",
       "      <td></td>\n",
       "    </tr>\n",
       "    <tr>\n",
       "      <th>24</th>\n",
       "      <td></td>\n",
       "      <td></td>\n",
       "      <td></td>\n",
       "      <td></td>\n",
       "      <td></td>\n",
       "      <td></td>\n",
       "      <td></td>\n",
       "      <td></td>\n",
       "      <td></td>\n",
       "      <td>A99001164</td>\n",
       "      <td>...</td>\n",
       "      <td></td>\n",
       "      <td></td>\n",
       "      <td>A99177849</td>\n",
       "      <td></td>\n",
       "      <td></td>\n",
       "      <td></td>\n",
       "      <td></td>\n",
       "      <td></td>\n",
       "      <td></td>\n",
       "      <td></td>\n",
       "    </tr>\n",
       "    <tr>\n",
       "      <th>25</th>\n",
       "      <td></td>\n",
       "      <td></td>\n",
       "      <td></td>\n",
       "      <td></td>\n",
       "      <td></td>\n",
       "      <td></td>\n",
       "      <td></td>\n",
       "      <td></td>\n",
       "      <td></td>\n",
       "      <td></td>\n",
       "      <td>...</td>\n",
       "      <td></td>\n",
       "      <td></td>\n",
       "      <td>A99850135</td>\n",
       "      <td></td>\n",
       "      <td></td>\n",
       "      <td></td>\n",
       "      <td></td>\n",
       "      <td></td>\n",
       "      <td></td>\n",
       "      <td></td>\n",
       "    </tr>\n",
       "    <tr>\n",
       "      <th>26</th>\n",
       "      <td></td>\n",
       "      <td></td>\n",
       "      <td></td>\n",
       "      <td></td>\n",
       "      <td></td>\n",
       "      <td></td>\n",
       "      <td></td>\n",
       "      <td></td>\n",
       "      <td></td>\n",
       "      <td></td>\n",
       "      <td>...</td>\n",
       "      <td></td>\n",
       "      <td></td>\n",
       "      <td>A99381181</td>\n",
       "      <td></td>\n",
       "      <td></td>\n",
       "      <td></td>\n",
       "      <td></td>\n",
       "      <td></td>\n",
       "      <td></td>\n",
       "      <td></td>\n",
       "    </tr>\n",
       "  </tbody>\n",
       "</table>\n",
       "<p>26 rows × 30 columns</p>\n",
       "</div>"
      ],
      "text/plain": [
       "                    PID                                              \\\n",
       "Section             A01        A02        A03        A04        A05   \n",
       "Section Rank                                                          \n",
       "1             A99554279  A99434139  A99433693  A99187571  A99005866   \n",
       "2             A99729300  A99768653  A99681733  A99464434  A99058806   \n",
       "3             A99855328  A99323314  A99307531  A99755345  A99684231   \n",
       "4             A99765989  A99267806  A99776300  A99853966  A99445386   \n",
       "5             A99705260  A99293363  A99761150  A99523249  A99803382   \n",
       "6             A99592218  A99479714  A99215099  A99733996  A99073327   \n",
       "7             A99871576  A99787420  A99717448  A99324445  A99747684   \n",
       "8             A99354806  A99903355  A99139365  A99213547  A99213370   \n",
       "9             A99926792  A99754970  A99024616  A99720730  A99745325   \n",
       "10            A99293130  A99108785  A99975877  A99354539  A99856997   \n",
       "11            A99198021  A99565442  A99764895  A99453518  A99512204   \n",
       "12            A99217669  A99152955  A99725519  A99407199  A99305019   \n",
       "13            A99016187  A99955246  A99744857  A99541515              \n",
       "14            A99916894  A99381333  A99694766  A99833850              \n",
       "15            A99600940  A99925394  A99615956  A99856805              \n",
       "16            A99592712  A99257552  A99006199  A99156116              \n",
       "17            A99741577  A99290566             A99963271              \n",
       "18            A99174029                        A99269295              \n",
       "19            A99668602                        A99244880              \n",
       "20                                                                    \n",
       "21                                                                    \n",
       "22                                                                    \n",
       "23                                                                    \n",
       "24                                                                    \n",
       "25                                                                    \n",
       "26                                                                    \n",
       "\n",
       "                                                                     ...  \\\n",
       "Section             A06        A07        A08        A09        A10  ...   \n",
       "Section Rank                                                         ...   \n",
       "1             A99861848  A99465192  A99822771  A99642988  A99906367  ...   \n",
       "2             A99351423  A99401601  A99005516  A99361565  A99612659  ...   \n",
       "3             A99185365  A99142019  A99667178  A99177000  A99601330  ...   \n",
       "4             A99860066  A99964440  A99150572  A99732298  A99860540  ...   \n",
       "5             A99278317  A99659024  A99650853  A99337484  A99408920  ...   \n",
       "6             A99699336  A99919922  A99789220  A99985911  A99399192  ...   \n",
       "7             A99509446  A99368334  A99659593  A99374440  A99780069  ...   \n",
       "8             A99797850  A99442125  A99674390  A99400672  A99813051  ...   \n",
       "9             A99431965  A99828360  A99675706  A99604013  A99220904  ...   \n",
       "10            A99681640  A99427118  A99846618  A99622715  A99392053  ...   \n",
       "11            A99803516  A99422088  A99721450  A99060338  A99282192  ...   \n",
       "12            A99413193  A99538160  A99556503  A99044599  A99279088  ...   \n",
       "13            A99514650  A99483063  A99260191             A99773945  ...   \n",
       "14            A99492512  A99084758  A99170745             A99835919  ...   \n",
       "15            A99229067             A99054168             A99409352  ...   \n",
       "16            A99922626             A99336438             A99384291  ...   \n",
       "17            A99661343                                   A99441989  ...   \n",
       "18            A99734921                                   A99714021  ...   \n",
       "19            A99616529                                   A99485341  ...   \n",
       "20            A99392943                                   A99573583  ...   \n",
       "21                                                        A99997380  ...   \n",
       "22                                                        A99571242  ...   \n",
       "23                                                        A99090510  ...   \n",
       "24                                                        A99001164  ...   \n",
       "25                                                                   ...   \n",
       "26                                                                   ...   \n",
       "\n",
       "                                                                     \\\n",
       "Section             A21        A22        A23        A24        A25   \n",
       "Section Rank                                                          \n",
       "1             A99918730  A99154676  A99488919  A99725232  A99976381   \n",
       "2             A99420529  A99583699  A99688028  A99264628  A99425689   \n",
       "3             A99477620  A99733449  A99784236  A99692599  A99471668   \n",
       "4             A99841774  A99962240  A99302544  A99434027  A99663899   \n",
       "5             A99999789  A99146887  A99043621  A99326575  A99678684   \n",
       "6             A99804308  A99329157  A99695471  A99591842  A99461345   \n",
       "7             A99966530  A99706914  A99955501  A99121073  A99120173   \n",
       "8             A99955905  A99214049  A99314089  A99440253  A99991623   \n",
       "9             A99516490  A99177632  A99288102  A99949176  A99199917   \n",
       "10            A99501183  A99149643  A99447514  A99531845  A99873132   \n",
       "11            A99631742  A99671971  A99703408  A99033883  A99902897   \n",
       "12            A99631007  A99821878  A99076268  A99653302  A99133973   \n",
       "13            A99078383  A99895960  A99276731  A99489712  A99319569   \n",
       "14                       A99379415  A99583638  A99547146  A99570934   \n",
       "15                       A99600090  A99678484             A99275005   \n",
       "16                       A99285068  A99266984             A99230637   \n",
       "17                       A99339034  A99747041             A99432920   \n",
       "18                       A99055110  A99340665             A99995615   \n",
       "19                       A99941362  A99222775             A99676635   \n",
       "20                       A99777720  A99356598             A99989846   \n",
       "21                                  A99596327             A99669980   \n",
       "22                                  A99611845             A99272538   \n",
       "23                                  A99218475             A99437369   \n",
       "24                                  A99177849                         \n",
       "25                                  A99850135                         \n",
       "26                                  A99381181                         \n",
       "\n",
       "                                                                     \n",
       "Section             A26        A27        A28        A29        A30  \n",
       "Section Rank                                                         \n",
       "1             A99241737  A99101160  A99268867  A99797507  A99200920  \n",
       "2             A99718695  A99524149  A99449376  A99743631  A99234372  \n",
       "3             A99673095  A99704673  A99491048  A99787562  A99314573  \n",
       "4             A99630726  A99336610  A99544353  A99156002  A99016583  \n",
       "5             A99772423  A99241375  A99930150  A99230041  A99644077  \n",
       "6             A99075184  A99587120  A99589329  A99645522  A99437421  \n",
       "7             A99853534  A99254768  A99243568  A99928159  A99713530  \n",
       "8             A99712347  A99699554  A99812803  A99166536  A99675787  \n",
       "9             A99599711  A99087453  A99811275  A99313805  A99895917  \n",
       "10            A99970560  A99985778  A99470227  A99614172  A99291854  \n",
       "11            A99474493  A99505703  A99657248  A99320977  A99832436  \n",
       "12            A99622000  A99709028  A99950620  A99903882  A99077511  \n",
       "13            A99305717  A99509569  A99610080  A99059458  A99051778  \n",
       "14            A99656504  A99800662  A99071510  A99237411  A99856175  \n",
       "15            A99226067  A99277895  A99467073  A99330622  A99589063  \n",
       "16            A99625175             A99436409  A99994501  A99892710  \n",
       "17            A99532389                        A99503277  A99542346  \n",
       "18                                             A99943708  A99954694  \n",
       "19                                             A99505023  A99581496  \n",
       "20                                             A99871763             \n",
       "21                                                                   \n",
       "22                                                                   \n",
       "23                                                                   \n",
       "24                                                                   \n",
       "25                                                                   \n",
       "26                                                                   \n",
       "\n",
       "[26 rows x 30 columns]"
      ]
     },
     "execution_count": 194,
     "metadata": {},
     "output_type": "execute_result"
    }
   ],
   "source": [
    "out = rank_by_section(grades_analysis)\n",
    "out"
   ]
  },
  {
   "cell_type": "code",
   "execution_count": 195,
   "metadata": {
    "deletable": false,
    "editable": false
   },
   "outputs": [
    {
     "data": {
      "text/html": [
       "<p><strong><pre style='display: inline;'>q12</pre></strong> passed!</p>"
      ],
      "text/plain": [
       "q12 results: All test cases passed!"
      ]
     },
     "execution_count": 195,
     "metadata": {},
     "output_type": "execute_result"
    }
   ],
   "source": [
    "grader.check(\"q12\")"
   ]
  },
  {
   "cell_type": "markdown",
   "metadata": {},
   "source": [
    "### Question 13\n",
    "\n",
    "([return to the outline](#Navigating-the-Project))\n",
    "\n",
    "To wrap up, let's _visualize_ how the students in each section of CSD 18 performed.\n",
    "\n",
    "Complete the implementation of the function `letter_grade_heat_map`, which takes in a DataFrame like `grades_analysis` and returns a `plotly` figure object containing a heatmap describing **the distribution of letter grades (post-redemption) for each section**.\n",
    "\n",
    "Specifically, the heatmap should have 5 rows – `'A'`, `'B'`, `'C'`, `'D'`, and `'F'`, in that order – and 30 columns – `'A01'`, `'A02'`, ..., `'A30'`, in that order. **The color of the square in row `g` and column `s` should correspond to the proportion of students in section `s` who earned a letter grade (post-redemption) of `g`.**\n",
    "\n",
    "To create your figure, you'll use the `px.imshow` function and provide several arguments. This [`plotly` article](https://plotly.com/python/imshow/) will be extremely helpful.\n",
    "\n",
    "Here are some additional requirements to get full credit for your heatmap:\n",
    "- Set the color scale to be something other than the default. Note that in this heatmap, you should use a sequential color scheme, which means that the intensity of the color assigned to a square is proportional to the value being plotted for that square (e.g. darker colors should correspond to larger proportions and lighter colors should correspond to smaller proportions, or vice versa). Read more about the theory of sequential and diverging color schemes [here](https://blog.datawrapper.de/diverging-vs-sequential-color-scales/).\n",
    "- Set the title of the plot to `'Distribution of Letter Grades by Section'`.\n",
    "\n",
    "An example plot that satisfies all of these conditions is shown below, though we encourage you to customize yours within the confines above. Can you change the font?\n",
    "\n",
    "<img src=\"data/heatmap-example.png\" width=100%>\n",
    "\n",
    "It's fine if your x-axis labels are rotated.\n",
    "\n",
    "Remember to return the figure object itself. That is, somewhere in your code you will have `fig = px.imshow(...)`; make sure to also `return fig`.\n",
    "\n",
    "***Hint***: Most of the work in this question is creating the DataFrame to call `px.imshow` on."
   ]
  },
  {
   "cell_type": "code",
   "execution_count": 243,
   "metadata": {
    "tags": []
   },
   "outputs": [],
   "source": [
    "def letter_grade_heat_map(final_grades):\n",
    "    grade_pivot = final_grades.pivot_table(index = 'Letter Grade Post-Redemption', columns='Section', values='PID', aggfunc='count', fill_value=0)\n",
    "    grade_pivot = grade_pivot / grade_pivot.sum(axis=0)\n",
    "    \n",
    "    fig = px.imshow(grade_pivot, color_continuous_scale = 'blugrn', title='Distribution of Letter Grades by Section')\n",
    "    \n",
    "    return fig"
   ]
  },
  {
   "cell_type": "code",
   "execution_count": 246,
   "metadata": {
    "tags": []
   },
   "outputs": [
    {
     "data": {
      "text/plain": [
       "True"
      ]
     },
     "execution_count": 246,
     "metadata": {},
     "output_type": "execute_result"
    }
   ],
   "source": [
    "out = letter_grade_heat_map(grades_analysis)\n",
    "out\n",
    "out.layout['title']['text'] == 'Distribution of Letter Grades by Section'"
   ]
  },
  {
   "cell_type": "markdown",
   "metadata": {},
   "source": [
    "Run the cell below to see your heatmap."
   ]
  },
  {
   "cell_type": "code",
   "execution_count": 247,
   "metadata": {},
   "outputs": [
    {
     "data": {
      "application/vnd.plotly.v1+json": {
       "config": {
        "plotlyServerURL": "https://plot.ly"
       },
       "data": [
        {
         "coloraxis": "coloraxis",
         "hovertemplate": "Section: %{x}<br>Letter Grade Post-Redemption: %{y}<br>color: %{z}<extra></extra>",
         "name": "0",
         "type": "heatmap",
         "x": [
          "A01",
          "A02",
          "A03",
          "A04",
          "A05",
          "A06",
          "A07",
          "A08",
          "A09",
          "A10",
          "A11",
          "A12",
          "A13",
          "A14",
          "A15",
          "A16",
          "A17",
          "A18",
          "A19",
          "A20",
          "A21",
          "A22",
          "A23",
          "A24",
          "A25",
          "A26",
          "A27",
          "A28",
          "A29",
          "A30"
         ],
         "xaxis": "x",
         "y": [
          "A",
          "B",
          "C",
          "D",
          "F"
         ],
         "yaxis": "y",
         "z": [
          [
           0.21052631578947367,
           0.11764705882352941,
           0.25,
           0.15789473684210525,
           0.5833333333333334,
           0.1,
           0.21428571428571427,
           0.25,
           0.25,
           0.3333333333333333,
           0.45,
           0.16666666666666666,
           0.25,
           0.2857142857142857,
           0.1,
           0.2,
           0.38095238095238093,
           0.35294117647058826,
           0.46153846153846156,
           0.35714285714285715,
           0.3076923076923077,
           0.35,
           0.38461538461538464,
           0.2857142857142857,
           0.391304347826087,
           0.29411764705882354,
           0.26666666666666666,
           0.25,
           0.25,
           0.15789473684210525
          ],
          [
           0.42105263157894735,
           0.8235294117647058,
           0.4375,
           0.5263157894736842,
           0.3333333333333333,
           0.55,
           0.42857142857142855,
           0.5625,
           0.6666666666666666,
           0.4583333333333333,
           0.3,
           0.4444444444444444,
           0.4583333333333333,
           0.42857142857142855,
           0.4,
           0.4666666666666667,
           0.2857142857142857,
           0.29411764705882354,
           0.3076923076923077,
           0.42857142857142855,
           0.5384615384615384,
           0.3,
           0.4230769230769231,
           0.5,
           0.4782608695652174,
           0.5294117647058824,
           0.5333333333333333,
           0.375,
           0.45,
           0.5789473684210527
          ],
          [
           0.3157894736842105,
           0.058823529411764705,
           0.3125,
           0.15789473684210525,
           0.08333333333333333,
           0.35,
           0.35714285714285715,
           0.1875,
           0.08333333333333333,
           0.20833333333333334,
           0.15,
           0.3888888888888889,
           0.16666666666666666,
           0.19047619047619047,
           0.45,
           0.26666666666666666,
           0.2857142857142857,
           0.29411764705882354,
           0.15384615384615385,
           0.21428571428571427,
           0.07692307692307693,
           0.3,
           0.15384615384615385,
           0.21428571428571427,
           0.043478260869565216,
           0.17647058823529413,
           0.2,
           0.25,
           0.25,
           0.21052631578947367
          ],
          [
           0.05263157894736842,
           0,
           0,
           0.05263157894736842,
           0,
           0,
           0,
           0,
           0,
           0,
           0,
           0,
           0.041666666666666664,
           0,
           0,
           0.06666666666666667,
           0,
           0.058823529411764705,
           0.07692307692307693,
           0,
           0,
           0,
           0,
           0,
           0.08695652173913043,
           0,
           0,
           0.125,
           0,
           0.05263157894736842
          ],
          [
           0,
           0,
           0,
           0.10526315789473684,
           0,
           0,
           0,
           0,
           0,
           0,
           0.1,
           0,
           0.08333333333333333,
           0.09523809523809523,
           0.05,
           0,
           0.047619047619047616,
           0,
           0,
           0,
           0.07692307692307693,
           0.05,
           0.038461538461538464,
           0,
           0,
           0,
           0,
           0,
           0.05,
           0
          ]
         ]
        }
       ],
       "layout": {
        "coloraxis": {
         "colorscale": [
          [
           0,
           "rgb(196, 230, 195)"
          ],
          [
           0.16666666666666666,
           "rgb(150, 210, 164)"
          ],
          [
           0.3333333333333333,
           "rgb(109, 188, 144)"
          ],
          [
           0.5,
           "rgb(77, 162, 132)"
          ],
          [
           0.6666666666666666,
           "rgb(54, 135, 122)"
          ],
          [
           0.8333333333333334,
           "rgb(38, 107, 110)"
          ],
          [
           1,
           "rgb(29, 79, 96)"
          ]
         ]
        },
        "template": {
         "data": {
          "bar": [
           {
            "error_x": {
             "color": "#2a3f5f"
            },
            "error_y": {
             "color": "#2a3f5f"
            },
            "marker": {
             "line": {
              "color": "#E5ECF6",
              "width": 0.5
             },
             "pattern": {
              "fillmode": "overlay",
              "size": 10,
              "solidity": 0.2
             }
            },
            "type": "bar"
           }
          ],
          "barpolar": [
           {
            "marker": {
             "line": {
              "color": "#E5ECF6",
              "width": 0.5
             },
             "pattern": {
              "fillmode": "overlay",
              "size": 10,
              "solidity": 0.2
             }
            },
            "type": "barpolar"
           }
          ],
          "carpet": [
           {
            "aaxis": {
             "endlinecolor": "#2a3f5f",
             "gridcolor": "white",
             "linecolor": "white",
             "minorgridcolor": "white",
             "startlinecolor": "#2a3f5f"
            },
            "baxis": {
             "endlinecolor": "#2a3f5f",
             "gridcolor": "white",
             "linecolor": "white",
             "minorgridcolor": "white",
             "startlinecolor": "#2a3f5f"
            },
            "type": "carpet"
           }
          ],
          "choropleth": [
           {
            "colorbar": {
             "outlinewidth": 0,
             "ticks": ""
            },
            "type": "choropleth"
           }
          ],
          "contour": [
           {
            "colorbar": {
             "outlinewidth": 0,
             "ticks": ""
            },
            "colorscale": [
             [
              0,
              "#0d0887"
             ],
             [
              0.1111111111111111,
              "#46039f"
             ],
             [
              0.2222222222222222,
              "#7201a8"
             ],
             [
              0.3333333333333333,
              "#9c179e"
             ],
             [
              0.4444444444444444,
              "#bd3786"
             ],
             [
              0.5555555555555556,
              "#d8576b"
             ],
             [
              0.6666666666666666,
              "#ed7953"
             ],
             [
              0.7777777777777778,
              "#fb9f3a"
             ],
             [
              0.8888888888888888,
              "#fdca26"
             ],
             [
              1,
              "#f0f921"
             ]
            ],
            "type": "contour"
           }
          ],
          "contourcarpet": [
           {
            "colorbar": {
             "outlinewidth": 0,
             "ticks": ""
            },
            "type": "contourcarpet"
           }
          ],
          "heatmap": [
           {
            "colorbar": {
             "outlinewidth": 0,
             "ticks": ""
            },
            "colorscale": [
             [
              0,
              "#0d0887"
             ],
             [
              0.1111111111111111,
              "#46039f"
             ],
             [
              0.2222222222222222,
              "#7201a8"
             ],
             [
              0.3333333333333333,
              "#9c179e"
             ],
             [
              0.4444444444444444,
              "#bd3786"
             ],
             [
              0.5555555555555556,
              "#d8576b"
             ],
             [
              0.6666666666666666,
              "#ed7953"
             ],
             [
              0.7777777777777778,
              "#fb9f3a"
             ],
             [
              0.8888888888888888,
              "#fdca26"
             ],
             [
              1,
              "#f0f921"
             ]
            ],
            "type": "heatmap"
           }
          ],
          "heatmapgl": [
           {
            "colorbar": {
             "outlinewidth": 0,
             "ticks": ""
            },
            "colorscale": [
             [
              0,
              "#0d0887"
             ],
             [
              0.1111111111111111,
              "#46039f"
             ],
             [
              0.2222222222222222,
              "#7201a8"
             ],
             [
              0.3333333333333333,
              "#9c179e"
             ],
             [
              0.4444444444444444,
              "#bd3786"
             ],
             [
              0.5555555555555556,
              "#d8576b"
             ],
             [
              0.6666666666666666,
              "#ed7953"
             ],
             [
              0.7777777777777778,
              "#fb9f3a"
             ],
             [
              0.8888888888888888,
              "#fdca26"
             ],
             [
              1,
              "#f0f921"
             ]
            ],
            "type": "heatmapgl"
           }
          ],
          "histogram": [
           {
            "marker": {
             "pattern": {
              "fillmode": "overlay",
              "size": 10,
              "solidity": 0.2
             }
            },
            "type": "histogram"
           }
          ],
          "histogram2d": [
           {
            "colorbar": {
             "outlinewidth": 0,
             "ticks": ""
            },
            "colorscale": [
             [
              0,
              "#0d0887"
             ],
             [
              0.1111111111111111,
              "#46039f"
             ],
             [
              0.2222222222222222,
              "#7201a8"
             ],
             [
              0.3333333333333333,
              "#9c179e"
             ],
             [
              0.4444444444444444,
              "#bd3786"
             ],
             [
              0.5555555555555556,
              "#d8576b"
             ],
             [
              0.6666666666666666,
              "#ed7953"
             ],
             [
              0.7777777777777778,
              "#fb9f3a"
             ],
             [
              0.8888888888888888,
              "#fdca26"
             ],
             [
              1,
              "#f0f921"
             ]
            ],
            "type": "histogram2d"
           }
          ],
          "histogram2dcontour": [
           {
            "colorbar": {
             "outlinewidth": 0,
             "ticks": ""
            },
            "colorscale": [
             [
              0,
              "#0d0887"
             ],
             [
              0.1111111111111111,
              "#46039f"
             ],
             [
              0.2222222222222222,
              "#7201a8"
             ],
             [
              0.3333333333333333,
              "#9c179e"
             ],
             [
              0.4444444444444444,
              "#bd3786"
             ],
             [
              0.5555555555555556,
              "#d8576b"
             ],
             [
              0.6666666666666666,
              "#ed7953"
             ],
             [
              0.7777777777777778,
              "#fb9f3a"
             ],
             [
              0.8888888888888888,
              "#fdca26"
             ],
             [
              1,
              "#f0f921"
             ]
            ],
            "type": "histogram2dcontour"
           }
          ],
          "mesh3d": [
           {
            "colorbar": {
             "outlinewidth": 0,
             "ticks": ""
            },
            "type": "mesh3d"
           }
          ],
          "parcoords": [
           {
            "line": {
             "colorbar": {
              "outlinewidth": 0,
              "ticks": ""
             }
            },
            "type": "parcoords"
           }
          ],
          "pie": [
           {
            "automargin": true,
            "type": "pie"
           }
          ],
          "scatter": [
           {
            "fillpattern": {
             "fillmode": "overlay",
             "size": 10,
             "solidity": 0.2
            },
            "type": "scatter"
           }
          ],
          "scatter3d": [
           {
            "line": {
             "colorbar": {
              "outlinewidth": 0,
              "ticks": ""
             }
            },
            "marker": {
             "colorbar": {
              "outlinewidth": 0,
              "ticks": ""
             }
            },
            "type": "scatter3d"
           }
          ],
          "scattercarpet": [
           {
            "marker": {
             "colorbar": {
              "outlinewidth": 0,
              "ticks": ""
             }
            },
            "type": "scattercarpet"
           }
          ],
          "scattergeo": [
           {
            "marker": {
             "colorbar": {
              "outlinewidth": 0,
              "ticks": ""
             }
            },
            "type": "scattergeo"
           }
          ],
          "scattergl": [
           {
            "marker": {
             "colorbar": {
              "outlinewidth": 0,
              "ticks": ""
             }
            },
            "type": "scattergl"
           }
          ],
          "scattermapbox": [
           {
            "marker": {
             "colorbar": {
              "outlinewidth": 0,
              "ticks": ""
             }
            },
            "type": "scattermapbox"
           }
          ],
          "scatterpolar": [
           {
            "marker": {
             "colorbar": {
              "outlinewidth": 0,
              "ticks": ""
             }
            },
            "type": "scatterpolar"
           }
          ],
          "scatterpolargl": [
           {
            "marker": {
             "colorbar": {
              "outlinewidth": 0,
              "ticks": ""
             }
            },
            "type": "scatterpolargl"
           }
          ],
          "scatterternary": [
           {
            "marker": {
             "colorbar": {
              "outlinewidth": 0,
              "ticks": ""
             }
            },
            "type": "scatterternary"
           }
          ],
          "surface": [
           {
            "colorbar": {
             "outlinewidth": 0,
             "ticks": ""
            },
            "colorscale": [
             [
              0,
              "#0d0887"
             ],
             [
              0.1111111111111111,
              "#46039f"
             ],
             [
              0.2222222222222222,
              "#7201a8"
             ],
             [
              0.3333333333333333,
              "#9c179e"
             ],
             [
              0.4444444444444444,
              "#bd3786"
             ],
             [
              0.5555555555555556,
              "#d8576b"
             ],
             [
              0.6666666666666666,
              "#ed7953"
             ],
             [
              0.7777777777777778,
              "#fb9f3a"
             ],
             [
              0.8888888888888888,
              "#fdca26"
             ],
             [
              1,
              "#f0f921"
             ]
            ],
            "type": "surface"
           }
          ],
          "table": [
           {
            "cells": {
             "fill": {
              "color": "#EBF0F8"
             },
             "line": {
              "color": "white"
             }
            },
            "header": {
             "fill": {
              "color": "#C8D4E3"
             },
             "line": {
              "color": "white"
             }
            },
            "type": "table"
           }
          ]
         },
         "layout": {
          "annotationdefaults": {
           "arrowcolor": "#2a3f5f",
           "arrowhead": 0,
           "arrowwidth": 1
          },
          "autotypenumbers": "strict",
          "coloraxis": {
           "colorbar": {
            "outlinewidth": 0,
            "ticks": ""
           }
          },
          "colorscale": {
           "diverging": [
            [
             0,
             "#8e0152"
            ],
            [
             0.1,
             "#c51b7d"
            ],
            [
             0.2,
             "#de77ae"
            ],
            [
             0.3,
             "#f1b6da"
            ],
            [
             0.4,
             "#fde0ef"
            ],
            [
             0.5,
             "#f7f7f7"
            ],
            [
             0.6,
             "#e6f5d0"
            ],
            [
             0.7,
             "#b8e186"
            ],
            [
             0.8,
             "#7fbc41"
            ],
            [
             0.9,
             "#4d9221"
            ],
            [
             1,
             "#276419"
            ]
           ],
           "sequential": [
            [
             0,
             "#0d0887"
            ],
            [
             0.1111111111111111,
             "#46039f"
            ],
            [
             0.2222222222222222,
             "#7201a8"
            ],
            [
             0.3333333333333333,
             "#9c179e"
            ],
            [
             0.4444444444444444,
             "#bd3786"
            ],
            [
             0.5555555555555556,
             "#d8576b"
            ],
            [
             0.6666666666666666,
             "#ed7953"
            ],
            [
             0.7777777777777778,
             "#fb9f3a"
            ],
            [
             0.8888888888888888,
             "#fdca26"
            ],
            [
             1,
             "#f0f921"
            ]
           ],
           "sequentialminus": [
            [
             0,
             "#0d0887"
            ],
            [
             0.1111111111111111,
             "#46039f"
            ],
            [
             0.2222222222222222,
             "#7201a8"
            ],
            [
             0.3333333333333333,
             "#9c179e"
            ],
            [
             0.4444444444444444,
             "#bd3786"
            ],
            [
             0.5555555555555556,
             "#d8576b"
            ],
            [
             0.6666666666666666,
             "#ed7953"
            ],
            [
             0.7777777777777778,
             "#fb9f3a"
            ],
            [
             0.8888888888888888,
             "#fdca26"
            ],
            [
             1,
             "#f0f921"
            ]
           ]
          },
          "colorway": [
           "#636efa",
           "#EF553B",
           "#00cc96",
           "#ab63fa",
           "#FFA15A",
           "#19d3f3",
           "#FF6692",
           "#B6E880",
           "#FF97FF",
           "#FECB52"
          ],
          "font": {
           "color": "#2a3f5f"
          },
          "geo": {
           "bgcolor": "white",
           "lakecolor": "white",
           "landcolor": "#E5ECF6",
           "showlakes": true,
           "showland": true,
           "subunitcolor": "white"
          },
          "hoverlabel": {
           "align": "left"
          },
          "hovermode": "closest",
          "mapbox": {
           "style": "light"
          },
          "paper_bgcolor": "white",
          "plot_bgcolor": "#E5ECF6",
          "polar": {
           "angularaxis": {
            "gridcolor": "white",
            "linecolor": "white",
            "ticks": ""
           },
           "bgcolor": "#E5ECF6",
           "radialaxis": {
            "gridcolor": "white",
            "linecolor": "white",
            "ticks": ""
           }
          },
          "scene": {
           "xaxis": {
            "backgroundcolor": "#E5ECF6",
            "gridcolor": "white",
            "gridwidth": 2,
            "linecolor": "white",
            "showbackground": true,
            "ticks": "",
            "zerolinecolor": "white"
           },
           "yaxis": {
            "backgroundcolor": "#E5ECF6",
            "gridcolor": "white",
            "gridwidth": 2,
            "linecolor": "white",
            "showbackground": true,
            "ticks": "",
            "zerolinecolor": "white"
           },
           "zaxis": {
            "backgroundcolor": "#E5ECF6",
            "gridcolor": "white",
            "gridwidth": 2,
            "linecolor": "white",
            "showbackground": true,
            "ticks": "",
            "zerolinecolor": "white"
           }
          },
          "shapedefaults": {
           "line": {
            "color": "#2a3f5f"
           }
          },
          "ternary": {
           "aaxis": {
            "gridcolor": "white",
            "linecolor": "white",
            "ticks": ""
           },
           "baxis": {
            "gridcolor": "white",
            "linecolor": "white",
            "ticks": ""
           },
           "bgcolor": "#E5ECF6",
           "caxis": {
            "gridcolor": "white",
            "linecolor": "white",
            "ticks": ""
           }
          },
          "title": {
           "x": 0.05
          },
          "xaxis": {
           "automargin": true,
           "gridcolor": "white",
           "linecolor": "white",
           "ticks": "",
           "title": {
            "standoff": 15
           },
           "zerolinecolor": "white",
           "zerolinewidth": 2
          },
          "yaxis": {
           "automargin": true,
           "gridcolor": "white",
           "linecolor": "white",
           "ticks": "",
           "title": {
            "standoff": 15
           },
           "zerolinecolor": "white",
           "zerolinewidth": 2
          }
         }
        },
        "title": {
         "text": "Distribution of Letter Grades by Section"
        },
        "xaxis": {
         "anchor": "y",
         "constrain": "domain",
         "domain": [
          0,
          1
         ],
         "scaleanchor": "y",
         "title": {
          "text": "Section"
         }
        },
        "yaxis": {
         "anchor": "x",
         "autorange": "reversed",
         "constrain": "domain",
         "domain": [
          0,
          1
         ],
         "title": {
          "text": "Letter Grade Post-Redemption"
         }
        }
       }
      },
      "text/html": [
       "<div>                            <div id=\"c49cedd5-3f11-4bae-a7f8-23285578439d\" class=\"plotly-graph-div\" style=\"height:525px; width:100%;\"></div>            <script type=\"text/javascript\">                require([\"plotly\"], function(Plotly) {                    window.PLOTLYENV=window.PLOTLYENV || {};                                    if (document.getElementById(\"c49cedd5-3f11-4bae-a7f8-23285578439d\")) {                    Plotly.newPlot(                        \"c49cedd5-3f11-4bae-a7f8-23285578439d\",                        [{\"coloraxis\":\"coloraxis\",\"name\":\"0\",\"x\":[\"A01\",\"A02\",\"A03\",\"A04\",\"A05\",\"A06\",\"A07\",\"A08\",\"A09\",\"A10\",\"A11\",\"A12\",\"A13\",\"A14\",\"A15\",\"A16\",\"A17\",\"A18\",\"A19\",\"A20\",\"A21\",\"A22\",\"A23\",\"A24\",\"A25\",\"A26\",\"A27\",\"A28\",\"A29\",\"A30\"],\"y\":[\"A\",\"B\",\"C\",\"D\",\"F\"],\"z\":[[0.21052631578947367,0.11764705882352941,0.25,0.15789473684210525,0.5833333333333334,0.1,0.21428571428571427,0.25,0.25,0.3333333333333333,0.45,0.16666666666666666,0.25,0.2857142857142857,0.1,0.2,0.38095238095238093,0.35294117647058826,0.46153846153846156,0.35714285714285715,0.3076923076923077,0.35,0.38461538461538464,0.2857142857142857,0.391304347826087,0.29411764705882354,0.26666666666666666,0.25,0.25,0.15789473684210525],[0.42105263157894735,0.8235294117647058,0.4375,0.5263157894736842,0.3333333333333333,0.55,0.42857142857142855,0.5625,0.6666666666666666,0.4583333333333333,0.3,0.4444444444444444,0.4583333333333333,0.42857142857142855,0.4,0.4666666666666667,0.2857142857142857,0.29411764705882354,0.3076923076923077,0.42857142857142855,0.5384615384615384,0.3,0.4230769230769231,0.5,0.4782608695652174,0.5294117647058824,0.5333333333333333,0.375,0.45,0.5789473684210527],[0.3157894736842105,0.058823529411764705,0.3125,0.15789473684210525,0.08333333333333333,0.35,0.35714285714285715,0.1875,0.08333333333333333,0.20833333333333334,0.15,0.3888888888888889,0.16666666666666666,0.19047619047619047,0.45,0.26666666666666666,0.2857142857142857,0.29411764705882354,0.15384615384615385,0.21428571428571427,0.07692307692307693,0.3,0.15384615384615385,0.21428571428571427,0.043478260869565216,0.17647058823529413,0.2,0.25,0.25,0.21052631578947367],[0.05263157894736842,0.0,0.0,0.05263157894736842,0.0,0.0,0.0,0.0,0.0,0.0,0.0,0.0,0.041666666666666664,0.0,0.0,0.06666666666666667,0.0,0.058823529411764705,0.07692307692307693,0.0,0.0,0.0,0.0,0.0,0.08695652173913043,0.0,0.0,0.125,0.0,0.05263157894736842],[0.0,0.0,0.0,0.10526315789473684,0.0,0.0,0.0,0.0,0.0,0.0,0.1,0.0,0.08333333333333333,0.09523809523809523,0.05,0.0,0.047619047619047616,0.0,0.0,0.0,0.07692307692307693,0.05,0.038461538461538464,0.0,0.0,0.0,0.0,0.0,0.05,0.0]],\"type\":\"heatmap\",\"xaxis\":\"x\",\"yaxis\":\"y\",\"hovertemplate\":\"Section: %{x}\\u003cbr\\u003eLetter Grade Post-Redemption: %{y}\\u003cbr\\u003ecolor: %{z}\\u003cextra\\u003e\\u003c\\u002fextra\\u003e\"}],                        {\"template\":{\"data\":{\"histogram2dcontour\":[{\"type\":\"histogram2dcontour\",\"colorbar\":{\"outlinewidth\":0,\"ticks\":\"\"},\"colorscale\":[[0.0,\"#0d0887\"],[0.1111111111111111,\"#46039f\"],[0.2222222222222222,\"#7201a8\"],[0.3333333333333333,\"#9c179e\"],[0.4444444444444444,\"#bd3786\"],[0.5555555555555556,\"#d8576b\"],[0.6666666666666666,\"#ed7953\"],[0.7777777777777778,\"#fb9f3a\"],[0.8888888888888888,\"#fdca26\"],[1.0,\"#f0f921\"]]}],\"choropleth\":[{\"type\":\"choropleth\",\"colorbar\":{\"outlinewidth\":0,\"ticks\":\"\"}}],\"histogram2d\":[{\"type\":\"histogram2d\",\"colorbar\":{\"outlinewidth\":0,\"ticks\":\"\"},\"colorscale\":[[0.0,\"#0d0887\"],[0.1111111111111111,\"#46039f\"],[0.2222222222222222,\"#7201a8\"],[0.3333333333333333,\"#9c179e\"],[0.4444444444444444,\"#bd3786\"],[0.5555555555555556,\"#d8576b\"],[0.6666666666666666,\"#ed7953\"],[0.7777777777777778,\"#fb9f3a\"],[0.8888888888888888,\"#fdca26\"],[1.0,\"#f0f921\"]]}],\"heatmap\":[{\"type\":\"heatmap\",\"colorbar\":{\"outlinewidth\":0,\"ticks\":\"\"},\"colorscale\":[[0.0,\"#0d0887\"],[0.1111111111111111,\"#46039f\"],[0.2222222222222222,\"#7201a8\"],[0.3333333333333333,\"#9c179e\"],[0.4444444444444444,\"#bd3786\"],[0.5555555555555556,\"#d8576b\"],[0.6666666666666666,\"#ed7953\"],[0.7777777777777778,\"#fb9f3a\"],[0.8888888888888888,\"#fdca26\"],[1.0,\"#f0f921\"]]}],\"heatmapgl\":[{\"type\":\"heatmapgl\",\"colorbar\":{\"outlinewidth\":0,\"ticks\":\"\"},\"colorscale\":[[0.0,\"#0d0887\"],[0.1111111111111111,\"#46039f\"],[0.2222222222222222,\"#7201a8\"],[0.3333333333333333,\"#9c179e\"],[0.4444444444444444,\"#bd3786\"],[0.5555555555555556,\"#d8576b\"],[0.6666666666666666,\"#ed7953\"],[0.7777777777777778,\"#fb9f3a\"],[0.8888888888888888,\"#fdca26\"],[1.0,\"#f0f921\"]]}],\"contourcarpet\":[{\"type\":\"contourcarpet\",\"colorbar\":{\"outlinewidth\":0,\"ticks\":\"\"}}],\"contour\":[{\"type\":\"contour\",\"colorbar\":{\"outlinewidth\":0,\"ticks\":\"\"},\"colorscale\":[[0.0,\"#0d0887\"],[0.1111111111111111,\"#46039f\"],[0.2222222222222222,\"#7201a8\"],[0.3333333333333333,\"#9c179e\"],[0.4444444444444444,\"#bd3786\"],[0.5555555555555556,\"#d8576b\"],[0.6666666666666666,\"#ed7953\"],[0.7777777777777778,\"#fb9f3a\"],[0.8888888888888888,\"#fdca26\"],[1.0,\"#f0f921\"]]}],\"surface\":[{\"type\":\"surface\",\"colorbar\":{\"outlinewidth\":0,\"ticks\":\"\"},\"colorscale\":[[0.0,\"#0d0887\"],[0.1111111111111111,\"#46039f\"],[0.2222222222222222,\"#7201a8\"],[0.3333333333333333,\"#9c179e\"],[0.4444444444444444,\"#bd3786\"],[0.5555555555555556,\"#d8576b\"],[0.6666666666666666,\"#ed7953\"],[0.7777777777777778,\"#fb9f3a\"],[0.8888888888888888,\"#fdca26\"],[1.0,\"#f0f921\"]]}],\"mesh3d\":[{\"type\":\"mesh3d\",\"colorbar\":{\"outlinewidth\":0,\"ticks\":\"\"}}],\"scatter\":[{\"fillpattern\":{\"fillmode\":\"overlay\",\"size\":10,\"solidity\":0.2},\"type\":\"scatter\"}],\"parcoords\":[{\"type\":\"parcoords\",\"line\":{\"colorbar\":{\"outlinewidth\":0,\"ticks\":\"\"}}}],\"scatterpolargl\":[{\"type\":\"scatterpolargl\",\"marker\":{\"colorbar\":{\"outlinewidth\":0,\"ticks\":\"\"}}}],\"bar\":[{\"error_x\":{\"color\":\"#2a3f5f\"},\"error_y\":{\"color\":\"#2a3f5f\"},\"marker\":{\"line\":{\"color\":\"#E5ECF6\",\"width\":0.5},\"pattern\":{\"fillmode\":\"overlay\",\"size\":10,\"solidity\":0.2}},\"type\":\"bar\"}],\"scattergeo\":[{\"type\":\"scattergeo\",\"marker\":{\"colorbar\":{\"outlinewidth\":0,\"ticks\":\"\"}}}],\"scatterpolar\":[{\"type\":\"scatterpolar\",\"marker\":{\"colorbar\":{\"outlinewidth\":0,\"ticks\":\"\"}}}],\"histogram\":[{\"marker\":{\"pattern\":{\"fillmode\":\"overlay\",\"size\":10,\"solidity\":0.2}},\"type\":\"histogram\"}],\"scattergl\":[{\"type\":\"scattergl\",\"marker\":{\"colorbar\":{\"outlinewidth\":0,\"ticks\":\"\"}}}],\"scatter3d\":[{\"type\":\"scatter3d\",\"line\":{\"colorbar\":{\"outlinewidth\":0,\"ticks\":\"\"}},\"marker\":{\"colorbar\":{\"outlinewidth\":0,\"ticks\":\"\"}}}],\"scattermapbox\":[{\"type\":\"scattermapbox\",\"marker\":{\"colorbar\":{\"outlinewidth\":0,\"ticks\":\"\"}}}],\"scatterternary\":[{\"type\":\"scatterternary\",\"marker\":{\"colorbar\":{\"outlinewidth\":0,\"ticks\":\"\"}}}],\"scattercarpet\":[{\"type\":\"scattercarpet\",\"marker\":{\"colorbar\":{\"outlinewidth\":0,\"ticks\":\"\"}}}],\"carpet\":[{\"aaxis\":{\"endlinecolor\":\"#2a3f5f\",\"gridcolor\":\"white\",\"linecolor\":\"white\",\"minorgridcolor\":\"white\",\"startlinecolor\":\"#2a3f5f\"},\"baxis\":{\"endlinecolor\":\"#2a3f5f\",\"gridcolor\":\"white\",\"linecolor\":\"white\",\"minorgridcolor\":\"white\",\"startlinecolor\":\"#2a3f5f\"},\"type\":\"carpet\"}],\"table\":[{\"cells\":{\"fill\":{\"color\":\"#EBF0F8\"},\"line\":{\"color\":\"white\"}},\"header\":{\"fill\":{\"color\":\"#C8D4E3\"},\"line\":{\"color\":\"white\"}},\"type\":\"table\"}],\"barpolar\":[{\"marker\":{\"line\":{\"color\":\"#E5ECF6\",\"width\":0.5},\"pattern\":{\"fillmode\":\"overlay\",\"size\":10,\"solidity\":0.2}},\"type\":\"barpolar\"}],\"pie\":[{\"automargin\":true,\"type\":\"pie\"}]},\"layout\":{\"autotypenumbers\":\"strict\",\"colorway\":[\"#636efa\",\"#EF553B\",\"#00cc96\",\"#ab63fa\",\"#FFA15A\",\"#19d3f3\",\"#FF6692\",\"#B6E880\",\"#FF97FF\",\"#FECB52\"],\"font\":{\"color\":\"#2a3f5f\"},\"hovermode\":\"closest\",\"hoverlabel\":{\"align\":\"left\"},\"paper_bgcolor\":\"white\",\"plot_bgcolor\":\"#E5ECF6\",\"polar\":{\"bgcolor\":\"#E5ECF6\",\"angularaxis\":{\"gridcolor\":\"white\",\"linecolor\":\"white\",\"ticks\":\"\"},\"radialaxis\":{\"gridcolor\":\"white\",\"linecolor\":\"white\",\"ticks\":\"\"}},\"ternary\":{\"bgcolor\":\"#E5ECF6\",\"aaxis\":{\"gridcolor\":\"white\",\"linecolor\":\"white\",\"ticks\":\"\"},\"baxis\":{\"gridcolor\":\"white\",\"linecolor\":\"white\",\"ticks\":\"\"},\"caxis\":{\"gridcolor\":\"white\",\"linecolor\":\"white\",\"ticks\":\"\"}},\"coloraxis\":{\"colorbar\":{\"outlinewidth\":0,\"ticks\":\"\"}},\"colorscale\":{\"sequential\":[[0.0,\"#0d0887\"],[0.1111111111111111,\"#46039f\"],[0.2222222222222222,\"#7201a8\"],[0.3333333333333333,\"#9c179e\"],[0.4444444444444444,\"#bd3786\"],[0.5555555555555556,\"#d8576b\"],[0.6666666666666666,\"#ed7953\"],[0.7777777777777778,\"#fb9f3a\"],[0.8888888888888888,\"#fdca26\"],[1.0,\"#f0f921\"]],\"sequentialminus\":[[0.0,\"#0d0887\"],[0.1111111111111111,\"#46039f\"],[0.2222222222222222,\"#7201a8\"],[0.3333333333333333,\"#9c179e\"],[0.4444444444444444,\"#bd3786\"],[0.5555555555555556,\"#d8576b\"],[0.6666666666666666,\"#ed7953\"],[0.7777777777777778,\"#fb9f3a\"],[0.8888888888888888,\"#fdca26\"],[1.0,\"#f0f921\"]],\"diverging\":[[0,\"#8e0152\"],[0.1,\"#c51b7d\"],[0.2,\"#de77ae\"],[0.3,\"#f1b6da\"],[0.4,\"#fde0ef\"],[0.5,\"#f7f7f7\"],[0.6,\"#e6f5d0\"],[0.7,\"#b8e186\"],[0.8,\"#7fbc41\"],[0.9,\"#4d9221\"],[1,\"#276419\"]]},\"xaxis\":{\"gridcolor\":\"white\",\"linecolor\":\"white\",\"ticks\":\"\",\"title\":{\"standoff\":15},\"zerolinecolor\":\"white\",\"automargin\":true,\"zerolinewidth\":2},\"yaxis\":{\"gridcolor\":\"white\",\"linecolor\":\"white\",\"ticks\":\"\",\"title\":{\"standoff\":15},\"zerolinecolor\":\"white\",\"automargin\":true,\"zerolinewidth\":2},\"scene\":{\"xaxis\":{\"backgroundcolor\":\"#E5ECF6\",\"gridcolor\":\"white\",\"linecolor\":\"white\",\"showbackground\":true,\"ticks\":\"\",\"zerolinecolor\":\"white\",\"gridwidth\":2},\"yaxis\":{\"backgroundcolor\":\"#E5ECF6\",\"gridcolor\":\"white\",\"linecolor\":\"white\",\"showbackground\":true,\"ticks\":\"\",\"zerolinecolor\":\"white\",\"gridwidth\":2},\"zaxis\":{\"backgroundcolor\":\"#E5ECF6\",\"gridcolor\":\"white\",\"linecolor\":\"white\",\"showbackground\":true,\"ticks\":\"\",\"zerolinecolor\":\"white\",\"gridwidth\":2}},\"shapedefaults\":{\"line\":{\"color\":\"#2a3f5f\"}},\"annotationdefaults\":{\"arrowcolor\":\"#2a3f5f\",\"arrowhead\":0,\"arrowwidth\":1},\"geo\":{\"bgcolor\":\"white\",\"landcolor\":\"#E5ECF6\",\"subunitcolor\":\"white\",\"showland\":true,\"showlakes\":true,\"lakecolor\":\"white\"},\"title\":{\"x\":0.05},\"mapbox\":{\"style\":\"light\"}}},\"xaxis\":{\"anchor\":\"y\",\"domain\":[0.0,1.0],\"scaleanchor\":\"y\",\"constrain\":\"domain\",\"title\":{\"text\":\"Section\"}},\"yaxis\":{\"anchor\":\"x\",\"domain\":[0.0,1.0],\"autorange\":\"reversed\",\"constrain\":\"domain\",\"title\":{\"text\":\"Letter Grade Post-Redemption\"}},\"coloraxis\":{\"colorscale\":[[0.0,\"rgb(196, 230, 195)\"],[0.16666666666666666,\"rgb(150, 210, 164)\"],[0.3333333333333333,\"rgb(109, 188, 144)\"],[0.5,\"rgb(77, 162, 132)\"],[0.6666666666666666,\"rgb(54, 135, 122)\"],[0.8333333333333334,\"rgb(38, 107, 110)\"],[1.0,\"rgb(29, 79, 96)\"]]},\"title\":{\"text\":\"Distribution of Letter Grades by Section\"}},                        {\"responsive\": true}                    ).then(function(){\n",
       "                            \n",
       "var gd = document.getElementById('c49cedd5-3f11-4bae-a7f8-23285578439d');\n",
       "var x = new MutationObserver(function (mutations, observer) {{\n",
       "        var display = window.getComputedStyle(gd).display;\n",
       "        if (!display || display === 'none') {{\n",
       "            console.log([gd, 'removed!']);\n",
       "            Plotly.purge(gd);\n",
       "            observer.disconnect();\n",
       "        }}\n",
       "}});\n",
       "\n",
       "// Listen for the removal of the full notebook cells\n",
       "var notebookContainer = gd.closest('#notebook-container');\n",
       "if (notebookContainer) {{\n",
       "    x.observe(notebookContainer, {childList: true});\n",
       "}}\n",
       "\n",
       "// Listen for the clearing of the current output cell\n",
       "var outputEl = gd.closest('.output');\n",
       "if (outputEl) {{\n",
       "    x.observe(outputEl, {childList: true});\n",
       "}}\n",
       "\n",
       "                        })                };                });            </script>        </div>"
      ]
     },
     "metadata": {},
     "output_type": "display_data"
    }
   ],
   "source": [
    "# Run this cell to see the result, and don't change this cell --- it is needed for the tests.\n",
    "fig = letter_grade_heat_map(grades_analysis)\n",
    "fig.show()"
   ]
  },
  {
   "cell_type": "code",
   "execution_count": 248,
   "metadata": {
    "deletable": false,
    "editable": false
   },
   "outputs": [
    {
     "data": {
      "text/html": [
       "<p><strong><pre style='display: inline;'>q13</pre></strong> passed!</p>"
      ],
      "text/plain": [
       "q13 results: All test cases passed!"
      ]
     },
     "execution_count": 248,
     "metadata": {},
     "output_type": "execute_result"
    }
   ],
   "source": [
    "grader.check(\"q13\")"
   ]
  },
  {
   "cell_type": "markdown",
   "metadata": {},
   "source": [
    "## Congratulations, you've finished Project 1! 🎉\n",
    "\n",
    "As a reminder, all of the work you want to submit needs to be in `project.py` – this notebook should not be uploaded because there are no manually-graded questions in this project.\n",
    "\n",
    "To ensure that all of the work you want to submit is in `project.py`, we've included a script named `project-validation.py` in the project folder. You shouldn't edit it, but instead, you should call it from the command line (e.g. the Terminal) to test your work.\n",
    "\n",
    "Once you've finished the project, you should open the command line and run, in the directory for this project:\n",
    "\n",
    "```\n",
    "python project-validation.py\n",
    "```\n",
    "\n",
    "**This will run all of the `grader.check` cells that you see in this notebook, but only using the code in `project.py` – that is, it doesn't look at any of the code in this notebook. If all of your `grader.check` cells pass in this notebook but not all of them pass in your command line with the above command, then you likely have code in your notebook that isn't in your `project.py`!**\n",
    "\n",
    "You can also use `project-validation.py` to test individual questions. For instance,\n",
    "\n",
    "```\n",
    "python project-validation.py q1 q4 q7 q8\n",
    "```\n",
    "\n",
    "will run the `grader.check` cells for Questions 1, 4, 7, and 8 – again, only using the code in `project.py`.\n",
    "\n",
    "Once `python project-validation.py` shows that you're passing all test cases, you're ready to submit your `project.py` (and only your `project.py`) to Gradescope. Once submitting to Gradescope, make sure to stick around until all test cases pass.\n",
    "\n",
    "There is also a call to `grader.check_all()` below in _this_ notebook, but make sure to also follow the steps above."
   ]
  },
  {
   "cell_type": "markdown",
   "metadata": {
    "deletable": false,
    "editable": false
   },
   "source": [
    "---\n",
    "\n",
    "To double-check your work, the cell below will rerun all of the autograder tests."
   ]
  },
  {
   "cell_type": "code",
   "execution_count": 249,
   "metadata": {
    "deletable": false,
    "editable": false
   },
   "outputs": [
    {
     "data": {
      "text/plain": [
       "q1 results: All test cases passed!\n",
       "\n",
       "q10 results: All test cases passed!\n",
       "\n",
       "q11 results: All test cases passed!\n",
       "\n",
       "q12 results: All test cases passed!\n",
       "\n",
       "q13 results: All test cases passed!\n",
       "\n",
       "q2 results: All test cases passed!\n",
       "\n",
       "q3 results: All test cases passed!\n",
       "\n",
       "q4 results: All test cases passed!\n",
       "\n",
       "q5 results: All test cases passed!\n",
       "\n",
       "q6 results: All test cases passed!\n",
       "\n",
       "q7 results: All test cases passed!\n",
       "\n",
       "q8 results: All test cases passed!\n",
       "\n",
       "q9 results: All test cases passed!"
      ]
     },
     "execution_count": 249,
     "metadata": {},
     "output_type": "execute_result"
    }
   ],
   "source": [
    "grader.check_all()"
   ]
  }
 ],
 "metadata": {
  "kernelspec": {
   "display_name": "Python 3 (ipykernel)",
   "language": "python",
   "name": "python3"
  },
  "language_info": {
   "codemirror_mode": {
    "name": "ipython",
    "version": 3
   },
   "file_extension": ".py",
   "mimetype": "text/x-python",
   "name": "python",
   "nbconvert_exporter": "python",
   "pygments_lexer": "ipython3",
   "version": "3.8.18"
  },
  "otter": {
   "tests": {
    "q1": {
     "name": "q1",
     "points": null,
     "suites": [
      {
       "cases": [
        {
         "code": ">>> out = get_assignment_names(grades)\n>>> out['final'] == ['Final']\nTrue",
         "hidden": false,
         "locked": false,
         "points": 1
        },
        {
         "code": ">>> out = get_assignment_names(grades)\n>>> set(out.keys()) == {'lab', 'project', 'midterm', 'final', 'disc', 'checkpoint'}\nTrue",
         "hidden": false,
         "locked": false,
         "points": 1
        },
        {
         "code": ">>> out = get_assignment_names(grades)\n>>> 'project02' in out['project']\nTrue",
         "hidden": false,
         "locked": false,
         "points": 1
        }
       ],
       "scored": true,
       "setup": "",
       "teardown": "",
       "type": "doctest"
      }
     ]
    },
    "q10": {
     "name": "q10",
     "points": null,
     "suites": [
      {
       "cases": [
        {
         "code": ">>> total_points_post_redemption(grades_combined).dtypes == float\nTrue",
         "hidden": false,
         "locked": false,
         "points": 1
        },
        {
         "code": ">>> isinstance(proportion_improved(grades_combined), float)\nTrue",
         "hidden": false,
         "locked": false,
         "points": 1
        },
        {
         "code": ">>> 0.07 < proportion_improved(grades_combined) < 0.12\nTrue",
         "failure_message": "Check proportion_improved with public grades_combined",
         "hidden": false,
         "locked": false,
         "points": 2
        }
       ],
       "scored": true,
       "setup": "",
       "teardown": "",
       "type": "doctest"
      }
     ]
    },
    "q11": {
     "name": "q11",
     "points": null,
     "suites": [
      {
       "cases": [
        {
         "code": ">>> section_improved = section_most_improved(grades_analysis)\n>>> type(section_improved) == str\nTrue",
         "hidden": false,
         "locked": false,
         "points": 1
        },
        {
         "code": ">>> type(top_sections(grades_analysis, 0.75, 10)) == np.ndarray\nTrue",
         "hidden": false,
         "locked": false,
         "points": 1
        }
       ],
       "scored": true,
       "setup": "",
       "teardown": "",
       "type": "doctest"
      }
     ]
    },
    "q12": {
     "name": "q12",
     "points": null,
     "suites": [
      {
       "cases": [
        {
         "code": ">>> section_rank = rank_by_section(grades_analysis)\n>>> type(section_rank) == pd.core.frame.DataFrame and section_rank.shape == (26, 30)\nTrue",
         "hidden": false,
         "locked": false,
         "points": 1
        },
        {
         "code": ">>> section_rank = rank_by_section(grades_analysis)\n>>> section_rank.isna().sum().sum() == 0 and (section_rank == '').sum().sum() > 0\nTrue",
         "hidden": false,
         "locked": false,
         "points": 1
        }
       ],
       "scored": true,
       "setup": "",
       "teardown": "",
       "type": "doctest"
      }
     ]
    },
    "q13": {
     "name": "q13",
     "points": null,
     "suites": [
      {
       "cases": [
        {
         "code": ">>> str(type(fig)) == \"<class 'plotly.graph_objs._figure.Figure'>\" and fig.data[0].type == 'heatmap'\nTrue",
         "hidden": false,
         "locked": false,
         "points": 0.5
        },
        {
         "code": ">>> fig.layout['title']['text'] == 'Distribution of Letter Grades by Section'\nTrue",
         "hidden": false,
         "locked": false,
         "points": 0.5
        },
        {
         "code": ">>> fig.layout.coloraxis.colorscale != ((0.0, '#0d0887'),\n...  (0.1111111111111111, '#46039f'),\n...  (0.2222222222222222, '#7201a8'),\n...  (0.3333333333333333, '#9c179e'),\n...  (0.4444444444444444, '#bd3786'),\n...  (0.5555555555555556, '#d8576b'),\n...  (0.6666666666666666, '#ed7953'),\n...  (0.7777777777777778, '#fb9f3a'),\n...  (0.8888888888888888, '#fdca26'),\n...  (1.0, '#f0f921'))\nTrue",
         "hidden": false,
         "locked": false,
         "points": 0.5
        },
        {
         "code": ">>> fig.layout.yaxis.title.text is not None\nTrue",
         "hidden": false,
         "locked": false,
         "points": 0.5
        }
       ],
       "scored": true,
       "setup": "",
       "teardown": "",
       "type": "doctest"
      }
     ]
    },
    "q2": {
     "name": "q2",
     "points": null,
     "suites": [
      {
       "cases": [
        {
         "code": ">>> out = projects_total(grades)\n>>> np.all((0 <= out) & (out <= 1))\nTrue",
         "hidden": false,
         "locked": false,
         "points": 1
        },
        {
         "code": ">>> out = projects_total(grades)\n>>> 0.7 < out.mean() < 0.9\nTrue",
         "hidden": false,
         "locked": false,
         "points": 1
        }
       ],
       "scored": true,
       "setup": "",
       "teardown": "",
       "type": "doctest"
      }
     ]
    },
    "q3": {
     "name": "q3",
     "points": null,
     "suites": [
      {
       "cases": [
        {
         "code": ">>> out = lateness_penalty(grades['lab01 - Lateness (H:M:S)'])\n>>> isinstance(out, pd.Series)\nTrue",
         "hidden": false,
         "locked": false,
         "points": 1
        },
        {
         "code": ">>> out = lateness_penalty(grades['lab01 - Lateness (H:M:S)'])\n>>> set(out.unique()) <= {1.0, 0.9, 0.7, 0.4}\nTrue",
         "hidden": false,
         "locked": false,
         "points": 1
        }
       ],
       "scored": true,
       "setup": "",
       "teardown": "",
       "type": "doctest"
      }
     ]
    },
    "q4": {
     "name": "q4",
     "points": null,
     "suites": [
      {
       "cases": [
        {
         "code": ">>> out = process_labs(grades)\n>>> out.columns.tolist() == ['lab%02d' % x for x in range(1, 10)]\nTrue",
         "hidden": false,
         "locked": false,
         "points": 1
        },
        {
         "code": ">>> out = process_labs(grades)\n>>> np.all((0.60 <= out.mean()) & (out.mean() <= 0.90))\nTrue",
         "hidden": false,
         "locked": false,
         "points": 1
        }
       ],
       "scored": true,
       "setup": "",
       "teardown": "",
       "type": "doctest"
      }
     ]
    },
    "q5": {
     "name": "q5",
     "points": null,
     "suites": [
      {
       "cases": [
        {
         "code": ">>> cols = 'lab01 lab02 lab03'.split()\n>>> processed = pd.DataFrame([[0.2, 0.90, 1.0]], index=[0], columns=cols)\n>>> np.isclose(lab_total(processed), 0.95).all()\nTrue",
         "hidden": false,
         "locked": false,
         "points": 1
        }
       ],
       "scored": true,
       "setup": "",
       "teardown": "",
       "type": "doctest"
      }
     ]
    },
    "q6": {
     "name": "q6",
     "points": null,
     "suites": [
      {
       "cases": [
        {
         "code": ">>> out = total_points(grades)\n>>> np.all((0 <= out) & (out <= 1))\nTrue",
         "hidden": false,
         "locked": false,
         "points": 1
        },
        {
         "code": ">>> out = total_points(grades)\n>>> 0.7 < out.mean() < 0.9\nTrue",
         "hidden": false,
         "locked": false,
         "points": 1
        }
       ],
       "scored": true,
       "setup": "",
       "teardown": "",
       "type": "doctest"
      }
     ]
    },
    "q7": {
     "name": "q7",
     "points": null,
     "suites": [
      {
       "cases": [
        {
         "code": ">>> out = final_grades(pd.Series([0.92, 0.81, 0.41]))\n>>> np.all(out == ['A', 'B', 'F'])\nTrue",
         "hidden": false,
         "locked": false,
         "points": 1
        },
        {
         "code": ">>> total = total_points(grades)\n>>> out = letter_proportions(total)\n>>> np.all(out.index == ['B', 'C', 'A', 'D', 'F'])\nTrue",
         "hidden": false,
         "locked": false,
         "points": 1
        },
        {
         "code": ">>> total = total_points(grades)\n>>> out = letter_proportions(total)\n>>> out.sum() == 1.0\nTrue",
         "hidden": false,
         "locked": false,
         "points": 1
        }
       ],
       "scored": true,
       "setup": "",
       "teardown": "",
       "type": "doctest"
      }
     ]
    },
    "q8": {
     "name": "q8",
     "points": null,
     "suites": [
      {
       "cases": [
        {
         "code": ">>> out = raw_redemption(final_breakdown, [1])\n>>> 'PID' in out.columns and 'Raw Redemption Score' in out.columns\nTrue",
         "failure_message": "Check the column names of the DataFrame returned by raw_redemption!",
         "hidden": false,
         "locked": false,
         "points": 1
        },
        {
         "code": ">>> out = combine_grades(grades, raw_redemption(final_breakdown, [1]))\n>>> out.shape == (535, 102) and 'Raw Redemption Score' in out.columns\nTrue",
         "failure_message": "Check the shape of the DataFrame returned by combine_grades!",
         "hidden": false,
         "locked": false,
         "points": 1
        }
       ],
       "scored": true,
       "setup": "",
       "teardown": "",
       "type": "doctest"
      }
     ]
    },
    "q9": {
     "name": "q9",
     "points": null,
     "suites": [
      {
       "cases": [
        {
         "code": ">>> out = z_score(grades['Final'])\n>>> out.dtype == float and out.shape[0] == grades.shape[0]\nTrue",
         "hidden": false,
         "locked": false,
         "points": 1
        },
        {
         "code": ">>> out = add_post_redemption(grades_combined)\n>>> 'Midterm Score Pre-Redemption' in out and 'Midterm Score Post-Redemption' in out\nTrue",
         "hidden": false,
         "locked": false,
         "points": 1
        },
        {
         "code": ">>> out = add_post_redemption(grades_combined)\n>>> np.any(np.isclose(out['Midterm Score Pre-Redemption'], out['Midterm Score Post-Redemption']))\nTrue",
         "failure_message": "Not all students' midterm scores should change!",
         "hidden": false,
         "locked": false,
         "points": 1
        }
       ],
       "scored": true,
       "setup": "",
       "teardown": "",
       "type": "doctest"
      }
     ]
    }
   }
  }
 },
 "nbformat": 4,
 "nbformat_minor": 4
}
